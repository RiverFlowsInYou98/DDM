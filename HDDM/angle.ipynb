{
 "cells": [
  {
   "cell_type": "code",
   "execution_count": 1,
   "metadata": {},
   "outputs": [
    {
     "name": "stderr",
     "output_type": "stream",
     "text": [
      "/users/sliu167/anaconda/hddm/lib/python3.7/site-packages/tqdm/auto.py:21: TqdmWarning: IProgress not found. Please update jupyter and ipywidgets. See https://ipywidgets.readthedocs.io/en/stable/user_install.html\n",
      "  from .autonotebook import tqdm as notebook_tqdm\n"
     ]
    }
   ],
   "source": [
    "from matplotlib import pyplot as plt\n",
    "from hddm.simulators import simulator\n",
    "import hddm\n",
    "import numpy as np\n",
    "import pandas as pd\n",
    "import scipy.sparse as sp\n",
    "import gc\n",
    "import sys\n",
    "\n",
    "sys.path.append(\"../Codes\")\n",
    "from utils import *\n",
    "from chain import *\n"
   ]
  },
  {
   "cell_type": "code",
   "execution_count": 2,
   "metadata": {},
   "outputs": [
    {
     "data": {
      "text/plain": [
       "{'doc': 'Model formulation is described in the documentation under LAN Extension.\\nMeant for use with the extension.',\n",
       " 'params': ['v', 'a', 'z', 't', 'theta'],\n",
       " 'params_trans': [0, 0, 1, 0, 0],\n",
       " 'params_std_upper': [1.5, 1.0, None, 1.0, 1.0],\n",
       " 'param_bounds': [[-3.0, 0.3, 0.1, 0.001, -0.1], [3.0, 3.0, 0.9, 2.0, 1.3]],\n",
       " 'boundary': <function ssms.basic_simulators.boundary_functions.angle(t=1, theta=1)>,\n",
       " 'params_default': [0.0, 1.0, 0.5, 0.001, 0.1],\n",
       " 'hddm_include': ['v', 'a', 't', 'z', 'theta'],\n",
       " 'choices': [-1, 1],\n",
       " 'slice_widths': {'v': 1.5,\n",
       "  'v_std': 1,\n",
       "  'a': 1,\n",
       "  'a_std': 1,\n",
       "  'z': 0.1,\n",
       "  'z_trans': 0.2,\n",
       "  't': 0.01,\n",
       "  't_std': 0.15,\n",
       "  'theta': 0.1,\n",
       "  'theta_std': 0.2}}"
      ]
     },
     "execution_count": 2,
     "metadata": {},
     "output_type": "execute_result"
    }
   ],
   "source": [
    "hddm.model_config.model_config[\"angle\"]\n"
   ]
  },
  {
   "cell_type": "code",
   "execution_count": 3,
   "metadata": {},
   "outputs": [],
   "source": [
    "out = simulator(model=\"angle\", theta=[1.0, 1.5, 0.5, 0.5, 0.0], n_samples=1000)\n"
   ]
  },
  {
   "cell_type": "code",
   "execution_count": 4,
   "metadata": {},
   "outputs": [
    {
     "name": "stdout",
     "output_type": "stream",
     "text": [
      "rts: (1000, 1)\n",
      "choices: (1000, 1)\n",
      "metadata: \n",
      "v: [1.]\n",
      "a: [1.5]\n",
      "z: [0.5]\n",
      "t: [0.5]\n",
      "s: 1.0\n",
      "theta: [0.]\n",
      "delta_t: 0.0010000000474974513\n",
      "max_t: 20.0\n",
      "n_samples: 1000\n",
      "simulator: ddm_flexbound\n",
      "boundary_fun_type: angle\n",
      "possible_choices: [-1, 1]\n",
      "trajectory: [[ 0.0000000e+00]\n",
      " [ 4.3767795e-02]\n",
      " [ 8.3959073e-02]\n",
      " ...\n",
      " [-9.9900000e+02]\n",
      " [-9.9900000e+02]\n",
      " [-9.9900000e+02]]\n",
      "boundary: [1.5 1.5 1.5 ... 1.5 1.5 1.5]\n",
      "model: angle\n"
     ]
    }
   ],
   "source": [
    "# v = 1.0\n",
    "# a = 1.5\n",
    "# z = 0.5\n",
    "# t = 0.5\n",
    "# theta = 0\n",
    "rts, choices, metadata = out\n",
    "print(\"rts: \" + str(rts.shape))\n",
    "print(\"choices: \" + str(choices.shape))\n",
    "print(\"metadata: \")\n",
    "for key in metadata:\n",
    "    print(key, end=\": \")\n",
    "    print(metadata[key])\n"
   ]
  },
  {
   "cell_type": "code",
   "execution_count": 5,
   "metadata": {},
   "outputs": [
    {
     "data": {
      "text/html": [
       "<div>\n",
       "<style scoped>\n",
       "    .dataframe tbody tr th:only-of-type {\n",
       "        vertical-align: middle;\n",
       "    }\n",
       "\n",
       "    .dataframe tbody tr th {\n",
       "        vertical-align: top;\n",
       "    }\n",
       "\n",
       "    .dataframe thead th {\n",
       "        text-align: right;\n",
       "    }\n",
       "</style>\n",
       "<table border=\"1\" class=\"dataframe\">\n",
       "  <thead>\n",
       "    <tr style=\"text-align: right;\">\n",
       "      <th></th>\n",
       "      <th>rt</th>\n",
       "      <th>response</th>\n",
       "      <th>subject</th>\n",
       "    </tr>\n",
       "  </thead>\n",
       "  <tbody>\n",
       "    <tr>\n",
       "      <th>0</th>\n",
       "      <td>2.515036</td>\n",
       "      <td>1.0</td>\n",
       "      <td>0</td>\n",
       "    </tr>\n",
       "    <tr>\n",
       "      <th>1</th>\n",
       "      <td>2.732021</td>\n",
       "      <td>1.0</td>\n",
       "      <td>0</td>\n",
       "    </tr>\n",
       "    <tr>\n",
       "      <th>2</th>\n",
       "      <td>0.982997</td>\n",
       "      <td>1.0</td>\n",
       "      <td>0</td>\n",
       "    </tr>\n",
       "    <tr>\n",
       "      <th>3</th>\n",
       "      <td>2.721021</td>\n",
       "      <td>1.0</td>\n",
       "      <td>0</td>\n",
       "    </tr>\n",
       "    <tr>\n",
       "      <th>4</th>\n",
       "      <td>0.835999</td>\n",
       "      <td>1.0</td>\n",
       "      <td>0</td>\n",
       "    </tr>\n",
       "    <tr>\n",
       "      <th>...</th>\n",
       "      <td>...</td>\n",
       "      <td>...</td>\n",
       "      <td>...</td>\n",
       "    </tr>\n",
       "    <tr>\n",
       "      <th>995</th>\n",
       "      <td>3.997929</td>\n",
       "      <td>1.0</td>\n",
       "      <td>0</td>\n",
       "    </tr>\n",
       "    <tr>\n",
       "      <th>996</th>\n",
       "      <td>3.409971</td>\n",
       "      <td>1.0</td>\n",
       "      <td>0</td>\n",
       "    </tr>\n",
       "    <tr>\n",
       "      <th>997</th>\n",
       "      <td>1.293993</td>\n",
       "      <td>1.0</td>\n",
       "      <td>0</td>\n",
       "    </tr>\n",
       "    <tr>\n",
       "      <th>998</th>\n",
       "      <td>1.490991</td>\n",
       "      <td>1.0</td>\n",
       "      <td>0</td>\n",
       "    </tr>\n",
       "    <tr>\n",
       "      <th>999</th>\n",
       "      <td>1.132995</td>\n",
       "      <td>1.0</td>\n",
       "      <td>0</td>\n",
       "    </tr>\n",
       "  </tbody>\n",
       "</table>\n",
       "<p>1000 rows × 3 columns</p>\n",
       "</div>"
      ],
      "text/plain": [
       "           rt  response  subject\n",
       "0    2.515036       1.0        0\n",
       "1    2.732021       1.0        0\n",
       "2    0.982997       1.0        0\n",
       "3    2.721021       1.0        0\n",
       "4    0.835999       1.0        0\n",
       "..        ...       ...      ...\n",
       "995  3.997929       1.0        0\n",
       "996  3.409971       1.0        0\n",
       "997  1.293993       1.0        0\n",
       "998  1.490991       1.0        0\n",
       "999  1.132995       1.0        0\n",
       "\n",
       "[1000 rows x 3 columns]"
      ]
     },
     "execution_count": 5,
     "metadata": {},
     "output_type": "execute_result"
    }
   ],
   "source": [
    "# Get data into format accepted by hddm package (below)\n",
    "data = pd.DataFrame(\n",
    "    np.stack([np.squeeze(out[0]), np.squeeze(out[1])]).T, columns=[\"rt\", \"response\"]\n",
    ")\n",
    "data[\"subject\"] = 0\n",
    "data\n"
   ]
  },
  {
   "attachments": {},
   "cell_type": "markdown",
   "metadata": {},
   "source": [
    "The original process is a Brownian motion with drift:\n",
    "$$\n",
    "\\mathrm{d}X(t)=\\mu \\mathrm{d}t+\\mathrm{d}W(t)\n",
    "$$\n",
    "integrate it to get\n",
    "$$\n",
    "X(t)=z+\\mu t+W(t)\n",
    "$$\n",
    "So\n",
    "$$\n",
    "X(t) \\text{ hits } \\pm a(t)\\Leftrightarrow W(t)\\text{ hits } \\pm a(t)-z-\\mu t\n",
    "$$\n",
    "#### A Note: \n",
    "The original boundaries are collapsing, using this transformation could lose that simplicity."
   ]
  },
  {
   "cell_type": "code",
   "execution_count": 7,
   "metadata": {},
   "outputs": [],
   "source": [
    "# Get the model\n",
    "lan_angle = hddm.network_inspectors.get_torch_mlp(model=\"angle\")\n"
   ]
  },
  {
   "attachments": {},
   "cell_type": "markdown",
   "metadata": {},
   "source": [
    "#### test 1: Set $\\theta=0$, check if the approximate angle model gives the same results as the previous approximate vanilla drift-diffusion model.\n",
    "\n",
    "Note that the space considered in angle model is $[-a,a]$, while that in DDM and wfpt is $[0, a]$.\n",
    "\n",
    "Also the angle model implements the non-decision time."
   ]
  },
  {
   "attachments": {},
   "cell_type": "markdown",
   "metadata": {},
   "source": [
    "##### 1.a Use the equivilent parameters in the last sanity check"
   ]
  },
  {
   "cell_type": "code",
   "execution_count": 8,
   "metadata": {},
   "outputs": [
    {
     "name": "stdout",
     "output_type": "stream",
     "text": [
      "reference:    0.02547652896815553\n",
      "\n",
      "approx angle: 0.0254767722309908\n",
      "approx ddm:   0.0254767722309908\n",
      "relative err: 0.00095%\n",
      "\n",
      "lan:          0.026572322\n",
      "relative err: 4.30119%\n"
     ]
    }
   ],
   "source": [
    "mu = 0.2\n",
    "a = 2\n",
    "z = 0.5\n",
    "t_nd = 0.5\n",
    "theta = 0\n",
    "mc = MC_Angle(mu=mu, a=a, z=z, t_nd=t_nd, theta=theta, dt=0.001, Nx=80)\n",
    "mc0 = MC_DDM(mu=mu, sigma=1, a=2 * a, z=z, dt=0.001, Nx=80, verbose=False)\n",
    "\n",
    "\n",
    "T = 5.5\n",
    "prob1 = wfpt(T - t_nd, mu, 2 * a, z, 1e-10)\n",
    "prob2 = mc.ExitProb_dp(T=T, s=-mc.a) / mc.dt\n",
    "prob3 = mc0.ExitProb_dp1(T=T - t_nd, s=0) / mc0.dt\n",
    "network_input = np.array([[mu, a, z, t_nd, theta, T, -1]]).astype(np.float32)\n",
    "prob4 = np.exp(lan_angle(network_input))[0, 0]\n",
    "\n",
    "print(\"reference:   \", prob1)\n",
    "print()\n",
    "print(\"approx angle:\", prob2)\n",
    "print(\"approx ddm:  \", prob3)\n",
    "print(\"relative err:\", \"{:.5%}\".format(np.abs(prob1 - prob2) / prob1))\n",
    "print()\n",
    "print(\"lan:         \", prob4)\n",
    "print(\"relative err:\", \"{:.5%}\".format(np.abs(prob1 - prob4) / prob1))\n"
   ]
  },
  {
   "attachments": {},
   "cell_type": "markdown",
   "metadata": {},
   "source": [
    "##### 1.b Use a more realistic parameter set"
   ]
  },
  {
   "cell_type": "code",
   "execution_count": 9,
   "metadata": {},
   "outputs": [
    {
     "name": "stdout",
     "output_type": "stream",
     "text": [
      "reference:    0.031000476614728125\n",
      "\n",
      "approx angle: 0.03108714383963616\n",
      "approx ddm:   0.03108714383963616\n",
      "relative err: 0.27957%\n",
      "\n",
      "lan:          0.029070139\n",
      "relative err: 6.22680%\n",
      "\n",
      "--- With Denser Grid ---\n",
      "reference:    0.031000476614728125\n",
      "\n",
      "approx angle: 0.031008941748519224\n",
      "approx ddm:   0.031008941748519224\n",
      "relative err: 0.02731%\n",
      "\n",
      "lan:          0.029070139\n",
      "relative err: 6.22680%\n"
     ]
    }
   ],
   "source": [
    "mu = 1\n",
    "a = 1.5\n",
    "z = 0.5\n",
    "t = 0.5\n",
    "theta = 0\n",
    "mc = MC_Angle(mu=mu, a=a, z=z, t_nd=t_nd, theta=theta, dt=0.001, Nx=80)\n",
    "mc0 = MC_DDM(mu=mu, sigma=1, a=2 * a, z=z, dt=0.001, Nx=80, verbose=False)\n",
    "T = 1\n",
    "prob1 = wfpt(T - t_nd, mu, 2 * a, z, 1e-10)\n",
    "prob2 = mc.ExitProb_dp(T=T, s=-mc.a) / mc.dt\n",
    "prob3 = mc0.ExitProb_dp1(T=T - t_nd, s=0) / mc0.dt\n",
    "network_input = np.array([[mu, a, z, t_nd, theta, T, -1]]).astype(np.float32)\n",
    "prob4 = np.exp(lan_angle(network_input))[0, 0]\n",
    "\n",
    "print(\"reference:   \", prob1)\n",
    "print()\n",
    "print(\"approx angle:\", prob2)\n",
    "print(\"approx ddm:  \", prob3)\n",
    "print(\"relative err:\", \"{:.5%}\".format(np.abs(prob1 - prob2) / prob1))\n",
    "print()\n",
    "print(\"lan:         \", prob4)\n",
    "print(\"relative err:\", \"{:.5%}\".format(np.abs(prob1 - prob4) / prob1))\n",
    "\n",
    "print()\n",
    "print(\"--- With Denser Grid ---\")\n",
    "mc = MC_Angle(mu=mu, a=a, z=z, t_nd=t_nd, theta=theta, dt=0.0001, Nx=250)\n",
    "mc0 = MC_DDM(mu=mu, sigma=1, a=2 * a, z=z, dt=0.0001, Nx=250, verbose=False)\n",
    "T = 1\n",
    "prob1 = wfpt(T - t_nd, mu, 2 * a, z, 1e-10)\n",
    "prob2 = mc.ExitProb_dp(T=T, s=-mc.a) / mc.dt\n",
    "prob3 = mc0.ExitProb_dp1(T=T - t_nd, s=0) / mc0.dt\n",
    "network_input = np.array([[mu, a, z, t_nd, theta, T, -1]]).astype(np.float32)\n",
    "prob4 = np.exp(lan_angle(network_input))[0, 0]\n",
    "\n",
    "print(\"reference:   \", prob1)\n",
    "print()\n",
    "print(\"approx angle:\", prob2)\n",
    "print(\"approx ddm:  \", prob3)\n",
    "print(\"relative err:\", \"{:.5%}\".format(np.abs(prob1 - prob2) / prob1))\n",
    "print()\n",
    "print(\"lan:         \", prob4)\n",
    "print(\"relative err:\", \"{:.5%}\".format(np.abs(prob1 - prob4) / prob1))\n"
   ]
  },
  {
   "attachments": {},
   "cell_type": "markdown",
   "metadata": {},
   "source": [
    "##### 1.c the same as 1.b, but compute the upper boundary crossing probability instead"
   ]
  },
  {
   "cell_type": "code",
   "execution_count": 10,
   "metadata": {},
   "outputs": [
    {
     "name": "stdout",
     "output_type": "stream",
     "text": [
      "reference:    0.6226612176815376\n",
      "\n",
      "approx angle: 0.6234076077045624\n",
      "approx ddm:   0.6234076077045624\n",
      "relative err: 0.11987%\n",
      "\n",
      "lan:          0.6082513\n",
      "relative err: 2.31425%\n",
      "\n",
      "--- With Denser Grid ---\n",
      "reference:    0.6226612176815376\n",
      "\n",
      "approx angle: 0.62273408987109\n",
      "approx ddm:   0.62273408987109\n",
      "relative err: 0.01170%\n",
      "\n",
      "lan:          0.6082513\n",
      "relative err: 2.31425%\n"
     ]
    }
   ],
   "source": [
    "mu = 1\n",
    "a = 1.5\n",
    "z = 0.5\n",
    "t = 0.5\n",
    "theta = 0\n",
    "mc = MC_Angle(mu=mu, a=a, z=z, t_nd=t_nd, theta=theta, dt=0.001, Nx=80)\n",
    "mc0 = MC_DDM(mu=mu, sigma=1, a=2 * a, z=z, dt=0.001, Nx=80, verbose=False)\n",
    "T = 1\n",
    "prob1 = wfpt(T - t_nd, -mu, 2 * a, 1 - z, 1e-10)\n",
    "prob2 = mc.ExitProb_dp(T=T, s=mc.a) / mc.dt\n",
    "prob3 = mc0.ExitProb_dp1(T=T - t_nd, s=mc0.a) / mc0.dt\n",
    "network_input = np.array([[mu, a, z, t_nd, theta, T, 1]]).astype(np.float32)\n",
    "prob4 = np.exp(lan_angle(network_input))[0, 0]\n",
    "\n",
    "print(\"reference:   \", prob1)\n",
    "print()\n",
    "print(\"approx angle:\", prob2)\n",
    "print(\"approx ddm:  \", prob3)\n",
    "print(\"relative err:\", \"{:.5%}\".format(np.abs(prob1 - prob2) / prob1))\n",
    "print()\n",
    "print(\"lan:         \", prob4)\n",
    "print(\"relative err:\", \"{:.5%}\".format(np.abs(prob1 - prob4) / prob1))\n",
    "\n",
    "print()\n",
    "print(\"--- With Denser Grid ---\")\n",
    "mc = MC_Angle(mu=mu, a=a, z=z, t_nd=t_nd, theta=theta, dt=0.0001, Nx=250)\n",
    "mc0 = MC_DDM(mu=mu, sigma=1, a=2 * a, z=z, dt=0.0001, Nx=250, verbose=False)\n",
    "T = 1\n",
    "prob1 = wfpt(T - t_nd, -mu, 2 * a, 1 - z, 1e-10)\n",
    "prob2 = mc.ExitProb_dp(T=T, s=mc.a) / mc.dt\n",
    "prob3 = mc0.ExitProb_dp1(T=T - t_nd, s=mc0.a) / mc0.dt\n",
    "network_input = np.array([[mu, a, z, t_nd, theta, T, 1]]).astype(np.float32)\n",
    "prob4 = np.exp(lan_angle(network_input))[0, 0]\n",
    "\n",
    "print(\"reference:   \", prob1)\n",
    "print()\n",
    "print(\"approx angle:\", prob2)\n",
    "print(\"approx ddm:  \", prob3)\n",
    "print(\"relative err:\", \"{:.5%}\".format(np.abs(prob1 - prob2) / prob1))\n",
    "print()\n",
    "print(\"lan:         \", prob4)\n",
    "print(\"relative err:\", \"{:.5%}\".format(np.abs(prob1 - prob4) / prob1))"
   ]
  },
  {
   "attachments": {},
   "cell_type": "markdown",
   "metadata": {},
   "source": [
    "##### 1.d plot the first passage time density\n"
   ]
  },
  {
   "cell_type": "code",
   "execution_count": 11,
   "metadata": {},
   "outputs": [],
   "source": [
    "mu = 1\n",
    "a = 1.5\n",
    "z = 0.5\n",
    "t = 0.5\n",
    "theta = 0\n",
    "\n",
    "T_list = np.linspace(0.5+1e-8, 8, 1000)\n",
    "rT_list = np.hstack((T_list, T_list)).reshape(-1, 1)\n",
    "choice_list = np.hstack((np.ones(T_list.shape), -np.ones(T_list.shape))).reshape(-1, 1)\n",
    "para_matrix = np.tile(np.array([mu, a, z, t, 0]), (2000, 1))\n",
    "network_input = np.hstack((para_matrix, rT_list, choice_list)).astype(np.float32)\n",
    "prob4_list = np.exp(lan_angle(network_input))\n",
    "\n",
    "prob1_list = []\n",
    "for T in T_list:\n",
    "    prob1 = wfpt(T - t_nd, -mu, 2 * a, 1-z, 1e-10)\n",
    "    prob1_list.append(prob1)\n",
    "for T in T_list:\n",
    "    prob1 = wfpt(T - t_nd, mu, 2 * a, z, 1e-10)\n",
    "    prob1_list.append(prob1)\n"
   ]
  },
  {
   "cell_type": "code",
   "execution_count": 12,
   "metadata": {},
   "outputs": [
    {
     "data": {
      "image/png": "[encoded data removed]",
      "text/plain": [
       "<Figure size 900x540 with 1 Axes>"
      ]
     },
     "metadata": {},
     "output_type": "display_data"
    }
   ],
   "source": [
    "fig, ax = plt.subplots(figsize=(6, 3.6), dpi=150)\n",
    "ax.plot(network_input[:, -2] * network_input[:, -1], prob4_list, label='LAN', lw=0.8, c='b')\n",
    "ax.plot(network_input[:, -2] * network_input[:, -1], prob1_list, label='wfpt', lw=0.8, c='r')\n",
    "\n",
    "ax.hist(\n",
    "    np.squeeze(out[0]) * np.squeeze(out[1]), histtype=\"step\", bins=40, color=\"black\", density=True\n",
    ")\n",
    "ax.set_xlabel(\"reaction times\")\n",
    "ax.set_ylabel(\"density\")\n",
    "ax.legend()\n",
    "plt.show()"
   ]
  },
  {
   "attachments": {},
   "cell_type": "markdown",
   "metadata": {},
   "source": [
    "#### test 2: For the Angle model with $\\theta\\neq0$"
   ]
  },
  {
   "cell_type": "code",
   "execution_count": 13,
   "metadata": {},
   "outputs": [],
   "source": [
    "mu = 1\n",
    "a = 1.5\n",
    "z = 0.5\n",
    "t_nd = 0.5\n",
    "theta = 0.3\n",
    "out = simulator(model=\"angle\", theta=[mu, a, z, t_nd, theta], n_samples=1000)\n",
    "\n"
   ]
  },
  {
   "cell_type": "code",
   "execution_count": 22,
   "metadata": {},
   "outputs": [
    {
     "name": "stdout",
     "output_type": "stream",
     "text": [
      "0.6000 0.6747 0.7495 0.8242 0.8990 0.9737 1.0485 1.1232 1.1980 1.2727 1.3475 1.4222 1.4970 1.5717 1.6465 1.7212 1.7960 1.8707 1.9455 2.0202 2.0949 2.1697 2.2444 2.3192 2.3939 2.4687 2.5434 2.6182 2.6929 2.7677 2.8424 2.9172 2.9919 3.0667 3.1414 3.2162 3.2909 3.3657 3.4404 3.5152 3.5899 3.6646 3.7394 3.8141 3.8889 3.9636 4.0384 4.1131 4.1879 4.2626 4.3374 4.4121 4.4869 4.5616 4.6364 4.7111 4.7859 4.8606 4.9354 5.0101 5.0848 5.1596 5.2343 5.3091 5.3838 5.4586 5.5333 5.6081 5.6828 5.7576 5.8323 5.9071 5.9818 6.0566 6.1313 6.2061 6.2808 6.3556 6.4303 6.5051 6.5798 6.6545 6.7293 6.8040 6.8788 6.9535 7.0283 7.1030 7.1778 7.2525 7.3273 7.4020 7.4768 7.5515 7.6263 7.7010 7.7758 7.8505 7.9253 8.0000 \n",
      "-0.6000 -0.6747 -0.7495 -0.8242 -0.8990 -0.9737 -1.0485 -1.1232 -1.1980 -1.2727 -1.3475 -1.4222 -1.4970 -1.5717 -1.6465 -1.7212 -1.7960 -1.8707 -1.9455 -2.0202 -2.0949 -2.1697 -2.2444 -2.3192 -2.3939 -2.4687 -2.5434 -2.6182 -2.6929 -2.7677 -2.8424 -2.9172 -2.9919 -3.0667 -3.1414 -3.2162 -3.2909 -3.3657 -3.4404 -3.5152 -3.5899 -3.6646 -3.7394 -3.8141 -3.8889 -3.9636 -4.0384 -4.1131 -4.1879 -4.2626 -4.3374 -4.4121 -4.4869 -4.5616 -4.6364 -4.7111 -4.7859 -4.8606 -4.9354 -5.0101 -5.0848 -5.1596 -5.2343 -5.3091 -5.3838 -5.4586 -5.5333 -5.6081 -5.6828 -5.7576 -5.8323 -5.9071 -5.9818 -6.0566 -6.1313 -6.2061 -6.2808 -6.3556 -6.4303 -6.5051 -6.5798 -6.6545 -6.7293 -6.8040 -6.8788 -6.9535 -7.0283 -7.1030 -7.1778 -7.2525 -7.3273 -7.4020 -7.4768 -7.5515 -7.6263 -7.7010 -7.7758 -7.8505 -7.9253 -8.0000 "
     ]
    }
   ],
   "source": [
    "mc = MC_Angle(mu=mu, a=a, z=z, t_nd=t_nd, theta=theta, dt=0.001, Nx=80)\n",
    "\n",
    "T_list = np.linspace(.6, 8, 100)\n",
    "rT_list = np.hstack((T_list, T_list)).reshape(-1, 1)\n",
    "choice_list = np.hstack((np.ones(T_list.shape), -np.ones(T_list.shape))).reshape(-1, 1)\n",
    "para_matrix = np.tile(np.array([mu, a, z, t_nd, theta]), (200, 1))\n",
    "network_input = np.hstack((para_matrix, rT_list, choice_list)).astype(np.float32)\n",
    "prob4_list = np.exp(lan_angle(network_input))\n",
    "\n",
    "prob2_list = []\n",
    "for T in T_list:\n",
    "    print(\"{:.4f}\".format(T), end=\" \")\n",
    "    prob2 = mc.ExitProb_dp(T=T, s=mc.upper_bdy(T-mc.t_nd)) / mc.dt\n",
    "    prob2_list.append(prob2)\n",
    "    gc.collect()\n",
    "print()\n",
    "for T in T_list:\n",
    "    print(\"{:.4f}\".format(-T), end=\" \")\n",
    "    prob2 = mc.ExitProb_dp(T=T, s=mc.lower_bdy(T-mc.t_nd)) / mc.dt\n",
    "    prob2_list.append(prob2)\n",
    "    gc.collect()\n"
   ]
  },
  {
   "cell_type": "code",
   "execution_count": 24,
   "metadata": {},
   "outputs": [
    {
     "data": {
      "image/png": "[encoded data removed]",
      "text/plain": [
       "<Figure size 900x540 with 1 Axes>"
      ]
     },
     "metadata": {},
     "output_type": "display_data"
    }
   ],
   "source": [
    "sort_idx = np.argsort(network_input[:, -2] * network_input[:, -1])\n",
    "signedT_list = (network_input[:, -2] * network_input[:, -1])[sort_idx]\n",
    "prob4_list = prob4_list[sort_idx]\n",
    "prob2_list = np.array(prob2_list)[sort_idx]\n",
    "\n",
    "fig, ax = plt.subplots(figsize=(6, 3.6), dpi=150)\n",
    "ax.plot(signedT_list, prob4_list, label=\"LAN\", lw=0.8, c=\"b\")\n",
    "ax.plot(signedT_list, prob2_list, label=\"MC approx\", lw=0.8, c=\"r\")\n",
    "\n",
    "# ax.hist(\n",
    "#     np.squeeze(out[0]) * np.squeeze(out[1]),\n",
    "#     histtype=\"step\",\n",
    "#     bins=40,\n",
    "#     color=\"black\",\n",
    "#     density=True,\n",
    "# )\n",
    "ax.set_xlabel(\"reaction times\")\n",
    "ax.set_ylabel(\"density\")\n",
    "ax.legend()\n",
    "plt.show()\n"
   ]
  },
  {
   "cell_type": "code",
   "execution_count": 27,
   "metadata": {},
   "outputs": [
    {
     "name": "stdout",
     "output_type": "stream",
     "text": [
      "0.6000 0.6747 0.7495 0.8242 0.8990 0.9737 1.0485 1.1232 1.1980 1.2727 1.3475 1.4222 1.4970 1.5717 1.6465 1.7212 1.7960 1.8707 1.9455 2.0202 2.0949 2.1697 2.2444 2.3192 2.3939 2.4687 2.5434 2.6182 2.6929 2.7677 2.8424 2.9172 2.9919 3.0667 3.1414 3.2162 3.2909 3.3657 3.4404 3.5152 3.5899 3.6646 3.7394 3.8141 3.8889 3.9636 4.0384 4.1131 4.1879 4.2626 4.3374 4.4121 4.4869 4.5616 4.6364 4.7111 4.7859 4.8606 4.9354 5.0101 5.0848 5.1596 5.2343 5.3091 5.3838 5.4586 5.5333 5.6081 5.6828 5.7576 5.8323 5.9071 5.9818 6.0566 6.1313 6.2061 6.2808 6.3556 6.4303 6.5051 6.5798 6.6545 6.7293 6.8040 6.8788 6.9535 7.0283 7.1030 7.1778 7.2525 7.3273 7.4020 7.4768 7.5515 7.6263 7.7010 7.7758 7.8505 7.9253 8.0000 \n",
      "-0.6000 -0.6747 -0.7495 -0.8242 -0.8990 -0.9737 -1.0485 -1.1232 -1.1980 -1.2727 -1.3475 -1.4222 -1.4970 -1.5717 -1.6465 -1.7212 -1.7960 -1.8707 -1.9455 -2.0202 -2.0949 -2.1697 -2.2444 -2.3192 -2.3939 -2.4687 -2.5434 -2.6182 -2.6929 -2.7677 -2.8424 -2.9172 -2.9919 -3.0667 -3.1414 -3.2162 -3.2909 -3.3657 -3.4404 -3.5152 -3.5899 -3.6646 -3.7394 -3.8141 -3.8889 -3.9636 -4.0384 -4.1131 -4.1879 -4.2626 -4.3374 -4.4121 -4.4869 -4.5616 -4.6364 -4.7111 -4.7859 -4.8606 -4.9354 -5.0101 -5.0848 -5.1596 -5.2343 -5.3091 -5.3838 -5.4586 -5.5333 -5.6081 -5.6828 -5.7576 -5.8323 -5.9071 -5.9818 -6.0566 -6.1313 -6.2061 -6.2808 -6.3556 -6.4303 -6.5051 -6.5798 -6.6545 -6.7293 -6.8040 -6.8788 -6.9535 -7.0283 -7.1030 -7.1778 -7.2525 -7.3273 -7.4020 -7.4768 -7.5515 -7.6263 -7.7010 -7.7758 -7.8505 -7.9253 -8.0000 "
     ]
    }
   ],
   "source": [
    "mc = MC_Angle(mu=mu, a=a, z=z, t_nd=t_nd, theta=theta, dt=0.0002, Nx=200)\n",
    "\n",
    "T_list = np.linspace(.6, 8, 100)\n",
    "rT_list = np.hstack((T_list, T_list)).reshape(-1, 1)\n",
    "choice_list = np.hstack((np.ones(T_list.shape), -np.ones(T_list.shape))).reshape(-1, 1)\n",
    "para_matrix = np.tile(np.array([mu, a, z, t_nd, theta]), (200, 1))\n",
    "network_input = np.hstack((para_matrix, rT_list, choice_list)).astype(np.float32)\n",
    "prob4_list = np.exp(lan_angle(network_input))\n",
    "\n",
    "prob2_list = []\n",
    "for T in T_list:\n",
    "    print(\"{:.4f}\".format(T), end=\" \")\n",
    "    prob2 = mc.ExitProb_dp(T=T, s=mc.upper_bdy(T-mc.t_nd)) / mc.dt\n",
    "    prob2_list.append(prob2)\n",
    "    gc.collect()\n",
    "print()\n",
    "for T in T_list:\n",
    "    print(\"{:.4f}\".format(-T), end=\" \")\n",
    "    prob2 = mc.ExitProb_dp(T=T, s=mc.lower_bdy(T-mc.t_nd)) / mc.dt\n",
    "    prob2_list.append(prob2)\n",
    "    gc.collect()"
   ]
  },
  {
   "cell_type": "code",
   "execution_count": 28,
   "metadata": {},
   "outputs": [
    {
     "data": {
      "image/png": "[encoded data removed]",
      "text/plain": [
       "<Figure size 900x540 with 1 Axes>"
      ]
     },
     "metadata": {},
     "output_type": "display_data"
    }
   ],
   "source": [
    "sort_idx = np.argsort(network_input[:, -2] * network_input[:, -1])\n",
    "signedT_list = (network_input[:, -2] * network_input[:, -1])[sort_idx]\n",
    "prob4_list = prob4_list[sort_idx]\n",
    "prob2_list = np.array(prob2_list)[sort_idx]\n",
    "\n",
    "fig, ax = plt.subplots(figsize=(6, 3.6), dpi=150)\n",
    "ax.plot(signedT_list, prob4_list, label=\"LAN\", lw=0.8, c=\"b\")\n",
    "ax.plot(signedT_list, prob2_list, label=\"MC approx\", lw=0.8, c=\"r\")\n",
    "\n",
    "# ax.hist(\n",
    "#     np.squeeze(out[0]) * np.squeeze(out[1]),\n",
    "#     histtype=\"step\",\n",
    "#     bins=40,\n",
    "#     color=\"black\",\n",
    "#     density=True,\n",
    "# )\n",
    "ax.set_xlabel(\"reaction times\")\n",
    "ax.set_ylabel(\"density\")\n",
    "ax.legend()\n",
    "plt.show()"
   ]
  }
 ],
 "metadata": {
  "kernelspec": {
   "display_name": "Python 3",
   "language": "python",
   "name": "python3"
  },
  "language_info": {
   "codemirror_mode": {
    "name": "ipython",
    "version": 3
   },
   "file_extension": ".py",
   "mimetype": "text/x-python",
   "name": "python",
   "nbconvert_exporter": "python",
   "pygments_lexer": "ipython3",
   "version": "3.7.16"
  },
  "orig_nbformat": 4
 },
 "nbformat": 4,
 "nbformat_minor": 2
}
