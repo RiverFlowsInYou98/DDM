{
 "cells": [
  {
   "cell_type": "code",
   "execution_count": 1,
   "metadata": {},
   "outputs": [
    {
     "name": "stderr",
     "output_type": "stream",
     "text": [
      "/users/sliu167/anaconda/hddm/lib/python3.7/site-packages/tqdm/auto.py:21: TqdmWarning: IProgress not found. Please update jupyter and ipywidgets. See https://ipywidgets.readthedocs.io/en/stable/user_install.html\n",
      "  from .autonotebook import tqdm as notebook_tqdm\n"
     ]
    }
   ],
   "source": [
    "from matplotlib import pyplot as plt\n",
    "from hddm.simulators import simulator\n",
    "import hddm\n",
    "import numpy as np\n",
    "import pandas as pd\n",
    "import scipy.sparse as sp\n",
    "\n",
    "import sys\n",
    "sys.path.append('../Codes')\n",
    "from utils import *\n",
    "from chain import *"
   ]
  },
  {
   "cell_type": "code",
   "execution_count": 2,
   "metadata": {},
   "outputs": [
    {
     "data": {
      "text/plain": [
       "{'doc': 'Model formulation is described in the documentation under LAN Extension.\\nMeant for use with the extension.',\n",
       " 'params': ['v', 'a', 'z', 't', 'theta'],\n",
       " 'params_trans': [0, 0, 1, 0, 0],\n",
       " 'params_std_upper': [1.5, 1.0, None, 1.0, 1.0],\n",
       " 'param_bounds': [[-3.0, 0.3, 0.1, 0.001, -0.1], [3.0, 3.0, 0.9, 2.0, 1.3]],\n",
       " 'boundary': <function ssms.basic_simulators.boundary_functions.angle(t=1, theta=1)>,\n",
       " 'params_default': [0.0, 1.0, 0.5, 0.001, 0.1],\n",
       " 'hddm_include': ['v', 'a', 't', 'z', 'theta'],\n",
       " 'choices': [-1, 1],\n",
       " 'slice_widths': {'v': 1.5,\n",
       "  'v_std': 1,\n",
       "  'a': 1,\n",
       "  'a_std': 1,\n",
       "  'z': 0.1,\n",
       "  'z_trans': 0.2,\n",
       "  't': 0.01,\n",
       "  't_std': 0.15,\n",
       "  'theta': 0.1,\n",
       "  'theta_std': 0.2}}"
      ]
     },
     "execution_count": 2,
     "metadata": {},
     "output_type": "execute_result"
    }
   ],
   "source": [
    "hddm.model_config.model_config['angle']"
   ]
  },
  {
   "cell_type": "code",
   "execution_count": 3,
   "metadata": {},
   "outputs": [],
   "source": [
    "out = simulator(model=\"angle\", theta=[1.0, 1.5, 0.5, 0.5, 0.0], n_samples=1000)"
   ]
  },
  {
   "cell_type": "code",
   "execution_count": 4,
   "metadata": {},
   "outputs": [
    {
     "name": "stdout",
     "output_type": "stream",
     "text": [
      "rts: (1000, 1)\n",
      "choices: (1000, 1)\n",
      "metadata: \n",
      "v: [1.]\n",
      "a: [1.5]\n",
      "z: [0.5]\n",
      "t: [0.5]\n",
      "s: 1.0\n",
      "theta: [0.]\n",
      "delta_t: 0.0010000000474974513\n",
      "max_t: 20.0\n",
      "n_samples: 1000\n",
      "simulator: ddm_flexbound\n",
      "boundary_fun_type: angle\n",
      "possible_choices: [-1, 1]\n",
      "trajectory: [[ 0.000000e+00]\n",
      " [ 2.549782e-02]\n",
      " [ 2.113656e-02]\n",
      " ...\n",
      " [-9.990000e+02]\n",
      " [-9.990000e+02]\n",
      " [-9.990000e+02]]\n",
      "boundary: [1.5 1.5 1.5 ... 1.5 1.5 1.5]\n",
      "model: angle\n"
     ]
    }
   ],
   "source": [
    "# v = 1.0\n",
    "# a = 1.5\n",
    "# z = 0.5\n",
    "# t = 0.5\n",
    "# theta = 0.3 \n",
    "rts, choices, metadata = out\n",
    "print('rts: ' + str(rts.shape))\n",
    "print('choices: ' + str(choices.shape))\n",
    "print('metadata: ')\n",
    "for key in metadata:\n",
    "  print(key, end=\": \")\n",
    "  print(metadata[key])"
   ]
  },
  {
   "cell_type": "code",
   "execution_count": 5,
   "metadata": {},
   "outputs": [
    {
     "data": {
      "image/png": "[encoded data removed]",
      "text/plain": [
       "<Figure size 640x480 with 1 Axes>"
      ]
     },
     "metadata": {},
     "output_type": "display_data"
    }
   ],
   "source": [
    "plt.hist(\n",
    "    np.squeeze(out[0]) * np.squeeze(out[1]), histtype=\"step\", bins=40, color=\"black\", density=True\n",
    ")\n",
    "plt.xlabel(\"reaction times\")\n",
    "plt.ylabel(\"freq\")\n",
    "plt.show()"
   ]
  },
  {
   "cell_type": "code",
   "execution_count": 6,
   "metadata": {},
   "outputs": [
    {
     "data": {
      "text/html": [
       "<div>\n",
       "<style scoped>\n",
       "    .dataframe tbody tr th:only-of-type {\n",
       "        vertical-align: middle;\n",
       "    }\n",
       "\n",
       "    .dataframe tbody tr th {\n",
       "        vertical-align: top;\n",
       "    }\n",
       "\n",
       "    .dataframe thead th {\n",
       "        text-align: right;\n",
       "    }\n",
       "</style>\n",
       "<table border=\"1\" class=\"dataframe\">\n",
       "  <thead>\n",
       "    <tr style=\"text-align: right;\">\n",
       "      <th></th>\n",
       "      <th>rt</th>\n",
       "      <th>response</th>\n",
       "      <th>subject</th>\n",
       "    </tr>\n",
       "  </thead>\n",
       "  <tbody>\n",
       "    <tr>\n",
       "      <th>0</th>\n",
       "      <td>1.593995</td>\n",
       "      <td>1.0</td>\n",
       "      <td>0</td>\n",
       "    </tr>\n",
       "    <tr>\n",
       "      <th>1</th>\n",
       "      <td>1.240994</td>\n",
       "      <td>1.0</td>\n",
       "      <td>0</td>\n",
       "    </tr>\n",
       "    <tr>\n",
       "      <th>2</th>\n",
       "      <td>1.112996</td>\n",
       "      <td>1.0</td>\n",
       "      <td>0</td>\n",
       "    </tr>\n",
       "    <tr>\n",
       "      <th>3</th>\n",
       "      <td>1.837006</td>\n",
       "      <td>1.0</td>\n",
       "      <td>0</td>\n",
       "    </tr>\n",
       "    <tr>\n",
       "      <th>4</th>\n",
       "      <td>4.007928</td>\n",
       "      <td>1.0</td>\n",
       "      <td>0</td>\n",
       "    </tr>\n",
       "    <tr>\n",
       "      <th>...</th>\n",
       "      <td>...</td>\n",
       "      <td>...</td>\n",
       "      <td>...</td>\n",
       "    </tr>\n",
       "    <tr>\n",
       "      <th>995</th>\n",
       "      <td>1.200994</td>\n",
       "      <td>1.0</td>\n",
       "      <td>0</td>\n",
       "    </tr>\n",
       "    <tr>\n",
       "      <th>996</th>\n",
       "      <td>1.764003</td>\n",
       "      <td>1.0</td>\n",
       "      <td>0</td>\n",
       "    </tr>\n",
       "    <tr>\n",
       "      <th>997</th>\n",
       "      <td>2.014015</td>\n",
       "      <td>1.0</td>\n",
       "      <td>0</td>\n",
       "    </tr>\n",
       "    <tr>\n",
       "      <th>998</th>\n",
       "      <td>1.067996</td>\n",
       "      <td>1.0</td>\n",
       "      <td>0</td>\n",
       "    </tr>\n",
       "    <tr>\n",
       "      <th>999</th>\n",
       "      <td>1.339993</td>\n",
       "      <td>1.0</td>\n",
       "      <td>0</td>\n",
       "    </tr>\n",
       "  </tbody>\n",
       "</table>\n",
       "<p>1000 rows × 3 columns</p>\n",
       "</div>"
      ],
      "text/plain": [
       "           rt  response  subject\n",
       "0    1.593995       1.0        0\n",
       "1    1.240994       1.0        0\n",
       "2    1.112996       1.0        0\n",
       "3    1.837006       1.0        0\n",
       "4    4.007928       1.0        0\n",
       "..        ...       ...      ...\n",
       "995  1.200994       1.0        0\n",
       "996  1.764003       1.0        0\n",
       "997  2.014015       1.0        0\n",
       "998  1.067996       1.0        0\n",
       "999  1.339993       1.0        0\n",
       "\n",
       "[1000 rows x 3 columns]"
      ]
     },
     "execution_count": 6,
     "metadata": {},
     "output_type": "execute_result"
    }
   ],
   "source": [
    "# Get data into format accepted by hddm package (below)\n",
    "data = pd.DataFrame(np.stack([np.squeeze(out[0]), np.squeeze(out[1])]).T, columns = ['rt', 'response'])\n",
    "data['subject'] = 0\n",
    "data"
   ]
  },
  {
   "cell_type": "code",
   "execution_count": 7,
   "metadata": {},
   "outputs": [],
   "source": [
    "class approx_dbm(object):\n",
    "    \"\"\"\n",
    "    Markov chain approximation of a Brownian motion with drift\n",
    "    We want to study the first passage time of a 'Brownian motion with drift' to two collapsing boundaries\n",
    "    the boundaries are a - theta * t and -a + theta * t, this is so-called 'Angle' model\n",
    "    \"\"\"\n",
    "\n",
    "    def __init__(self, mu, a, z, t_nd, theta, dt, Nx) -> None:\n",
    "        self.mu = mu # drift coeff\n",
    "        self.a = a  # boundaries start at 'a' and '-a'\n",
    "        self.z = -a + z * (2 * a)  # starting point\n",
    "        self.t_nd = t_nd # non-decision time\n",
    "        self.theta = theta # boundary angle\n",
    "        # boundaries\n",
    "        # in the test case the boundaries are 1.5 - 0.3t and -1.5 + 0.3t\n",
    "        # The boundaries collapse at t=5\n",
    "        self.upper_bdy = lambda t: a - theta * t\n",
    "        self.lower_bdy = lambda t: -a + theta * t\n",
    "        # space and time discretization\n",
    "        self.dt = dt\n",
    "        self.Nx = Nx  # num of space steps\n",
    "        dx = (2 * a) / Nx \n",
    "        self.dx = dx\n",
    "        # starting point and initial distribution\n",
    "        self.idx_z = self.pos2idx(self.z)  # index of starting point\n",
    "        self.init_dist = np.zeros(self.Nx + 2)\n",
    "        self.init_dist[self.idx_z] = 1\n",
    "        # transitional probabilities\n",
    "        m1 = mu * dt\n",
    "        m2 = (mu * dt) ** 2 + self.dt\n",
    "        self.p1 = (m2 / dx ** 2 + m1 / dx) / 2\n",
    "        self.p2 = (m2 / dx ** 2 - m1 / dx) / 2\n",
    "        assert self.p1 + self.p2 < 1, \"p+=%.5f, p0=%.5f, p-=%.5f\" % (\n",
    "            self.p1,\n",
    "            1 - self.p1 - self.p2,\n",
    "            self.p2,\n",
    "        )\n",
    "        self.Update_AdjMat(t_nd)\n",
    "    \n",
    "    def pos2idx(self, x):\n",
    "        \"\"\"\n",
    "        find the nearest spatial grid point of 'x'\n",
    "        return the index\n",
    "        \"\"\"\n",
    "        return int(round((x+self.a) / self.dx))\n",
    "    \n",
    "    def Update_AdjMat(self, t):\n",
    "        \"\"\"\n",
    "        inhomogeneous transition probability matrix\n",
    "        0, 1, ..., Nx are transient states\n",
    "        Nx+1 is the absorbing state\n",
    "        arguments:\n",
    "        t - time\n",
    "        endpoints: the jumping times of the current sample path\n",
    "        \"\"\"\n",
    "        AdjMat = sp.dok_matrix((self.Nx + 2, self.Nx + 2))\n",
    "        upper_idx = self.pos2idx(self.upper_bdy(t))\n",
    "        lower_idx = self.pos2idx(self.lower_bdy(t))\n",
    "        nz_dict = {\n",
    "            # (lower_idx, self.Nx + 1): 1,\n",
    "            # (upper_idx, self.Nx + 1): 1,\n",
    "            (self.Nx + 1, self.Nx + 1): 1,\n",
    "        }\n",
    "        for i in range(lower_idx + 1):\n",
    "            nz_dict[(i, self.Nx + 1)] = 1\n",
    "        for i in range(upper_idx, self.Nx+1):\n",
    "            nz_dict[(i, self.Nx + 1)] = 1\n",
    "        for i in range(lower_idx + 1, upper_idx):\n",
    "            nz_dict[(i, i - 1)] = self.p2\n",
    "            nz_dict[(i, i)] = 1 - self.p1 - self.p2\n",
    "            nz_dict[(i, i + 1)] = self.p1\n",
    "        dict.update(AdjMat, nz_dict)\n",
    "        self.AdjMat = sp.csr_matrix(AdjMat)\n",
    "\n",
    "    def ExitDist(self, T):\n",
    "        \"\"\"\n",
    "        compute the full distribution of X[T]\n",
    "        where T is the first passage time\n",
    "        by MATRIX MULTIPLICATION\n",
    "        \"\"\"\n",
    "        T = T - self.t_nd\n",
    "        dist_Xt = self.init_dist\n",
    "        idx_T = int(round(T / self.dt))\n",
    "        for t_step in range(idx_T):\n",
    "            self.Update_AdjMat(t_step * self.dt)\n",
    "            dist_Xt = dist_Xt @ self.AdjMat\n",
    "        return dist_Xt\n",
    "\n",
    "    def ExitProb_dp(self, T, s):\n",
    "        \"\"\"\n",
    "        compute the probability of P(X[T]=s)\n",
    "        where t is the first passage time\n",
    "        by DYNAMIC PROGRAMMING based on SPARSE ADJACENCY MATRIX\n",
    "        s: value in [-a, a]\n",
    "        \"\"\"\n",
    "        T = T - self.t_nd\n",
    "        idx_T = int(round(T / self.dt))\n",
    "        idx_s = self.pos2idx(s)\n",
    "        table = np.zeros((self.Nx + 2, idx_T))\n",
    "        self.Update_AdjMat((idx_T - 1) * self.dt)\n",
    "        table[:, [idx_T - 1]] = self.AdjMat[:, [idx_s]].toarray()\n",
    "        for t_step in range(idx_T - 2, -1, -1):\n",
    "            self.Update_AdjMat(t_step * self.dt)\n",
    "            table[:, [t_step]] = self.AdjMat @ table[:, [t_step + 1]]\n",
    "        return table[:, 0] @ self.init_dist\n",
    "\n",
    "    def ExitProb_logdp(self, T, s):\n",
    "        \"\"\"\n",
    "        compute the probability of P(X[T]=s) with a EXP scaling\n",
    "        where t is the first passage time\n",
    "        by DYNAMIC PROGRAMMING based on ADJACENCY MATRIX\n",
    "        s: value in [-a, a]\n",
    "        \"\"\"\n",
    "        T = T - self.t_nd\n",
    "        idx_T = int(round(T / self.dt))\n",
    "        idx_s = self.pos2idx(s)\n",
    "        scaled_table = np.zeros((self.Nx + 2, idx_T))\n",
    "        r = 0\n",
    "        self.Update_AdjMat((idx_T - 1) * self.dt)\n",
    "        scaled_table[:, [idx_T - 1]] = self.AdjMat[:, [idx_s]].toarray() / np.exp(r)\n",
    "        for t_step in range(idx_T - 2, -1, -1):\n",
    "            self.Update_AdjMat(t_step * self.dt)\n",
    "            b = np.sum(self.AdjMat @ scaled_table[:, [t_step + 1]])\n",
    "            r = r + np.log(b)\n",
    "            scaled_table[:, [t_step]] = self.AdjMat @ scaled_table[:, [t_step + 1]] / b\n",
    "        return scaled_table[:, 0] * np.exp(r) @ self.init_dist\n"
   ]
  },
  {
   "attachments": {},
   "cell_type": "markdown",
   "metadata": {},
   "source": [
    "The original process is a Brownian motion with drift:\n",
    "$$\n",
    "\\mathrm{d}X(t)=\\mu \\mathrm{d}t+\\mathrm{d}W(t)\n",
    "$$\n",
    "integrate it to get\n",
    "$$\n",
    "X(t)=z+\\mu t+W(t)\n",
    "$$\n",
    "So\n",
    "$$\n",
    "X(t) \\text{ hits } \\pm a(t)\\Leftrightarrow W(t)\\text{ hits } \\pm a(t)-z-\\mu t\n",
    "$$\n",
    "#### A Note: \n",
    "The original boundaries are collapsing, using this transformation could lose that simplicity."
   ]
  },
  {
   "cell_type": "code",
   "execution_count": 8,
   "metadata": {},
   "outputs": [],
   "source": [
    "# Get the model\n",
    "lan_angle = hddm.network_inspectors.get_torch_mlp(model='angle')"
   ]
  },
  {
   "attachments": {},
   "cell_type": "markdown",
   "metadata": {},
   "source": [
    "#### test 1: Set $\\theta=0$, check if the approximate angle model gives the same results as the previous approximate vanilla drift-diffusion model.\n",
    "\n",
    "Note that the space considered in angle model is $[-a,a]$, while that in DDM and wfpt is $[0, a]$.\n",
    "\n",
    "Also the angle model implements the non-decision time."
   ]
  },
  {
   "attachments": {},
   "cell_type": "markdown",
   "metadata": {},
   "source": [
    "##### 1.a Use the equivilent parameters in the last sanity check"
   ]
  },
  {
   "cell_type": "code",
   "execution_count": 9,
   "metadata": {},
   "outputs": [
    {
     "name": "stdout",
     "output_type": "stream",
     "text": [
      "reference:    0.02547652896815553\n",
      "\n",
      "approx angle: 0.0254767722309908\n",
      "approx ddm:   0.0254767722309908\n",
      "relative err: 0.00095%\n",
      "\n",
      "lan:          0.026572322\n",
      "relative err: 4.30119%\n"
     ]
    }
   ],
   "source": [
    "mu = 0.2\n",
    "a = 2\n",
    "z = 0.5\n",
    "t_nd = 0.5\n",
    "theta = 0\n",
    "mc = approx_dbm(mu=mu, a=a, z=z, t_nd=t_nd, theta=theta, dt=0.001, Nx=80)\n",
    "mc0 = approx_hmc(mu=mu, sigma=1, a=2 * a, z=z, dt=0.001, Nx=80, verbose=False)\n",
    "\n",
    "\n",
    "T = 5.5\n",
    "prob1 = wfpt(T - t_nd, mu, 2 * a, z, 1e-10)\n",
    "prob2 = mc.ExitProb_dp(T=T, s=-mc.a) / mc.dt\n",
    "prob3 = mc0.ExitProb_dp1(T=T - t_nd, s=0) / mc0.dt\n",
    "network_input = np.array([[mu, a, z, t_nd, theta, T, -1]]).astype(np.float32)\n",
    "prob4 = np.exp(lan_angle(network_input))[0,0]\n",
    "\n",
    "print(\"reference:   \", prob1)\n",
    "print()\n",
    "print(\"approx angle:\", prob2)\n",
    "print(\"approx ddm:  \", prob3)\n",
    "print(\"relative err:\", \"{:.5%}\".format(np.abs(prob1 - prob2) / prob1))\n",
    "print()\n",
    "print(\"lan:         \", prob4)\n",
    "print(\"relative err:\", \"{:.5%}\".format(np.abs(prob1 - prob4) / prob1))\n"
   ]
  },
  {
   "attachments": {},
   "cell_type": "markdown",
   "metadata": {},
   "source": [
    "##### 1.b Use a more realistic parameter set"
   ]
  },
  {
   "cell_type": "code",
   "execution_count": 12,
   "metadata": {},
   "outputs": [
    {
     "name": "stdout",
     "output_type": "stream",
     "text": [
      "reference:    0.031000476614728125\n",
      "\n",
      "approx angle: 0.03108714383963616\n",
      "approx ddm:   0.03108714383963616\n",
      "relative err: 0.27957%\n",
      "\n",
      "lan:          0.029070139\n",
      "relative err: 6.22680%\n",
      "\n",
      "--- With Denser Grid ---\n",
      "reference:    0.031000476614728125\n",
      "\n",
      "approx angle: 0.031008941748519224\n",
      "approx ddm:   0.031008941748519224\n",
      "relative err: 0.02731%\n",
      "\n",
      "lan:          0.029070139\n",
      "relative err: 6.22680%\n"
     ]
    }
   ],
   "source": [
    "mu = 1\n",
    "a = 1.5\n",
    "z = 0.5\n",
    "t = 0.5\n",
    "theta = 0\n",
    "mc = approx_dbm(mu=mu, a=a, z=z, t_nd=t_nd, theta=theta, dt=0.001, Nx=80)\n",
    "mc0 = approx_hmc(mu=mu, sigma=1, a=2 * a, z=z, dt=0.001, Nx=80, verbose=False)\n",
    "T = 1\n",
    "prob1 = wfpt(T - t_nd, mu, 2 * a, z, 1e-10)\n",
    "prob2 = mc.ExitProb_dp(T=T, s=-mc.a) / mc.dt\n",
    "prob3 = mc0.ExitProb_dp1(T=T - t_nd, s=0) / mc0.dt\n",
    "network_input = np.array([[mu, a, z, t_nd, theta, T, -1]]).astype(np.float32)\n",
    "prob4 = np.exp(lan_angle(network_input))[0,0]\n",
    "\n",
    "print(\"reference:   \", prob1)\n",
    "print()\n",
    "print(\"approx angle:\", prob2)\n",
    "print(\"approx ddm:  \", prob3)\n",
    "print(\"relative err:\", \"{:.5%}\".format(np.abs(prob1 - prob2) / prob1))\n",
    "print()\n",
    "print(\"lan:         \", prob4)\n",
    "print(\"relative err:\", \"{:.5%}\".format(np.abs(prob1 - prob4) / prob1))\n",
    "\n",
    "print()\n",
    "print(\"--- With Denser Grid ---\")\n",
    "mc = approx_dbm(mu=mu, a=a, z=z, t_nd=t_nd, theta=theta, dt=0.0001, Nx=250)\n",
    "mc0 = approx_hmc(mu=mu, sigma=1, a=2 * a, z=z, dt=0.0001, Nx=250, verbose=False)\n",
    "T = 1\n",
    "prob1 = wfpt(T - t_nd, mu, 2 * a, z, 1e-10)\n",
    "prob2 = mc.ExitProb_dp(T=T, s=-mc.a) / mc.dt\n",
    "prob3 = mc0.ExitProb_dp1(T=T - t_nd, s=0) / mc0.dt\n",
    "network_input = np.array([[mu, a, z, t_nd, theta, T, -1]]).astype(np.float32)\n",
    "prob4 = np.exp(lan_angle(network_input))[0,0]\n",
    "\n",
    "print(\"reference:   \", prob1)\n",
    "print()\n",
    "print(\"approx angle:\", prob2)\n",
    "print(\"approx ddm:  \", prob3)\n",
    "print(\"relative err:\", \"{:.5%}\".format(np.abs(prob1 - prob2) / prob1))\n",
    "print()\n",
    "print(\"lan:         \", prob4)\n",
    "print(\"relative err:\", \"{:.5%}\".format(np.abs(prob1 - prob4) / prob1))\n"
   ]
  },
  {
   "attachments": {},
   "cell_type": "markdown",
   "metadata": {},
   "source": [
    "##### 1.c the same as 1.b, but compute the upper boundary crossing probability instead"
   ]
  },
  {
   "cell_type": "code",
   "execution_count": 13,
   "metadata": {},
   "outputs": [
    {
     "name": "stdout",
     "output_type": "stream",
     "text": [
      "reference:    0.6226612176815376\n",
      "\n",
      "approx angle: 0.6234076077045624\n",
      "approx ddm:   0.6234076077045624\n",
      "relative err: 0.11987%\n",
      "\n",
      "lan:          0.6082513\n",
      "relative err: 2.31425%\n",
      "\n",
      "--- With Denser Grid ---\n",
      "reference:    0.6226612176815376\n",
      "\n",
      "approx angle: 0.62273408987109\n",
      "approx ddm:   0.62273408987109\n",
      "relative err: 0.01170%\n",
      "\n",
      "lan:          0.6082513\n",
      "relative err: 2.31425%\n"
     ]
    }
   ],
   "source": [
    "mu = 1\n",
    "a = 1.5\n",
    "z = 0.5\n",
    "t = 0.5\n",
    "theta = 0\n",
    "mc = approx_dbm(mu=mu, a=a, z=z, t_nd=t_nd, theta=theta, dt=0.001, Nx=80)\n",
    "mc0 = approx_hmc(mu=mu, sigma=1, a=2 * a, z=z, dt=0.001, Nx=80, verbose=False)\n",
    "T = 1\n",
    "prob1 = wfpt(T - t_nd, -mu, 2 * a, 1-z, 1e-10)\n",
    "prob2 = mc.ExitProb_dp(T=T, s=mc.a) / mc.dt\n",
    "prob3 = mc0.ExitProb_dp1(T=T - t_nd, s=mc0.a) / mc0.dt\n",
    "network_input = np.array([[mu, a, z, t_nd, theta, T, 1]]).astype(np.float32)\n",
    "prob4 = np.exp(lan_angle(network_input))[0,0]\n",
    "\n",
    "print(\"reference:   \", prob1)\n",
    "print()\n",
    "print(\"approx angle:\", prob2)\n",
    "print(\"approx ddm:  \", prob3)\n",
    "print(\"relative err:\", \"{:.5%}\".format(np.abs(prob1 - prob2) / prob1))\n",
    "print()\n",
    "print(\"lan:         \", prob4)\n",
    "print(\"relative err:\", \"{:.5%}\".format(np.abs(prob1 - prob4) / prob1))\n",
    "\n",
    "print()\n",
    "print(\"--- With Denser Grid ---\")\n",
    "mc = approx_dbm(mu=mu, a=a, z=z, t_nd=t_nd, theta=theta, dt=0.0001, Nx=250)\n",
    "mc0 = approx_hmc(mu=mu, sigma=1, a=2 * a, z=z, dt=0.0001, Nx=250, verbose=False)\n",
    "T = 1\n",
    "prob1 = wfpt(T - t_nd, -mu, 2 * a, 1-z, 1e-10)\n",
    "prob2 = mc.ExitProb_dp(T=T, s=mc.a) / mc.dt\n",
    "prob3 = mc0.ExitProb_dp1(T=T - t_nd, s=mc0.a) / mc0.dt\n",
    "network_input = np.array([[mu, a, z, t_nd, theta, T, 1]]).astype(np.float32)\n",
    "prob4 = np.exp(lan_angle(network_input))[0,0]\n",
    "\n",
    "print(\"reference:   \", prob1)\n",
    "print()\n",
    "print(\"approx angle:\", prob2)\n",
    "print(\"approx ddm:  \", prob3)\n",
    "print(\"relative err:\", \"{:.5%}\".format(np.abs(prob1 - prob2) / prob1))\n",
    "print()\n",
    "print(\"lan:         \", prob4)\n",
    "print(\"relative err:\", \"{:.5%}\".format(np.abs(prob1 - prob4) / prob1))"
   ]
  },
  {
   "attachments": {},
   "cell_type": "markdown",
   "metadata": {},
   "source": [
    "##### 1.d plot the first passage time density\n"
   ]
  },
  {
   "cell_type": "code",
   "execution_count": 28,
   "metadata": {},
   "outputs": [],
   "source": [
    "mu = 1\n",
    "a = 1.5\n",
    "z = 0.5\n",
    "t = 0.5\n",
    "theta = 0\n",
    "\n",
    "T_list = np.linspace(0.5+1e-8, 10, 1000)\n",
    "T_list = np.hstack()\n",
    "prob1_list = []\n",
    "for T in T_list:\n",
    "    prob1 = wfpt(T - t_nd, -mu, 2 * a, 1-z, 1e-10)\n",
    "    prob1_list.append(prob1)\n",
    "    \n",
    "network_input = np.array([[mu, a, z, t_nd, theta, T, 1]]).astype(np.float32)\n",
    "prob4 = np.exp(lan_angle(network_input))[0,0]\n",
    "prob1_list.append(prob1)\n",
    "prob4_list.append(prob4)"
   ]
  },
  {
   "cell_type": "code",
   "execution_count": 42,
   "metadata": {},
   "outputs": [
    {
     "ename": "ValueError",
     "evalue": "all the input array dimensions for the concatenation axis must match exactly, but along dimension 1, the array at index 0 has size 5 and the array at index 1 has size 1",
     "output_type": "error",
     "traceback": [
      "\u001b[0;31m---------------------------------------------------------------------------\u001b[0m",
      "\u001b[0;31mValueError\u001b[0m                                Traceback (most recent call last)",
      "\u001b[0;32m/tmp/ipykernel_101622/1737879627.py\u001b[0m in \u001b[0;36m<module>\u001b[0;34m\u001b[0m\n\u001b[1;32m      2\u001b[0m \u001b[0mrT_list\u001b[0m \u001b[0;34m=\u001b[0m \u001b[0mnp\u001b[0m\u001b[0;34m.\u001b[0m\u001b[0mhstack\u001b[0m\u001b[0;34m(\u001b[0m\u001b[0;34m(\u001b[0m\u001b[0mT_list\u001b[0m\u001b[0;34m,\u001b[0m \u001b[0mT_list\u001b[0m\u001b[0;34m)\u001b[0m\u001b[0;34m)\u001b[0m\u001b[0;34m.\u001b[0m\u001b[0mreshape\u001b[0m\u001b[0;34m(\u001b[0m\u001b[0;34m-\u001b[0m\u001b[0;36m1\u001b[0m\u001b[0;34m,\u001b[0m \u001b[0;36m1\u001b[0m\u001b[0;34m)\u001b[0m\u001b[0;34m\u001b[0m\u001b[0;34m\u001b[0m\u001b[0m\n\u001b[1;32m      3\u001b[0m \u001b[0mchoice_list\u001b[0m \u001b[0;34m=\u001b[0m \u001b[0mnp\u001b[0m\u001b[0;34m.\u001b[0m\u001b[0mhstack\u001b[0m\u001b[0;34m(\u001b[0m\u001b[0;34m(\u001b[0m\u001b[0mnp\u001b[0m\u001b[0;34m.\u001b[0m\u001b[0mones\u001b[0m\u001b[0;34m(\u001b[0m\u001b[0mT\u001b[0m\u001b[0;34m.\u001b[0m\u001b[0mshape\u001b[0m\u001b[0;34m)\u001b[0m\u001b[0;34m,\u001b[0m \u001b[0;34m-\u001b[0m\u001b[0mnp\u001b[0m\u001b[0;34m.\u001b[0m\u001b[0mones\u001b[0m\u001b[0;34m(\u001b[0m\u001b[0mT\u001b[0m\u001b[0;34m.\u001b[0m\u001b[0mshape\u001b[0m\u001b[0;34m)\u001b[0m\u001b[0;34m)\u001b[0m\u001b[0;34m)\u001b[0m\u001b[0;34m.\u001b[0m\u001b[0mreshape\u001b[0m\u001b[0;34m(\u001b[0m\u001b[0;34m-\u001b[0m\u001b[0;36m1\u001b[0m\u001b[0;34m,\u001b[0m \u001b[0;36m1\u001b[0m\u001b[0;34m)\u001b[0m\u001b[0;34m\u001b[0m\u001b[0;34m\u001b[0m\u001b[0m\n\u001b[0;32m----> 4\u001b[0;31m \u001b[0mnetwork_input\u001b[0m \u001b[0;34m=\u001b[0m \u001b[0mnp\u001b[0m\u001b[0;34m.\u001b[0m\u001b[0mvstack\u001b[0m\u001b[0;34m(\u001b[0m\u001b[0;34m(\u001b[0m\u001b[0mpara_matrix\u001b[0m\u001b[0;34m,\u001b[0m \u001b[0mrT_list\u001b[0m\u001b[0;34m,\u001b[0m \u001b[0mchoice_list\u001b[0m\u001b[0;34m)\u001b[0m\u001b[0;34m)\u001b[0m\u001b[0;34m\u001b[0m\u001b[0;34m\u001b[0m\u001b[0m\n\u001b[0m",
      "\u001b[0;32m<__array_function__ internals>\u001b[0m in \u001b[0;36mvstack\u001b[0;34m(*args, **kwargs)\u001b[0m\n",
      "\u001b[0;32m~/anaconda/hddm/lib/python3.7/site-packages/numpy/core/shape_base.py\u001b[0m in \u001b[0;36mvstack\u001b[0;34m(tup)\u001b[0m\n\u001b[1;32m    280\u001b[0m     \u001b[0;32mif\u001b[0m \u001b[0;32mnot\u001b[0m \u001b[0misinstance\u001b[0m\u001b[0;34m(\u001b[0m\u001b[0marrs\u001b[0m\u001b[0;34m,\u001b[0m \u001b[0mlist\u001b[0m\u001b[0;34m)\u001b[0m\u001b[0;34m:\u001b[0m\u001b[0;34m\u001b[0m\u001b[0;34m\u001b[0m\u001b[0m\n\u001b[1;32m    281\u001b[0m         \u001b[0marrs\u001b[0m \u001b[0;34m=\u001b[0m \u001b[0;34m[\u001b[0m\u001b[0marrs\u001b[0m\u001b[0;34m]\u001b[0m\u001b[0;34m\u001b[0m\u001b[0;34m\u001b[0m\u001b[0m\n\u001b[0;32m--> 282\u001b[0;31m     \u001b[0;32mreturn\u001b[0m \u001b[0m_nx\u001b[0m\u001b[0;34m.\u001b[0m\u001b[0mconcatenate\u001b[0m\u001b[0;34m(\u001b[0m\u001b[0marrs\u001b[0m\u001b[0;34m,\u001b[0m \u001b[0;36m0\u001b[0m\u001b[0;34m)\u001b[0m\u001b[0;34m\u001b[0m\u001b[0;34m\u001b[0m\u001b[0m\n\u001b[0m\u001b[1;32m    283\u001b[0m \u001b[0;34m\u001b[0m\u001b[0m\n\u001b[1;32m    284\u001b[0m \u001b[0;34m\u001b[0m\u001b[0m\n",
      "\u001b[0;32m<__array_function__ internals>\u001b[0m in \u001b[0;36mconcatenate\u001b[0;34m(*args, **kwargs)\u001b[0m\n",
      "\u001b[0;31mValueError\u001b[0m: all the input array dimensions for the concatenation axis must match exactly, but along dimension 1, the array at index 0 has size 5 and the array at index 1 has size 1"
     ]
    }
   ],
   "source": [
    "T_list = np.linspace(0.5+1e-8, 10, 1000)\n",
    "rT_list = np.hstack((T_list, T_list)).reshape(-1, 1)\n",
    "choice_list = np.hstack((np.ones(T.shape), -np.ones(T.shape))).reshape(-1, 1)\n",
    "network_input = np.vstack((para_matrix, rT_list, choice_list))"
   ]
  },
  {
   "cell_type": "code",
   "execution_count": 40,
   "metadata": {},
   "outputs": [
    {
     "data": {
      "text/plain": [
       "(2000,)"
      ]
     },
     "execution_count": 40,
     "metadata": {},
     "output_type": "execute_result"
    }
   ],
   "source": [
    "rT_list.shape"
   ]
  },
  {
   "cell_type": "code",
   "execution_count": null,
   "metadata": {},
   "outputs": [],
   "source": [
    "# Initialize network input\n",
    "network_input = np.zeros(\n",
    "    (parameter_matrix.shape[0], parameter_matrix.shape[1] + 2)\n",
    ")  # Note the + 2 on the right --> we append the parameter vectors with reaction times (+1 columns) and choices (+1 columns)\n",
    "\n",
    "# Add reaction times\n",
    "network_input[:, -2] = np.linspace(0, 3, parameter_matrix.shape[0])\n",
    "\n",
    "# Add choices\n",
    "network_input[:, -1] = np.repeat(np.random.choice([-1, 1]), parameter_matrix.shape[0])\n",
    "\n",
    "# Note: The networks expects float32 inputs\n",
    "network_input = network_input.astype(np.float32)\n",
    "\n",
    "network_input.shape"
   ]
  },
  {
   "cell_type": "code",
   "execution_count": 38,
   "metadata": {},
   "outputs": [
    {
     "data": {
      "text/plain": [
       "(2000, 5)"
      ]
     },
     "execution_count": 38,
     "metadata": {},
     "output_type": "execute_result"
    }
   ],
   "source": [
    "para_matrix = np.tile(np.array([mu, a, z, t, 0]), (2000, 1))\n",
    "para_matrix.shape"
   ]
  },
  {
   "cell_type": "code",
   "execution_count": null,
   "metadata": {},
   "outputs": [],
   "source": [
    "network_input = np.zeros((para_matrix.shape[0], para_matrix.shape[1] + 2))\n",
    "network_input[:, -2] = np.linspace(0, 3, parameter_matrix.shape[0])\n",
    "network_input[:, -1] = np.repeat(np.random.choice([-1, 1]), parameter_matrix.shape[0])\n",
    "network_input = network_input.astype(np.float32)\n",
    "\n",
    "network_input.shape"
   ]
  },
  {
   "cell_type": "code",
   "execution_count": 29,
   "metadata": {},
   "outputs": [
    {
     "ename": "ValueError",
     "evalue": "x and y must have same first dimension, but have shapes (1000,) and (1001,)",
     "output_type": "error",
     "traceback": [
      "\u001b[0;31m---------------------------------------------------------------------------\u001b[0m",
      "\u001b[0;31mValueError\u001b[0m                                Traceback (most recent call last)",
      "\u001b[0;32m/tmp/ipykernel_101622/3965661172.py\u001b[0m in \u001b[0;36m<module>\u001b[0;34m\u001b[0m\n\u001b[1;32m      1\u001b[0m \u001b[0;32mimport\u001b[0m \u001b[0mmatplotlib\u001b[0m\u001b[0;34m.\u001b[0m\u001b[0mpyplot\u001b[0m \u001b[0;32mas\u001b[0m \u001b[0mplt\u001b[0m\u001b[0;34m\u001b[0m\u001b[0;34m\u001b[0m\u001b[0m\n\u001b[0;32m----> 2\u001b[0;31m \u001b[0mplt\u001b[0m\u001b[0;34m.\u001b[0m\u001b[0mplot\u001b[0m\u001b[0;34m(\u001b[0m\u001b[0mT_list\u001b[0m\u001b[0;34m,\u001b[0m \u001b[0mprob4_list\u001b[0m\u001b[0;34m)\u001b[0m\u001b[0;34m\u001b[0m\u001b[0;34m\u001b[0m\u001b[0m\n\u001b[0m\u001b[1;32m      3\u001b[0m \u001b[0mplt\u001b[0m\u001b[0;34m.\u001b[0m\u001b[0mplot\u001b[0m\u001b[0;34m(\u001b[0m\u001b[0mT_list\u001b[0m\u001b[0;34m,\u001b[0m \u001b[0mprob1_list\u001b[0m\u001b[0;34m)\u001b[0m\u001b[0;34m\u001b[0m\u001b[0;34m\u001b[0m\u001b[0m\n\u001b[1;32m      4\u001b[0m \u001b[0;34m\u001b[0m\u001b[0m\n\u001b[1;32m      5\u001b[0m plt.hist(\n",
      "\u001b[0;32m~/anaconda/hddm/lib/python3.7/site-packages/matplotlib/pyplot.py\u001b[0m in \u001b[0;36mplot\u001b[0;34m(scalex, scaley, data, *args, **kwargs)\u001b[0m\n\u001b[1;32m   2767\u001b[0m     return gca().plot(\n\u001b[1;32m   2768\u001b[0m         \u001b[0;34m*\u001b[0m\u001b[0margs\u001b[0m\u001b[0;34m,\u001b[0m \u001b[0mscalex\u001b[0m\u001b[0;34m=\u001b[0m\u001b[0mscalex\u001b[0m\u001b[0;34m,\u001b[0m \u001b[0mscaley\u001b[0m\u001b[0;34m=\u001b[0m\u001b[0mscaley\u001b[0m\u001b[0;34m,\u001b[0m\u001b[0;34m\u001b[0m\u001b[0;34m\u001b[0m\u001b[0m\n\u001b[0;32m-> 2769\u001b[0;31m         **({\"data\": data} if data is not None else {}), **kwargs)\n\u001b[0m\u001b[1;32m   2770\u001b[0m \u001b[0;34m\u001b[0m\u001b[0m\n\u001b[1;32m   2771\u001b[0m \u001b[0;34m\u001b[0m\u001b[0m\n",
      "\u001b[0;32m~/anaconda/hddm/lib/python3.7/site-packages/matplotlib/axes/_axes.py\u001b[0m in \u001b[0;36mplot\u001b[0;34m(self, scalex, scaley, data, *args, **kwargs)\u001b[0m\n\u001b[1;32m   1633\u001b[0m         \"\"\"\n\u001b[1;32m   1634\u001b[0m         \u001b[0mkwargs\u001b[0m \u001b[0;34m=\u001b[0m \u001b[0mcbook\u001b[0m\u001b[0;34m.\u001b[0m\u001b[0mnormalize_kwargs\u001b[0m\u001b[0;34m(\u001b[0m\u001b[0mkwargs\u001b[0m\u001b[0;34m,\u001b[0m \u001b[0mmlines\u001b[0m\u001b[0;34m.\u001b[0m\u001b[0mLine2D\u001b[0m\u001b[0;34m)\u001b[0m\u001b[0;34m\u001b[0m\u001b[0;34m\u001b[0m\u001b[0m\n\u001b[0;32m-> 1635\u001b[0;31m         \u001b[0mlines\u001b[0m \u001b[0;34m=\u001b[0m \u001b[0;34m[\u001b[0m\u001b[0;34m*\u001b[0m\u001b[0mself\u001b[0m\u001b[0;34m.\u001b[0m\u001b[0m_get_lines\u001b[0m\u001b[0;34m(\u001b[0m\u001b[0;34m*\u001b[0m\u001b[0margs\u001b[0m\u001b[0;34m,\u001b[0m \u001b[0mdata\u001b[0m\u001b[0;34m=\u001b[0m\u001b[0mdata\u001b[0m\u001b[0;34m,\u001b[0m \u001b[0;34m**\u001b[0m\u001b[0mkwargs\u001b[0m\u001b[0;34m)\u001b[0m\u001b[0;34m]\u001b[0m\u001b[0;34m\u001b[0m\u001b[0;34m\u001b[0m\u001b[0m\n\u001b[0m\u001b[1;32m   1636\u001b[0m         \u001b[0;32mfor\u001b[0m \u001b[0mline\u001b[0m \u001b[0;32min\u001b[0m \u001b[0mlines\u001b[0m\u001b[0;34m:\u001b[0m\u001b[0;34m\u001b[0m\u001b[0;34m\u001b[0m\u001b[0m\n\u001b[1;32m   1637\u001b[0m             \u001b[0mself\u001b[0m\u001b[0;34m.\u001b[0m\u001b[0madd_line\u001b[0m\u001b[0;34m(\u001b[0m\u001b[0mline\u001b[0m\u001b[0;34m)\u001b[0m\u001b[0;34m\u001b[0m\u001b[0;34m\u001b[0m\u001b[0m\n",
      "\u001b[0;32m~/anaconda/hddm/lib/python3.7/site-packages/matplotlib/axes/_base.py\u001b[0m in \u001b[0;36m__call__\u001b[0;34m(self, data, *args, **kwargs)\u001b[0m\n\u001b[1;32m    310\u001b[0m                 \u001b[0mthis\u001b[0m \u001b[0;34m+=\u001b[0m \u001b[0margs\u001b[0m\u001b[0;34m[\u001b[0m\u001b[0;36m0\u001b[0m\u001b[0;34m]\u001b[0m\u001b[0;34m,\u001b[0m\u001b[0;34m\u001b[0m\u001b[0;34m\u001b[0m\u001b[0m\n\u001b[1;32m    311\u001b[0m                 \u001b[0margs\u001b[0m \u001b[0;34m=\u001b[0m \u001b[0margs\u001b[0m\u001b[0;34m[\u001b[0m\u001b[0;36m1\u001b[0m\u001b[0;34m:\u001b[0m\u001b[0;34m]\u001b[0m\u001b[0;34m\u001b[0m\u001b[0;34m\u001b[0m\u001b[0m\n\u001b[0;32m--> 312\u001b[0;31m             \u001b[0;32myield\u001b[0m \u001b[0;32mfrom\u001b[0m \u001b[0mself\u001b[0m\u001b[0;34m.\u001b[0m\u001b[0m_plot_args\u001b[0m\u001b[0;34m(\u001b[0m\u001b[0mthis\u001b[0m\u001b[0;34m,\u001b[0m \u001b[0mkwargs\u001b[0m\u001b[0;34m)\u001b[0m\u001b[0;34m\u001b[0m\u001b[0;34m\u001b[0m\u001b[0m\n\u001b[0m\u001b[1;32m    313\u001b[0m \u001b[0;34m\u001b[0m\u001b[0m\n\u001b[1;32m    314\u001b[0m     \u001b[0;32mdef\u001b[0m \u001b[0mget_next_color\u001b[0m\u001b[0;34m(\u001b[0m\u001b[0mself\u001b[0m\u001b[0;34m)\u001b[0m\u001b[0;34m:\u001b[0m\u001b[0;34m\u001b[0m\u001b[0;34m\u001b[0m\u001b[0m\n",
      "\u001b[0;32m~/anaconda/hddm/lib/python3.7/site-packages/matplotlib/axes/_base.py\u001b[0m in \u001b[0;36m_plot_args\u001b[0;34m(self, tup, kwargs, return_kwargs)\u001b[0m\n\u001b[1;32m    496\u001b[0m \u001b[0;34m\u001b[0m\u001b[0m\n\u001b[1;32m    497\u001b[0m         \u001b[0;32mif\u001b[0m \u001b[0mx\u001b[0m\u001b[0;34m.\u001b[0m\u001b[0mshape\u001b[0m\u001b[0;34m[\u001b[0m\u001b[0;36m0\u001b[0m\u001b[0;34m]\u001b[0m \u001b[0;34m!=\u001b[0m \u001b[0my\u001b[0m\u001b[0;34m.\u001b[0m\u001b[0mshape\u001b[0m\u001b[0;34m[\u001b[0m\u001b[0;36m0\u001b[0m\u001b[0;34m]\u001b[0m\u001b[0;34m:\u001b[0m\u001b[0;34m\u001b[0m\u001b[0;34m\u001b[0m\u001b[0m\n\u001b[0;32m--> 498\u001b[0;31m             raise ValueError(f\"x and y must have same first dimension, but \"\n\u001b[0m\u001b[1;32m    499\u001b[0m                              f\"have shapes {x.shape} and {y.shape}\")\n\u001b[1;32m    500\u001b[0m         \u001b[0;32mif\u001b[0m \u001b[0mx\u001b[0m\u001b[0;34m.\u001b[0m\u001b[0mndim\u001b[0m \u001b[0;34m>\u001b[0m \u001b[0;36m2\u001b[0m \u001b[0;32mor\u001b[0m \u001b[0my\u001b[0m\u001b[0;34m.\u001b[0m\u001b[0mndim\u001b[0m \u001b[0;34m>\u001b[0m \u001b[0;36m2\u001b[0m\u001b[0;34m:\u001b[0m\u001b[0;34m\u001b[0m\u001b[0;34m\u001b[0m\u001b[0m\n",
      "\u001b[0;31mValueError\u001b[0m: x and y must have same first dimension, but have shapes (1000,) and (1001,)"
     ]
    },
    {
     "data": {
      "image/png": "[encoded data removed]",
      "text/plain": [
       "<Figure size 640x480 with 1 Axes>"
      ]
     },
     "metadata": {},
     "output_type": "display_data"
    }
   ],
   "source": [
    "import matplotlib.pyplot as plt\n",
    "plt.plot(T_list, prob4_list)\n",
    "plt.plot(T_list, prob1_list)\n",
    "\n",
    "plt.hist(\n",
    "    np.squeeze(out[0]) * np.squeeze(out[1]), histtype=\"step\", bins=40, color=\"black\", density=True\n",
    ")\n",
    "plt.xlabel(\"reaction times\")\n",
    "plt.ylabel(\"freq\")\n",
    "plt.show()"
   ]
  },
  {
   "attachments": {},
   "cell_type": "markdown",
   "metadata": {},
   "source": [
    "#### test 2: For the Angle model with $\\theta\\neq0$"
   ]
  },
  {
   "cell_type": "code",
   "execution_count": 27,
   "metadata": {},
   "outputs": [
    {
     "data": {
      "text/plain": [
       "7.583669"
      ]
     },
     "execution_count": 27,
     "metadata": {},
     "output_type": "execute_result"
    }
   ],
   "source": [
    "out[0].max()"
   ]
  },
  {
   "cell_type": "code",
   "execution_count": null,
   "metadata": {},
   "outputs": [],
   "source": []
  },
  {
   "cell_type": "code",
   "execution_count": null,
   "metadata": {},
   "outputs": [],
   "source": [
    "    \n",
    "\n",
    "\n",
    "print(\"reference:   \", prob1)\n",
    "print()\n",
    "print(\"approx angle:\", prob2)\n",
    "print(\"approx ddm:  \", prob3)\n",
    "print(\"relative err:\", \"{:.5%}\".format(np.abs(prob1 - prob2) / prob1))\n",
    "print()\n",
    "print(\"lan:         \", prob4)\n",
    "print(\"relative err:\", \"{:.5%}\".format(np.abs(prob1 - prob4) / prob1))\n",
    "\n",
    "print()\n",
    "print(\"--- With Denser Grid ---\")\n",
    "mc = approx_dbm(mu=mu, a=a, z=z, t_nd=t_nd, theta=theta, dt=0.0001, Nx=250)\n",
    "mc0 = approx_hmc(mu=mu, sigma=1, a=2 * a, z=z + a, dt=0.0001, Nx=250, verbose=False)\n",
    "T = 1\n",
    "prob1 = wfpt(T - t_nd, -mu, 2 * a, 2*a-(z + a), 1e-10)\n",
    "prob2 = mc.ExitProb_dp(T=T, s=mc.a) / mc.dt\n",
    "prob3 = mc0.ExitProb_dp1(T=T - t_nd, s=mc0.a) / mc0.dt\n",
    "network_input = np.array([[mu, a, z, t_nd, theta, T, 1]]).astype(np.float32)\n",
    "prob4 = np.exp(lan_angle(network_input))[0,0]\n",
    "\n",
    "print(\"reference:   \", prob1)\n",
    "print()\n",
    "print(\"approx angle:\", prob2)\n",
    "print(\"approx ddm:  \", prob3)\n",
    "print(\"relative err:\", \"{:.5%}\".format(np.abs(prob1 - prob2) / prob1))\n",
    "print()\n",
    "print(\"lan:         \", prob4)\n",
    "print(\"relative err:\", \"{:.5%}\".format(np.abs(prob1 - prob4) / prob1))"
   ]
  }
 ],
 "metadata": {
  "kernelspec": {
   "display_name": "Python 3",
   "language": "python",
   "name": "python3"
  },
  "language_info": {
   "codemirror_mode": {
    "name": "ipython",
    "version": 3
   },
   "file_extension": ".py",
   "mimetype": "text/x-python",
   "name": "python",
   "nbconvert_exporter": "python",
   "pygments_lexer": "ipython3",
   "version": "3.7.16"
  },
  "orig_nbformat": 4
 },
 "nbformat": 4,
 "nbformat_minor": 2
}
