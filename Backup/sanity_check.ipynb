{
 "cells": [
  {
   "cell_type": "code",
   "execution_count": 2,
   "metadata": {},
   "outputs": [],
   "source": [
    "from chain import approx_hmc\n",
    "from utils import *\n",
    "import numpy as np\n",
    "import matplotlib.pyplot as plt\n",
    "import seaborn as sns"
   ]
  },
  {
   "cell_type": "code",
   "execution_count": 4,
   "metadata": {},
   "outputs": [
    {
     "name": "stdout",
     "output_type": "stream",
     "text": [
      "mu: 0.400\n",
      "sigma: 1.000\n",
      "a: 4.000\n",
      "z: 1.500\n",
      "dt: 0.20000\n",
      "dx: 0.80000\n",
      "Nx: 5\n",
      "shape of P: (7, 7)\n",
      "p+, p0, p-: 0.21125, 0.67750, 0.11125\n"
     ]
    },
    {
     "data": {
      "text/plain": [
       "0.01697179953579101"
      ]
     },
     "execution_count": 4,
     "metadata": {},
     "output_type": "execute_result"
    }
   ],
   "source": [
    "d1 = approx_hmc(mu=0.4, sigma=1, a=4, z=1.5, dt=0.2, Nx=5)\n",
    "d1.ExitProb_dp1(1, 0)"
   ]
  },
  {
   "attachments": {},
   "cell_type": "markdown",
   "metadata": {},
   "source": [
    "#### Test 1: Coarse grid, check if the code gives the correct full distribution"
   ]
  },
  {
   "cell_type": "code",
   "execution_count": 2,
   "metadata": {},
   "outputs": [
    {
     "name": "stdout",
     "output_type": "stream",
     "text": [
      "mu: 0.200\n",
      "sigma: 1.000\n",
      "a: 4.000\n",
      "z: 2.000\n",
      "dt: 0.01000\n",
      "dx: 0.13333\n",
      "Nx: 30\n",
      "shape of P: (32, 32)\n",
      "p+, p0, p-: 0.28886, 0.43727, 0.27386\n"
     ]
    }
   ],
   "source": [
    "chain1 = approx_hmc(mu=0.2, sigma=1, a=4, z=2, dt=0.01, Nx=30)"
   ]
  },
  {
   "cell_type": "code",
   "execution_count": 3,
   "metadata": {},
   "outputs": [
    {
     "name": "stderr",
     "output_type": "stream",
     "text": [
      "/gpfs/home/sliu167/WorkSpace/ddm/backup/chain.py:107: RuntimeWarning: divide by zero encountered in log\n",
      "  logP = np.log(self.AdjMat.todense())\n",
      "/gpfs/home/sliu167/WorkSpace/ddm/backup/chain.py:112: RuntimeWarning: divide by zero encountered in log\n",
      "  logprob = logdotexp(np.log(self.init_dist).reshape(1, -1), logtable[:, [0]])\n"
     ]
    },
    {
     "name": "stdout",
     "output_type": "stream",
     "text": [
      "0.0007116247159704107 0.002610677139959567 0.005406779536747215 0.008435655940638128 0.011734434599166434\n",
      "0.0007116247159704108 0.002610677139959567 0.0054067795367472166 0.00843565594063813 0.011734434599166435\n",
      "0.0007116247159704108 0.002610677139959567 0.0054067795367472166 0.00843565594063813 0.011734434599166435\n",
      "0.0007116247159704191 0.002610677139959612 0.005406779536747302 0.008435655940638245 0.01173443459916661\n",
      "0.0007116247159704112 0.0026106771399595713 0.005406779536747218 0.008435655940638127 0.011734434599166437\n"
     ]
    }
   ],
   "source": [
    "T = 1\n",
    "dist1 = chain1.ExitDist(T)\n",
    "dist2 = [chain1.ExitProb_dp1(T, i*chain1.dx) for i in range(chain1.Nx+1)]\n",
    "dist3 = [chain1.ExitProb_dp2(T, i*chain1.dx) for i in range(chain1.Nx+1)]\n",
    "dist4 = [chain1.ExitProb_logdp1(T, i*chain1.dx) for i in range(chain1.Nx+1)]\n",
    "dist5 = [chain1.ExitProb_logdp2(T, i*chain1.dx) for i in range(chain1.Nx+1)]\n",
    "print(*dist1[:5])\n",
    "print(*dist2[:5])\n",
    "print(*dist3[:5])\n",
    "print(*dist4[:5])\n",
    "print(*dist5[:5])"
   ]
  },
  {
   "attachments": {},
   "cell_type": "markdown",
   "metadata": {},
   "source": [
    "#### Test 2: Dense grid, compare running time of exit probability"
   ]
  },
  {
   "cell_type": "code",
   "execution_count": 4,
   "metadata": {},
   "outputs": [
    {
     "name": "stdout",
     "output_type": "stream",
     "text": [
      "mu: 0.200\n",
      "sigma: 1.000\n",
      "a: 4.000\n",
      "z: 2.000\n",
      "dt: 0.00100\n",
      "dx: 0.05000\n",
      "Nx: 80\n",
      "shape of P: (82, 82)\n",
      "p+, p0, p-: 0.20201, 0.59998, 0.19801\n"
     ]
    }
   ],
   "source": [
    "chain2 = approx_hmc(mu=0.2, sigma=1, a=4, z=2, dt=0.001, Nx=80)"
   ]
  },
  {
   "cell_type": "code",
   "execution_count": 5,
   "metadata": {},
   "outputs": [
    {
     "name": "stdout",
     "output_type": "stream",
     "text": [
      "40.7 ms ± 829 µs per loop (mean ± std. dev. of 7 runs, 10 loops each)\n",
      "571 ms ± 3.66 ms per loop (mean ± std. dev. of 7 runs, 1 loop each)\n",
      "914 ms ± 6.51 ms per loop (mean ± std. dev. of 7 runs, 1 loop each)\n",
      "122 ms ± 2.29 ms per loop (mean ± std. dev. of 7 runs, 10 loops each)\n"
     ]
    }
   ],
   "source": [
    "T = 4\n",
    "%timeit prob2 = chain2.ExitProb_dp1(T, 4)\n",
    "%timeit prob3 = chain2.ExitProb_dp2(T, 4)\n",
    "%timeit prob4 = chain2.ExitProb_logdp1(T, 4)\n",
    "%timeit prob5 = chain2.ExitProb_logdp2(T, 4)"
   ]
  },
  {
   "cell_type": "code",
   "execution_count": 6,
   "metadata": {},
   "outputs": [
    {
     "data": {
      "text/plain": [
       "(7.873250893361756e-05,\n",
       " 7.873250893361756e-05,\n",
       " 7.873250893361584e-05,\n",
       " 7.87325089336158e-05)"
      ]
     },
     "execution_count": 6,
     "metadata": {},
     "output_type": "execute_result"
    }
   ],
   "source": [
    "prob2 = chain2.ExitProb_dp1(T, 4)\n",
    "prob3 = chain2.ExitProb_dp2(T, 4)\n",
    "prob4 = chain2.ExitProb_logdp1(T, 4)\n",
    "prob5 = chain2.ExitProb_logdp2(T, 4)\n",
    "prob2, prob3, prob4, prob5"
   ]
  },
  {
   "attachments": {},
   "cell_type": "markdown",
   "metadata": {},
   "source": [
    "#### Test 3: Compare results as the grid becomes denser, check if it converges to the continuous case"
   ]
  },
  {
   "cell_type": "code",
   "execution_count": 7,
   "metadata": {},
   "outputs": [
    {
     "name": "stdout",
     "output_type": "stream",
     "text": [
      "0.02547652896815553\n"
     ]
    },
    {
     "data": {
      "text/plain": [
       "(0.02643224301257986,\n",
       " 0.02539651859230776,\n",
       " 0.025458311713189366,\n",
       " 0.025473112226127977,\n",
       " 0.02547677223099034)"
      ]
     },
     "execution_count": 7,
     "metadata": {},
     "output_type": "execute_result"
    }
   ],
   "source": [
    "dt = 0.001\n",
    "chain0 = approx_hmc(mu=0.2, sigma=1, a=4, z=2, dt=dt, Nx=5, verbose=False)\n",
    "chain1 = approx_hmc(mu=0.2, sigma=1, a=4, z=2, dt=dt, Nx=10, verbose=False)\n",
    "chain2 = approx_hmc(mu=0.2, sigma=1, a=4, z=2, dt=dt, Nx=20, verbose=False)\n",
    "chain3 = approx_hmc(mu=0.2, sigma=1, a=4, z=2, dt=dt, Nx=40, verbose=False)\n",
    "chain4 = approx_hmc(mu=0.2, sigma=1, a=4, z=2, dt=dt, Nx=80, verbose=False)\n",
    "prob0 = chain0.ExitProb_logdp2(T=5, s=0)\n",
    "prob1 = chain1.ExitProb_logdp2(T=5, s=0)\n",
    "prob2 = chain2.ExitProb_logdp2(T=5, s=0)\n",
    "prob3 = chain3.ExitProb_logdp2(T=5, s=0)\n",
    "prob4 = chain4.ExitProb_logdp2(T=5, s=0)\n",
    "print(wfpt(T=5, mu=0.2, a=4, z=2, err=1e-10))\n",
    "prob0/dt, prob1/dt, prob2/dt, prob3/dt, prob4/dt"
   ]
  },
  {
   "cell_type": "code",
   "execution_count": 8,
   "metadata": {},
   "outputs": [
    {
     "name": "stdout",
     "output_type": "stream",
     "text": [
      "0.02547652896815553\n"
     ]
    },
    {
     "data": {
      "text/plain": [
       "(0.026431750901944617,\n",
       " 0.025395291002294176,\n",
       " 0.02545712908536354,\n",
       " 0.025471940789884538,\n",
       " 0.02547560359179506,\n",
       " 0.025476516789387695)"
      ]
     },
     "execution_count": 8,
     "metadata": {},
     "output_type": "execute_result"
    }
   ],
   "source": [
    "dt = 0.0002\n",
    "chain0 = approx_hmc(mu=0.2, sigma=1, a=4, z=2, dt=dt, Nx=5, verbose=False)\n",
    "chain1 = approx_hmc(mu=0.2, sigma=1, a=4, z=2, dt=dt, Nx=10, verbose=False)\n",
    "chain2 = approx_hmc(mu=0.2, sigma=1, a=4, z=2, dt=dt, Nx=20, verbose=False)\n",
    "chain3 = approx_hmc(mu=0.2, sigma=1, a=4, z=2, dt=dt, Nx=40, verbose=False)\n",
    "chain4 = approx_hmc(mu=0.2, sigma=1, a=4, z=2, dt=dt, Nx=80, verbose=False)\n",
    "chain5 = approx_hmc(mu=0.2, sigma=1, a=4, z=2, dt=dt, Nx=160, verbose=False)\n",
    "prob0 = chain0.ExitProb_logdp2(T=5, s=0)\n",
    "prob1 = chain1.ExitProb_logdp2(T=5, s=0)\n",
    "prob2 = chain2.ExitProb_logdp2(T=5, s=0)\n",
    "prob3 = chain3.ExitProb_logdp2(T=5, s=0)\n",
    "prob4 = chain4.ExitProb_logdp2(T=5, s=0)\n",
    "prob5 = chain5.ExitProb_logdp2(T=5, s=0)\n",
    "print(wfpt(T=5, mu=0.2, a=4, z=2, err=1e-10))\n",
    "prob0/dt, prob1/dt, prob2/dt, prob3/dt, prob4/dt, prob5/dt"
   ]
  },
  {
   "attachments": {},
   "cell_type": "markdown",
   "metadata": {},
   "source": [
    "#### Test 4: Maximum Likelihood Parameter Search\n",
    "True paramater: $\\mu=0.2, z=1.5$."
   ]
  },
  {
   "cell_type": "code",
   "execution_count": 9,
   "metadata": {},
   "outputs": [
    {
     "data": {
      "text/plain": [
       "(100, 2)"
      ]
     },
     "execution_count": 9,
     "metadata": {},
     "output_type": "execute_result"
    }
   ],
   "source": [
    "data = np.load('data.npy')\n",
    "data.shape"
   ]
  },
  {
   "cell_type": "code",
   "execution_count": 35,
   "metadata": {},
   "outputs": [
    {
     "data": {
      "text/plain": [
       "0.22000000000000108"
      ]
     },
     "execution_count": 35,
     "metadata": {},
     "output_type": "execute_result"
    }
   ],
   "source": [
    "probs1d = np.loadtxt('results/probs1d.txt')\n",
    "mu_list = np.arange(-1, 1, 0.01)\n",
    "\n",
    "idx = np.argmax(probs1d)\n",
    "mu_list[idx]\n"
   ]
  },
  {
   "cell_type": "code",
   "execution_count": 36,
   "metadata": {},
   "outputs": [
    {
     "data": {
      "image/png": "[encoded data removed]",
      "text/plain": [
       "<Figure size 640x480 with 1 Axes>"
      ]
     },
     "metadata": {},
     "output_type": "display_data"
    }
   ],
   "source": [
    "plt.plot(mu_list, probs1d)\n",
    "plt.show()"
   ]
  },
  {
   "cell_type": "code",
   "execution_count": null,
   "metadata": {},
   "outputs": [],
   "source": [
    "num_ticks = 10\n",
    "# the index of the position of yticks\n",
    "yticks = np.linspace(0, len(depth_list) - 1, num_ticks, dtype=np.int)\n",
    "# the content of labels of these yticks\n",
    "yticklabels = [depth_list[idx] for idx in yticks"
   ]
  },
  {
   "cell_type": "code",
   "execution_count": 34,
   "metadata": {},
   "outputs": [
    {
     "data": {
      "text/plain": [
       "(0.20000000000000018, 1.4)"
      ]
     },
     "execution_count": 34,
     "metadata": {},
     "output_type": "execute_result"
    }
   ],
   "source": [
    "probs2d = np.loadtxt('results/probs2d.txt')\n",
    "mu_list = np.linspace(-1, 1, 21)\n",
    "z_list = np.linspace(0.5, 3.5, 21)\n",
    "idx = np.unravel_index(np.argmax(probs2d), probs2d.shape)\n",
    "\n",
    "mu_list[idx[0]], z_list[idx[1]]\n"
   ]
  },
  {
   "cell_type": "code",
   "execution_count": 33,
   "metadata": {},
   "outputs": [
    {
     "data": {
      "image/png": "[encoded data removed]",
      "text/plain": [
       "<Figure size 640x480 with 2 Axes>"
      ]
     },
     "metadata": {},
     "output_type": "display_data"
    }
   ],
   "source": [
    "hm = sns.heatmap(probs2d, cmap='hot')\n",
    "\n",
    "from matplotlib.patches import Rectangle\n",
    "hm.add_patch(Rectangle((idx[1],idx[0]),1,1, fill=False, edgecolor='blue', lw=1))\n",
    "\n",
    "hm.invert_yaxis()\n",
    "hm.set_xlabel('$z$', fontsize=10)\n",
    "hm.set_ylabel('$\\mu$', fontsize=10)\n",
    "hm.set_xticks(np.arange(0, 21, 5))\n",
    "hm.set_yticks(np.arange(0, 21, 5))\n",
    "\n",
    "hm.set_xticklabels(z_list[::5])\n",
    "hm.set_yticklabels(mu_list[::5])\n",
    "plt.show()"
   ]
  }
 ],
 "metadata": {
  "kernelspec": {
   "display_name": "torch",
   "language": "python",
   "name": "python3"
  },
  "language_info": {
   "codemirror_mode": {
    "name": "ipython",
    "version": 3
   },
   "file_extension": ".py",
   "mimetype": "text/x-python",
   "name": "python",
   "nbconvert_exporter": "python",
   "pygments_lexer": "ipython3",
   "version": "3.10.9"
  },
  "orig_nbformat": 4,
  "vscode": {
   "interpreter": {
    "hash": "8ec1c86f0fe716a4d325670fa96f3d850fc06e77762fd4f1d8e799712ee08f17"
   }
  }
 },
 "nbformat": 4,
 "nbformat_minor": 2
}
