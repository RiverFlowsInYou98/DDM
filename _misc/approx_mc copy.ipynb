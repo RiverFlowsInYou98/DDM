{
 "cells": [
  {
   "cell_type": "code",
   "execution_count": 1,
   "metadata": {},
   "outputs": [],
   "source": [
    "import numpy as np\n",
    "import matplotlib.pyplot as plt\n",
    "import itertools\n",
    "from scipy.special import logsumexp\n",
    "import scipy.sparse as sp\n",
    "import networkx as nx"
   ]
  },
  {
   "attachments": {},
   "cell_type": "markdown",
   "metadata": {},
   "source": [
    "#### General procedure:\n",
    "\n",
    "1. Initialize all the parameters, say, $\\mu, a, z$;\n",
    "2. For all the data pairs $(C_k, T_k)$, where $C_k$ is the crossed boundary and $T_k$ is the first passage time, compute the probability $\\mathbb{P}(\\tilde{X}_{\\lfloor T_k/\\Delta t\\rfloor}=C_k)$;\n",
    "3. For the approximate process, \n",
    "4. \n",
    "5."
   ]
  },
  {
   "cell_type": "code",
   "execution_count": 2,
   "metadata": {},
   "outputs": [],
   "source": [
    "def MCsample(P, init_dist, k): \n",
    "    \"\"\"\n",
    "    sample a 'k'-step Markov chain \n",
    "    with initial distribution 'init_dist'\n",
    "    and transition probabilities 'P'\n",
    "    \"\"\"\n",
    "    s = len(init_dist) # num of states\n",
    "    X = np.zeros(k)\n",
    "    X[0] = np.random.choice(s, p=init_dist)\n",
    "    for i in range(1, k):\n",
    "        X[i] = np.random.choice(s, p=P[int(X[i-1]), :])\n",
    "    return X\n"
   ]
  },
  {
   "attachments": {},
   "cell_type": "markdown",
   "metadata": {},
   "source": [
    "#### Ways to prevent numerical underflow\n",
    "(1) Let $b_i=\\log a_i$,\n",
    "$$\n",
    "\\begin{aligned}\n",
    "\\log\\left(\\textstyle \\sum_{i=1}^n a_i\\right)&=\\log\\left(\\textstyle\\sum_{i=1}^n e^{b_i}\\right)=\\log\\left(\\textstyle e^{b_{\\max}}\\sum_{i=1}^n e^{b_i-b_{\\max}}\\right)=b_{\\max}+\\log \\left(\\textstyle \\sum_{i=1}^n e^{b_i-b_{\\max}}\\right)\\\\\n",
    "&=\\operatorname{logsumexp}\\left(\\boldsymbol{b}\\right)\n",
    "\\end{aligned}\n",
    "$$\n",
    "(2) \n"
   ]
  },
  {
   "cell_type": "code",
   "execution_count": 3,
   "metadata": {},
   "outputs": [],
   "source": [
    "def logdotexp(A, B):\n",
    "    \"\"\"\n",
    "    numerically stable ways to compute\n",
    "    np.log(np.dot(np.exp(A), np.exp(B)))\n",
    "    A, B are 2d arrays satisfying A.shape[1] = B.shape[0]\n",
    "    \"\"\"\n",
    "    assert len(A.shape) == 2\n",
    "    assert len(B.shape) == 2\n",
    "    assert A.shape[1] == B.shape[0]\n",
    "    A_ = np.stack([A] * B.shape[1]).transpose(1, 0, 2)\n",
    "    B_ = np.stack([B] * A.shape[0]).transpose(0, 2, 1)\n",
    "    return logsumexp(A_ + B_, axis=2)\n"
   ]
  },
  {
   "attachments": {},
   "cell_type": "markdown",
   "metadata": {},
   "source": [
    "advection-diffusion equation:\n",
    "$$\n",
    "\\begin{aligned}\n",
    "u_t+cu_x&=\\nu u_xx\\\\\n",
    "u(x,0)&=f(x)\\\\\n",
    "u(0,t)&=u(a,t)=0\\\\\n",
    "\\end{aligned}\n",
    "$$\n",
    "Crank-Nicolson:\n",
    "$$\n",
    "\\begin{aligned}\n",
    "\\tfrac{u_j^{n+1}-u_j^n}{\\Delta t}+\\tfrac{c}{2} \\left(\\tfrac{u_{j+1}^{n+1}-u_{j-1}^{n+1}}{2 \\Delta x}+\\tfrac{u_{j+1}^n-u_{j-1}^n}{2 \\Delta x}\\right)&=\\tfrac{\\nu}{2} \\tfrac{u_{j+1}^n-2 u_j^n+u_{j-1}^n}{(\\Delta x)^2}+\\tfrac{\\nu}{2} \\tfrac{u_{j+1}^{n+1}-2 u_j^{n+1}+u_{j-1}^{n+1}}{(\\Delta x)^2}\\\\\n",
    "u^{0}_{j}&=f(x_j)\\\\\n",
    "u^j_{0}&=u^j_{N_x}=0\n",
    "\\end{aligned}\\\\\n",
    "$$\n",
    "which can be simplified as\n",
    "$$\n",
    "\\left(-\\tfrac{\\lambda}{4}-\\tfrac{\\mu}{2}\\right) u_{j-1}^{n+1}+(1+\\mu) u_j^{n+1}+\\left(\\tfrac{\\lambda}{4}-\\tfrac{\\mu}{2}\\right) u_{j+1}^{n+1}=\\left(\\tfrac{\\lambda}{4}+\\tfrac{\\mu}{2}\\right) u_{j-1}^n+(1-\\mu) u_j^n+\\left(-\\tfrac{\\lambda}{4}+\\tfrac{\\mu}{2}\\right) u_{j+1}^n\n",
    "$$"
   ]
  },
  {
   "cell_type": "code",
   "execution_count": 4,
   "metadata": {},
   "outputs": [],
   "source": [
    "def solve_ADVD(c, D, x_range, t_range, f, Nx, Nt):\n",
    "    \"\"\"Solve\n",
    "    u_t + c * u_x = D * u_xx\n",
    "    with initial condition f(x) and homogeneous Dirichlet boundary\n",
    "    \"\"\"\n",
    "    # Crank-Nicolson\n",
    "    xmin, xmax = x_range\n",
    "    tmin, tmax = t_range\n",
    "    x_grid = np.linspace(xmin, xmax, Nx + 1)\n",
    "    t_grid = np.linspace(tmin, tmax, Nt + 1)\n",
    "    dx = x_grid[1] - x_grid[0]\n",
    "    dt = t_grid[1] - t_grid[0]\n",
    "    lam = c * dt / dx\n",
    "    mu = D * dt / dx ** 2\n",
    "    u_grid = np.zeros([Nx + 1, Nt + 1])\n",
    "    u_grid[:, 0] = f(x_grid)\n",
    "\n",
    "    I = np.eye(Nx - 1)\n",
    "    I1 = np.diag(np.ones(Nx-2), 1)\n",
    "    I2 = np.diag(np.ones(Nx-2), -1)\n",
    "    A = (1 + mu) * I - (lam / 4 + mu / 2) * I1 + (lam / 4 - mu / 2) * I2\n",
    "    B = 2 * I - A\n",
    "    C = np.linalg.solve(A, B)\n",
    "\n",
    "    for t_step in range(Nt):\n",
    "        u_grid[1:-1, t_step + 1] = C @ u_grid[1:-1, t_step]\n",
    "\n",
    "    return x_grid, t_grid, u_grid"
   ]
  },
  {
   "attachments": {},
   "cell_type": "markdown",
   "metadata": {},
   "source": [
    "In one spatial dimension $x$, for an Itô process driven by the standard Wiener process $W_t$ and described by the stochastic differential equation (SDE)\n",
    "$$\n",
    "\\begin{aligned}\n",
    "\\mathrm{d} X(t)&=\\mu\\left(X(t), t\\right) \\mathrm{d} t+\\sigma\\left(X(t), t\\right) \\mathrm{d} W(t)\\\\\n",
    "X(t)&=X(0)+\\int_0^t \\mu(X(s), s) \\mathrm{d} s+\\int_0^t \\sigma(X(s), s) \\mathrm{d}W(s)\n",
    "\\end{aligned}\n",
    "$$\n",
    "with drift $\\mu(X(t), t)$ and diffusion coefficient $\\sigma^2(X(t), t)/2$, the Kolmogorov forward equation (Fokker-Planck equation) for the transition probability density $f(x,t|y,s)$ (defined as $f(x,t|y,s)\\mathrm{d}x=\\mathbb{P}(X(t)\\in[x,x+\\mathrm{d}x)|X(s)=y)$) of the random variable $X(t)$ is\n",
    "$$\n",
    "\\tfrac{\\partial}{\\partial t} f(x, t|y, s)=-\\tfrac{\\partial}{\\partial x}[\\mu(x, t) f(x, t|y,s)]+\\tfrac{1}{2}\\tfrac{\\partial^2}{\\partial x^2}[\\sigma^2(x, t) f(x, t|y,s)],\\text{ for } t\\ge s\n",
    "$$\n",
    "the Kolmogorov backward equation is\n",
    "$$\n",
    "\\tfrac{\\partial}{\\partial s} f(x, t|y,s)=-\\mu(x, t) \\tfrac{\\partial}{\\partial y} f(x, t|y,s)-\\tfrac{1}{2} \\sigma^2(x, t) \\tfrac{\\partial^2}{\\partial y^2} f(x, t|y,s),\\text{ for } s< t\n",
    "$$\n"
   ]
  },
  {
   "attachments": {},
   "cell_type": "markdown",
   "metadata": {},
   "source": [
    "### Drift-diffusion model\n",
    "Consider the following stochastic process on the interval $[0, a]$ with absorbing boundaries:\n",
    "$$\n",
    "\\begin{aligned}\n",
    "\\mathrm{d} X(t)&=\\mu(t)\\mathrm{d} t +\\sigma\\mathrm{d} W(t)\\\\\n",
    "X(t)&=z+\\int_{0}^{t}\\mu(r)\\mathrm{d} r +\\sigma W(t)\n",
    "\\end{aligned}\n",
    "$$\n",
    "with starting point $z\\in(0, a)$.\n",
    "\n",
    "The Fokker-Planck equation corresponds to drift-diffusion model is\n",
    "$$\n",
    "\\begin{aligned}\n",
    "\\tfrac{\\partial}{\\partial t} f(x, t|z,0)&=-\\mu\\tfrac{\\partial}{\\partial x}f(x, t|z,0)+\\tfrac{1}{2}\\sigma^2\\tfrac{\\partial^2}{\\partial x^2}f(x, t|z,0)\\\\\n",
    "f(x, 0|z,0)&=\\delta(x-z)\\\\\n",
    "f(0,t|z,0)&=f(a,t|z,0)=0\n",
    "\\end{aligned}\n",
    "$$"
   ]
  },
  {
   "cell_type": "code",
   "execution_count": 73,
   "metadata": {},
   "outputs": [],
   "source": [
    "class DDModel(object):\n",
    "    def __init__(self, mu=1, sigma=1) -> None:\n",
    "        self.mu = mu\n",
    "        self.sigma = sigma\n",
    "\n",
    "    def strong_Euler(self, init_cond, T, Nt=1000):\n",
    "        t0, u0 = init_cond\n",
    "        dt = float(T - t0) / Nt\n",
    "        t_grid = np.arange(t0, T + dt, dt)\n",
    "        u_grid = np.zeros(Nt + 1)\n",
    "        u_grid[0] = u0\n",
    "        for i in range(1, Nt + 1):\n",
    "            t = t0 + (i - 1) * dt\n",
    "            u = u_grid[i - 1]\n",
    "            dW = np.random.normal(loc=0.0, scale=np.sqrt(dt))\n",
    "            u_grid[i] = u + self.mu * dt + self.sigma * dW\n",
    "        return t_grid, u_grid\n",
    "\n",
    "    def weak_Euler(self, init_cond, T, Nt=1000):\n",
    "        t0, u0 = init_cond\n",
    "        dt = float(T - t0) / Nt\n",
    "        t_grid = np.arange(t0, T + dt, dt)\n",
    "        u_grid = np.zeros(Nt + 1)\n",
    "        u_grid[0] = u0\n",
    "        for i in range(1, Nt + 1):\n",
    "            t = t0 + (i - 1) * dt\n",
    "            u = u_grid[i - 1]\n",
    "            dW_ = (2 * (np.random.uniform() < 0.5) - 1) * np.sqrt(dt)\n",
    "            u_grid[i] = u + self.mu * dt + self.sigma * dW_\n",
    "        return t_grid, u_grid\n",
    "\n",
    "    def generate_data(self, a, z, dt=0.001, num=1, return_traj=False):\n",
    "        \"\"\"\n",
    "        generate 'num' data pairs of the form (C, T)\n",
    "        where C is the crossed boundary (0 or a)\n",
    "              T is the first passage time\n",
    "        \"\"\"\n",
    "        data = np.zeros((num, 2))\n",
    "        trajs = []\n",
    "        for i in range(num):\n",
    "            if return_traj:\n",
    "                t_grid = [0]\n",
    "                u_grid = [z]\n",
    "            u = z\n",
    "            steps = 0\n",
    "            while u > 0 and u < a:\n",
    "                dW = np.random.normal(loc=0.0, scale=np.sqrt(dt))\n",
    "                u += self.mu * dt + self.sigma * dW\n",
    "                steps += 1\n",
    "                if return_traj:\n",
    "                    t_grid.append(steps * dt)\n",
    "                    u_grid.append(u)\n",
    "            data[i] = a if u > a / 2 else 0, steps * dt\n",
    "            if return_traj:\n",
    "                trajs.append(np.array([t_grid, u_grid]))\n",
    "        return data, trajs\n",
    "\n",
    "    def FokkerPlanck_CN(self, a, z, T, Nx, Nt, delta_approx=\"Quadratic\"):\n",
    "        \"\"\"\n",
    "        The Fokker-Planck eqution is an advection-diffusion equation\n",
    "        with the initial condition 'delta(x-z)' (numerical treatment?)\n",
    "        and absorbing boundary condition (homogeneous Dirichlet)\n",
    "        \"\"\"\n",
    "        # Different ways to approximate the Dirac delta\n",
    "        dx = a / Nx\n",
    "        func_dict = {\n",
    "            \"Rectangular\": lambda x: RectangularDelta(x - z, dx),\n",
    "            \"Quadratic\": lambda x: QuadraticDelta(x - z, 0.01*dx),\n",
    "            \"Gaussian\": lambda x: GaussianDelta(x - z, 0.01*dx),\n",
    "            \"Kronecker\": lambda x: KroneckerDelta(x - z, dx),\n",
    "            \"Triangle\": lambda x: TriangleDelta(x - z, dx),\n",
    "        }\n",
    "\n",
    "        def RectangularDelta(x, L):\n",
    "            return 1 / (2 * L) * (np.abs(x) < L)\n",
    "\n",
    "        def TriangleDelta(x, L):\n",
    "            return (1 / L - np.abs(x) / L ** 2) * (np.abs(x) < L)\n",
    "\n",
    "        def QuadraticDelta(x, L):\n",
    "            return L / np.pi / (x ** 2 + L ** 2)\n",
    "\n",
    "        def GaussianDelta(x, L):\n",
    "            return 1 / (np.sqrt(2 * np.pi) * L) * np.exp(-(x ** 2) / (2 * L ** 2))\n",
    "\n",
    "        def KroneckerDelta(x, L):\n",
    "            return 1 * (np.abs(x) < L)\n",
    "\n",
    "        f = func_dict[delta_approx]\n",
    "        x_grid, t_grid, u_grid = solve_ADVD(self.mu, self.sigma ** 2 / 2, (0, a), (0, T), f, Nx, Nt)\n",
    "        return x_grid, u_grid[:, -1]\n",
    "    \n",
    "    def FirstPassageTime_density(self, a, z, T, Nx, N):\n",
    "        ns = np.arange(1, N+1)[:, None]\n",
    "        xs = np.linspace(0, a, Nx)\n",
    "        coeffs = 2/a * np.exp(-self.mu/self.sigma**2*z)*np.sin(ns * np.pi* z/a)\n",
    "        terms = np.sin(ns*np.pi*xs/a)*np.exp(-1/2*self.sigma**2*(ns*np.pi/a)**2*T)\n",
    "        sum = np.squeeze(np.dot(terms.T, coeffs))\n",
    "        print(coeffs.shape)\n",
    "        print(terms.shape)\n",
    "        print(sum.shape)\n",
    "        return xs, sum * np.exp(-self.mu**2/(2*self.sigma**2)*T+self.mu/self.sigma**2*xs)\n",
    "\n"
   ]
  },
  {
   "cell_type": "code",
   "execution_count": 74,
   "metadata": {},
   "outputs": [],
   "source": [
    "ddm = DDModel(mu=0.2, sigma=1)\n",
    "data, trajs = ddm.generate_data(a=4, z=2, num=100, return_traj=True)\n"
   ]
  },
  {
   "cell_type": "code",
   "execution_count": 68,
   "metadata": {},
   "outputs": [
    {
     "data": {
      "image/png": "[encoded data removed]",
      "text/plain": [
       "<Figure size 640x480 with 1 Axes>"
      ]
     },
     "metadata": {},
     "output_type": "display_data"
    }
   ],
   "source": [
    "for traj in trajs[:10]:\n",
    "    plt.plot(traj[0], traj[1])"
   ]
  },
  {
   "cell_type": "code",
   "execution_count": 75,
   "metadata": {},
   "outputs": [
    {
     "name": "stdout",
     "output_type": "stream",
     "text": [
      "(1000, 1)\n",
      "(1000, 1000)\n",
      "(1000,)\n"
     ]
    }
   ],
   "source": [
    "x, u=ddm.FirstPassageTime_density(a=4, z=1, T=1, Nx=1000, N=1000)"
   ]
  },
  {
   "cell_type": "code",
   "execution_count": 76,
   "metadata": {},
   "outputs": [
    {
     "data": {
      "text/plain": [
       "((1000,), (1000,))"
      ]
     },
     "execution_count": 76,
     "metadata": {},
     "output_type": "execute_result"
    }
   ],
   "source": [
    "x.shape, u.shape"
   ]
  },
  {
   "cell_type": "code",
   "execution_count": 77,
   "metadata": {},
   "outputs": [],
   "source": [
    "x1, u1 = ddm.FokkerPlanck_CN(a=4, z=1, T=1, Nx=1000, Nt=1000, delta_approx=\"Rectangular\")\n",
    "x2, u2 = ddm.FokkerPlanck_CN(a=4, z=1, T=1, Nx=1000, Nt=1000, delta_approx=\"Quadratic\")\n",
    "x3, u3 = ddm.FokkerPlanck_CN(a=4, z=1, T=1, Nx=1000, Nt=1000, delta_approx=\"Gaussian\")\n",
    "x4, u4 = ddm.FokkerPlanck_CN(a=4, z=1, T=1, Nx=1000, Nt=1000, delta_approx=\"Kronecker\")\n",
    "x5, u5 = ddm.FokkerPlanck_CN(a=4, z=1, T=1, Nx=1000, Nt=1000, delta_approx=\"Triangle\")"
   ]
  },
  {
   "cell_type": "code",
   "execution_count": 78,
   "metadata": {},
   "outputs": [
    {
     "name": "stderr",
     "output_type": "stream",
     "text": [
      "No artists with labels found to put in legend.  Note that artists whose label start with an underscore are ignored when legend() is called with no argument.\n"
     ]
    },
    {
     "data": {
      "text/plain": [
       "<matplotlib.legend.Legend at 0x7f980cd17310>"
      ]
     },
     "execution_count": 78,
     "metadata": {},
     "output_type": "execute_result"
    },
    {
     "data": {
      "image/png": "[encoded data removed]",
      "text/plain": [
       "<Figure size 640x480 with 6 Axes>"
      ]
     },
     "metadata": {},
     "output_type": "display_data"
    }
   ],
   "source": [
    "fig, ax = plt.subplots(2,3)\n",
    "ax[0,0].plot(x1,u1, label='Rectangular')\n",
    "ax[0,0].plot(x,u, label='analytical', c='k')\n",
    "\n",
    "ax[0,1].plot(x2,u2, label='Quadratic')\n",
    "ax[0,1].plot(x,u, label='analytical', c='k')\n",
    "\n",
    "ax[0,2].plot(x3,u3, label='Gaussian')\n",
    "ax[0,2].plot(x,u, label='analytical', c='k')\n",
    "\n",
    "ax[1,0].plot(x4,u4, label='Kronecker')\n",
    "ax[1,0].plot(x,u, label='analytical', c='k')\n",
    "\n",
    "ax[1,1].plot(x5,u5, label='Triangle')\n",
    "ax[1,1].plot(x,u, label='analytical', c='k')\n",
    "\n",
    "plt.legend()"
   ]
  },
  {
   "cell_type": "code",
   "execution_count": 65,
   "metadata": {},
   "outputs": [
    {
     "data": {
      "text/plain": [
       "[<matplotlib.lines.Line2D at 0x7f9832b32f50>]"
      ]
     },
     "execution_count": 65,
     "metadata": {},
     "output_type": "execute_result"
    },
    {
     "data": {
      "image/png": "[encoded data removed]",
      "text/plain": [
       "<Figure size 640x480 with 1 Axes>"
      ]
     },
     "metadata": {},
     "output_type": "display_data"
    }
   ],
   "source": [
    "def RectangularDelta(x, L):\n",
    "    return 1 / (2 * L) * (np.abs(x) < L)\n",
    "\n",
    "\n",
    "def TriangleDelta(x, L):\n",
    "    return (1 / L - np.abs(x) / L ** 2) * (np.abs(x) < L)\n",
    "\n",
    "\n",
    "def QuadraticDelta(x, L):\n",
    "    return L / np.pi / (x ** 2 + L ** 2)\n",
    "\n",
    "\n",
    "def GaussianDelta(x, L):\n",
    "    return 1 / (np.sqrt(2 * np.pi) * L) * np.exp(-(x ** 2) / (2 * L ** 2))\n",
    "\n",
    "\n",
    "def KroneckerDelta(x):\n",
    "    return 1 * (np.abs(x) < 1e-8)\n",
    "\n",
    "\n",
    "x = np.arange(-0.1, 0.1, 0.001)\n",
    "y1 = RectangularDelta(x, 0.01)\n",
    "y2 = TriangleDelta(x, 0.01)\n",
    "y3 = QuadraticDelta(x, 0.01)\n",
    "y4 = GaussianDelta(x, 0.01)\n",
    "y5 = KroneckerDelta(x)\n",
    "\n",
    "# plt.plot(x, y1)\n",
    "# plt.plot(x, y2)\n",
    "# plt.plot(x, y3)\n",
    "# plt.plot(x, y4)\n",
    "plt.plot(x, y5)\n"
   ]
  },
  {
   "cell_type": "code",
   "execution_count": null,
   "metadata": {},
   "outputs": [],
   "source": [
    "y5"
   ]
  },
  {
   "attachments": {},
   "cell_type": "markdown",
   "metadata": {},
   "source": [
    "To approximate this process,  we discretize the time and space with step size $\\Delta t$ and $\\Delta x$ respectively, \n",
    "and consider a discrete-time discrete-space Markov chain $\\tilde{X}$ on the grid. We want the temporal interpolation of $\\tilde{X}_j$ converges in distribution to $X$ as $\\Delta t, \\Delta x\\rightarrow 0$.\n",
    "\n",
    "Let $Z_0, Z_1, \\cdots $ be a sequence of independent random variables with\n",
    "$$\n",
    "Z_{j}=\\left\\{\n",
    "\\begin{array}{ll}\n",
    "      \\Delta x & \\text{w.p. } p^{+}_j \\\\\n",
    "      0 & \\text{w.p. } 1-p^{+}_j-p^{-}_j \\\\\n",
    "      -\\Delta x & \\text{w.p. } p^{-}_j \\\\\n",
    "\\end{array} \n",
    "\\right.  \n",
    "$$\n",
    "and $Y_n=\\sum_{j=1}^n Z_j$ be the random walk of $Z_j$. Let $\\Omega=\\{0, 1, 2, \\cdots, N_x, \\beta\\}$ be the state space of $\\tilde{X}_j$, where $\\beta$ is the absorbing state. When $0\\le Y_j\\le a$, we take $\\tilde{X}_j=Y_j/\\Delta x$; once $Y_j$ hits the boundary $0$ or $a$, we move the next step $\\tilde{X}_j$ to the absorbing state $\\beta$. Then the transition probability of $\\tilde{X}_j$'s would be\n",
    "$$\n",
    "\\mathcal{p}_{s_1s_2}(t_j)=\\mathbb{P}(\\tilde{X}_{j+1}=s_2\\Delta x|\\tilde{X}_{j}=s_1\\Delta x)=\n",
    "\\left\\{\n",
    "\\begin{array}{ll}\n",
    "\\mathbb{P}(Y_{j+1}=s_2\\Delta x|Y_{j}=s_1\\Delta x)=\n",
    "\\left\\{\n",
    "\\begin{array}{ll}\n",
    "      p^{+}_j & \\text{if  } s_2-s_1=1 \\\\\n",
    "      1-p^{+}_j-p^{-}_j & \\text{if  } s_2-s_1=0 \\\\\n",
    "      p^{-}_j & \\text{if  } s_2-s_1=-1 \\\\\n",
    "\\end{array} \n",
    "\\right. & \\text{if  } s_1,s_2\\in\\Omega\\backslash\\{0,N_x,\\beta\\} \\\\\n",
    "      1 & \\text{if  } s_1\\in\\{0,N_x,\\beta\\}, s_2=\\beta\\\\\n",
    "      0 & \\text{otherwise}  \\\\\n",
    "\\end{array} \n",
    "\\right. \n",
    "$$"
   ]
  },
  {
   "attachments": {},
   "cell_type": "markdown",
   "metadata": {},
   "source": [
    "We try to match the first and second moment of $X((j+1)\\Delta t)-X(j\\Delta t)$ and $Z_j$, i.e. we let\n",
    "$$\n",
    "\\begin{aligned}\n",
    "(p_j^{+}-p_j^{-})\\Delta x&=\\textstyle \\int_{j\\Delta t}^{(j+1)\\Delta t}\\mu(r)\\mathrm{d}r\\\\\n",
    "(p_j^{+}+p_j^{-})(\\Delta x)^2&=\\left(\\textstyle\\int_{j\\Delta t}^{(j+1)\\Delta t}\\mu(r)\\mathrm{d}r\\right)^2+\\sigma^2\\Delta t\n",
    "\\end{aligned}\n",
    "$$\n",
    "use a first order approximation for the integral, and let $\\mu_j=\\mu(j\\Delta t)$, then \n",
    "$$\n",
    "\\begin{aligned}\n",
    "(p_j^{+}-p_j^{-})\\Delta x&=\\mu_j\\Delta t\\\\\n",
    "(p_j^{+}+p_j^{-})(\\Delta x)^2&=\\mu_j^2(\\Delta t)^2+\\sigma^2\\Delta t\n",
    "\\end{aligned}\n",
    "$$\n",
    "from which we can solve for $p_j^+$ and $p_j^-$ explicitly.\n",
    "Note that we need to take suitable values of $\\Delta t$ and $\\Delta x$ to make $p_j^+$ and $p_j^-$ meaningful."
   ]
  },
  {
   "cell_type": "code",
   "execution_count": null,
   "metadata": {},
   "outputs": [],
   "source": [
    "class approx_hmc(nx.DiGraph):\n",
    "    \"\"\"\n",
    "    Markov chain approximation (homogeneous case)\n",
    "    \"\"\"\n",
    "\n",
    "    def __init__(self, mu, sigma, a, z, dt, Nx, verbose=True) -> None:\n",
    "        self.mu = mu  # drift coeff (constant)\n",
    "        self.sigma = sigma  # diffusion coeff (constant)\n",
    "        self.a = a  # upper boundary\n",
    "        self.z = z  # starting point\n",
    "        self.Nx = Nx  # num of space steps\n",
    "\n",
    "        self.dt = dt\n",
    "        dx = a / Nx\n",
    "        self.dx = dx\n",
    "\n",
    "        self.idx_z = int(round(z / dx))  # index of starting point\n",
    "        self.init_dist = np.zeros(self.Nx + 2)\n",
    "        self.init_dist[self.idx_z] = 1\n",
    "\n",
    "        # transition probability matrix\n",
    "        # 0, 1, ..., Nx are transient states\n",
    "        # Nx+1 is the absorbing state\n",
    "        m1 = mu * dt\n",
    "        m2 = (mu * dt) ** 2 + sigma ** 2 * dt\n",
    "        self.p1 = (m2 / dx ** 2 + m1 / dx) / 2\n",
    "        self.p2 = (m2 / dx ** 2 - m1 / dx) / 2\n",
    "        assert self.p1 + self.p2 < 1, \"p+=%.5f, p0=%.5f, p-=%.5f\" % (self.p1, 1 - self.p1 - self.p2, self.p2)\n",
    "        self.Construct_AdjMat()\n",
    "\n",
    "        if verbose:\n",
    "            self.summary()\n",
    "\n",
    "    def Construct_AdjMat(self):\n",
    "        AdjMat = sp.dok_array((self.Nx + 2, self.Nx + 2))\n",
    "        nz_dict = {(0, self.Nx + 1): 1, \n",
    "                   (self.Nx, self.Nx + 1): 1,\n",
    "                   (self.Nx + 1, self.Nx + 1): 1}\n",
    "        for i in range(1, self.Nx):\n",
    "            nz_dict[(i, i - 1)] = self.p2\n",
    "            nz_dict[(i, i)] = 1 - self.p1 - self.p2\n",
    "            nz_dict[(i, i + 1)] = self.p1\n",
    "        dict.update(AdjMat, nz_dict)\n",
    "        self.AdjMat = sp.csr_array(AdjMat)\n",
    "        super(approx_hmc, self).__init__(self.AdjMat)\n",
    "\n",
    "    def ExitDist(self, T):\n",
    "        \"\"\"\n",
    "        compute the full distribution of X[T]\n",
    "        where T is the first passage time \n",
    "        by MATRIX MULTIPLICATION\n",
    "        \"\"\"\n",
    "        dist_Xt = self.init_dist\n",
    "        idx_T = int(round(T / self.dt))\n",
    "        for t_step in range(idx_T):\n",
    "            dist_Xt = dist_Xt @ self.AdjMat\n",
    "        return dist_Xt\n",
    "\n",
    "    def ExitProb_dp1(self, T, s):\n",
    "        \"\"\"\n",
    "        compute the probability of P(X[T]=s)\n",
    "        where t is the first passage time\n",
    "        by DYNAMIC PROGRAMMING based on SPARSE ADJACENCY MATRIX\n",
    "        s: value in [0, a]\n",
    "        \"\"\"\n",
    "        idx_T = int(round(T / self.dt))\n",
    "        idx_s = int(round(s / self.dx))\n",
    "        table = np.zeros((self.Nx + 2, idx_T))\n",
    "        table[:, [idx_T - 1]] = self.AdjMat[:, [idx_s]].toarray()\n",
    "        for t_step in range(idx_T - 2, -1, -1):\n",
    "            table[:, [t_step]] = self.AdjMat @ table[:, [t_step + 1]]\n",
    "        return table[:, 0] @ self.init_dist\n",
    "\n",
    "    def ExitProb_dp2(self, T, s):\n",
    "        \"\"\"\n",
    "        compute the probability of P(X[T]=s)\n",
    "        where t is the first passage time\n",
    "        by DYNAMIC PROGRAMMING based on AJACENCY LIST\n",
    "        s: value in [0, a]\n",
    "        \"\"\"\n",
    "        idx_T = int(round(T / self.dt))\n",
    "        idx_s = int(round(s / self.dx))\n",
    "        table = np.zeros((self.Nx + 2, idx_T))\n",
    "        table[:, [idx_T - 1]] = self.AdjMat[:, [idx_s]].toarray()\n",
    "        for t_step in range(idx_T - 2, -1, -1):\n",
    "            for u, v, w in self.in_edges(data=True):\n",
    "                table[u, t_step] += w[\"weight\"] * table[v, t_step + 1]\n",
    "        return table[:, 0] @ self.init_dist\n",
    "\n",
    "    def ExitProb_logdp1(self, T, s):\n",
    "        \"\"\"\n",
    "        compute the probability of P(X[T]=s) in LOG scale\n",
    "        where t is the first passage time\n",
    "        by DYNAMIC PROGRAMMING based on ADJACENCY MATRIX\n",
    "        s: value in [0, a]\n",
    "        \"\"\"\n",
    "        idx_T = int(round(T / self.dt))\n",
    "        idx_s = int(round(s / self.dx))\n",
    "        logP = np.log(self.AdjMat.todense())\n",
    "        logtable = np.zeros((self.Nx + 2, idx_T))\n",
    "        logtable[:, [idx_T - 1]] = logP[:, [idx_s]]\n",
    "        for t_step in range(idx_T - 2, -1, -1):\n",
    "            logtable[:, [t_step]] = logdotexp(logP, logtable[:, [t_step + 1]])\n",
    "        logprob = logdotexp(np.log(self.init_dist).reshape(1, -1), logtable[:, [0]])\n",
    "        return np.squeeze(np.exp(logprob))[()]\n",
    "    \n",
    "    def ExitProb_logdp2(self, T, s):\n",
    "        \"\"\"\n",
    "        compute the probability of P(X[T]=s) with a EXP scaling\n",
    "        where t is the first passage time\n",
    "        by DYNAMIC PROGRAMMING based on ADJACENCY MATRIX\n",
    "        s: value in [0, a]\n",
    "        \"\"\"\n",
    "        idx_T = int(round(T / self.dt))\n",
    "        idx_s = int(round(s / self.dx))\n",
    "        scaled_table = np.zeros((self.Nx + 2, idx_T))\n",
    "        r = 0\n",
    "        scaled_table[:, [idx_T - 1]] = self.AdjMat[:, [idx_s]].toarray() / np.exp(r)\n",
    "        for t_step in range(idx_T - 2, -1, -1):\n",
    "            b = np.sum(self.AdjMat @ scaled_table[:, [t_step + 1]])\n",
    "            r = r + np.log(b)\n",
    "            scaled_table[:, [t_step]] = self.AdjMat @ scaled_table[:, [t_step + 1]] / b\n",
    "        return scaled_table[:, 0] * np.exp(r) @ self.init_dist\n",
    "        \n",
    "\n",
    "    def ExitProb_test(self, T, s):\n",
    "        \"\"\"\n",
    "        compute the probability of P(X[T]=s)\n",
    "        where t is the first passage time\n",
    "        by BRUTAL FORCE (only used for testing!)\n",
    "        s: value in [0, a]\n",
    "        \"\"\"\n",
    "        idx_T = int(round(T / self.dt))\n",
    "        idx_s = int(round(s / self.dx))\n",
    "        ranges = [range(self.Nx + 2)] * (idx_T - 1)\n",
    "        prob = 0\n",
    "        for xs in itertools.product(*ranges):\n",
    "            prob_traj = self.AdjMat[self.idx_z, xs[0]] * self.AdjMat[xs[-1], idx_s]\n",
    "            for l in range(len(xs) - 1):\n",
    "                prob_traj *= self.AdjMat[xs[l], xs[l + 1]]\n",
    "            prob += prob_traj\n",
    "        return prob\n",
    "\n",
    "    def summary(self):\n",
    "        print(\"mu: %.3f\" % self.mu)\n",
    "        print(\"sigma: %.3f\" % self.sigma)\n",
    "        print(\"a: %.3f\" % self.a)\n",
    "        print(\"z: %.3f\" % self.z)\n",
    "        print(\"dt: %.5f\" % self.dt)\n",
    "        print(\"dx: %.5f\" % self.dx)\n",
    "        print(\"Nx: %d\" % self.Nx)\n",
    "        print(\"shape of P: \" + str(self.AdjMat.shape))\n",
    "        print(\"p+, p0, p-: %.5f, %.5f, %.5f\" % (self.p1, 1 - self.p1 - self.p2, self.p2))\n"
   ]
  },
  {
   "attachments": {},
   "cell_type": "markdown",
   "metadata": {},
   "source": [
    "Let $\\tau=\\inf\\{j\\ge0:\\tilde{X}_j=0\\text{ or }a\\}$ be the first passage time of $\\tilde{X}_j$ through the boundary.\n",
    "We want to compute \n",
    "$\\mathbb{P}(\\tilde{X}_\\tau=0)$ and $\\mathbb{P}(\\tilde{X}_\\tau=a)$, or more generally $\\mathbb{P}(\\tilde{X}_\\tau=x_\\tau)$\n",
    "\n",
    "$$\n",
    "\\begin{aligned}\n",
    "\\mathbb{P}(\\tilde{X}_\\tau=x_\\tau)\n",
    "&=\\sum_{x_0, x_1,\\cdots, x_{\\tau-1}} \\mathbb{P}(\\tilde{X}_\\tau=x_\\tau|\\tilde{X}_{\\tau-1}=x_{\\tau-1})\\mathbb{P}(\\tilde{X}_{\\tau-1}=x_{\\tau-1}|\\tilde{X}_{\\tau-2}=x_{\\tau-2})\\cdots\\mathbb{P}(\\tilde{X}_1=x_1|\\tilde{X}_{0}=x_0)\\mathbb{P}(\\tilde{X}_{0}=x_0)\\\\\n",
    "&=\\sum_{x_0, x_1,\\cdots, x_{\\tau-2}}\\underbrace{\\sum_{x_{\\tau-1}} \\mathbb{P}(\\tilde{X}_\\tau=x_\\tau|\\tilde{X}_{\\tau-1}=x_{\\tau-1})\\mathbb{P}(\\tilde{X}_{\\tau-1}=x_{\\tau-1}|\\tilde{X}_{\\tau-2}=x_{\\tau-2})}_{f_{\\tau-2}(x_{\\tau-2})}\\cdots\\mathbb{P}(\\tilde{X}_1=x_1|\\tilde{X}_{0}=x_0)\\mathbb{P}(\\tilde{X}_{0}=x_0)\\\\\n",
    "&=\\sum_{x_0, x_1,\\cdots, x_{\\tau-3}}\\underbrace{\\sum_{x_{\\tau-2}}f_{\\tau-2}(x_{\\tau-2})\\mathbb{P}(\\tilde{X}_{\\tau-2}=x_{\\tau-2}|\\tilde{X}_{\\tau-3}=x_{\\tau-3})}_{f_{\\tau-3}(x_{\\tau-3})}\\cdots\\mathbb{P}(\\tilde{X}_1=x_1|\\tilde{X}_{0}=x_0)\\mathbb{P}(\\tilde{X}_{0}=x_0)\\\\\n",
    "&=\\cdots\\\\\n",
    "&=\\sum_{x_0}\\underbrace{\\sum_{x_{1}}f_{1}(x_{1})\\mathbb{P}(\\tilde{X}_{1}=x_{1}|\\tilde{X}_{0}=x_{0})}_{f_{0}(x_{0})}\\mathbb{P}(\\tilde{X}_{0}=x_0)\\\\\n",
    "\n",
    "\\end{aligned}\n",
    "$$\n",
    "In fact $f_j(x_j)=\\mathbb{P}(\\tilde{X}_{\\tau}=x_\\tau\\Delta x|\\tilde{X}_{j}=x_j\\Delta x)$ here."
   ]
  },
  {
   "attachments": {},
   "cell_type": "markdown",
   "metadata": {},
   "source": [
    "$$\n",
    "\\begin{aligned}\n",
    "f_{\\tau-1}(x_{\\tau-1})&= P(t_{\\tau-1})[x_{\\tau-1},x_\\tau]\\\\\n",
    "f_{\\tau-2}(x_{\\tau-2})&=\\sum_{x_{\\tau-1}} \\mathbb{P}(\\tilde{X}_\\tau=x_\\tau|\\tilde{X}_{\\tau-1}=x_{\\tau-1})\\mathbb{P}(\\tilde{X}_{\\tau-1}=x_{\\tau-1}|\\tilde{X}_{\\tau-2}=x_{\\tau-2})\\\\\n",
    "&=\\sum_{x_{\\tau-1}} p_{x_{\\tau-1},x_\\tau}(t_{\\tau-1})p_{x_{\\tau-2},x_{\\tau-1}}(t_{\\tau-2})\\\\\n",
    "&=P(t_{\\tau-2})[x_{\\tau-2},:]\\cdot P(t_{\\tau-1})[:,x_\\tau]\\\\\n",
    "&=P(t_{\\tau-2})[x_{\\tau-2},:]\\cdot f_{\\tau-1}\\\\\n",
    "f_{\\tau-3}(x_{\\tau-3})&=\\sum_{x_{\\tau-2}} f_{\\tau-2}(x_{\\tau-2})p_{x_{\\tau-3},x_{\\tau-2}}(t_{\\tau-3})\\\\\n",
    "&=\\text{row $x_{\\tau-3}$ of $P(t_{\\tau-3})$} \\cdot f_{\\tau-2}\\\\\n",
    "&\\cdots\\\\\n",
    "&\\cdots\\\\\n",
    "\\underbrace{f_{j}(x_j)}_{\\in\\mathbb{R}}&=\\sum_{x_{j+1}} p_{x_j,x_{j+1}}(t_{j})f_{j+1}(x_{j+1})=\\underbrace{P(t_{j})[x_j,:]}_{\\in\\mathbb{R}^{1\\times N}} \\cdot \\underbrace{f_{j+1}}_{\\in\\mathbb{R}^{N\\times 1}}\\\\\n",
    "\\Rightarrow \\underbrace{f_{j}}_{\\in\\mathbb{R}^{N\\times1}}&=\\underbrace{P(t_{j})}_{\\in\\mathbb{R}^{N\\times N}} \\cdot \\underbrace{f_{j+1}}_{\\in\\mathbb{R}^{N\\times1}}\\\\\n",
    "\\end{aligned}\n",
    "$$"
   ]
  },
  {
   "attachments": {},
   "cell_type": "markdown",
   "metadata": {},
   "source": [
    "to prevent numerical underflow:\n",
    "$$\n",
    "\\begin{aligned}\n",
    "f_{j}(x_j)&=\\sum_{x_{j+1}} p_{x_j,x_{j+1}}(t_{j})f_{j+1}(x_{j+1})\\\\\n",
    "&=\\sum_{x_{j+1}} p_{x_j,x_{j+1}}(t_{j})\\tilde{f}_{j+1}(x_{j+1})e^{r_j}\\\\\n",
    "&=e^{r_{j+1}}\\sum_{x_{j+1}} p_{x_j,x_{j+1}}(t_{j})\\tilde{f}_{j+1}(x_{j+1})\\\\\n",
    "&=\\underbrace{e^{r_{j+1}}\\sum_{x_j, x_{j+1}} p_{x_j,x_{j+1}}(t_{j})\\tilde{f}_{j+1}(x_{j+1})}_{e^{r_j}}\\frac{\\sum_{x_{j+1}} p_{x_j,x_{j+1}}(t_{j})\\tilde{f}_{j+1}(x_{j+1})}{\\sum_{x_j, x_{j+1}} p_{x_j,x_{j+1}}(t_{j})\\tilde{f}_{j+1}(x_{j+1})}\\\\\n",
    "\\end{aligned}\n",
    "$$\n",
    "Procedures:\n",
    "\n",
    "$$\n",
    "\\begin{aligned}\n",
    "\\bullet &\\text{  $f_{\\tau-1}=P[:,x_\\tau]$. Let $\\tilde{f}_{\\tau-1}=f_{\\tau-1}/e^{r_{\\tau-1}}$, with some suitable $r$}\\\\\n",
    "\\bullet &\\text{  In the $j$-th time step: Let } b=\\textstyle \\sum P\\cdot\\tilde{f}_{j+1}, \\\\\n",
    "& \\text{Since $f_{j}=P\\cdot f_{j+1}=e^{r_{j+1}}\\left(P\\cdot\\tilde{f}_{j+1}\\right)=\\left(e^{r_{j+1}}b\\right)\\left(P\\cdot\\tilde{f}_{j+1}/b\\right)$},\\\\\n",
    "& \\text{ let $r_{j}=r_{j+1}+\\log b$, $\\tilde{f}_j=P\\cdot\\tilde{f}_{j+1}/b$}\\\\\n",
    "\\bullet & \\text{ In the last step,  $f_0=\\tilde{f}_0e^{r_0}$}\n",
    "\\end{aligned}\n",
    "$$"
   ]
  },
  {
   "cell_type": "markdown",
   "metadata": {},
   "source": []
  },
  {
   "cell_type": "code",
   "execution_count": null,
   "metadata": {},
   "outputs": [],
   "source": [
    "mc1 = approx_hmc(mu=0.2, sigma=1, a=4, z=2, dt=0.01, Nx=4)"
   ]
  },
  {
   "cell_type": "code",
   "execution_count": null,
   "metadata": {},
   "outputs": [],
   "source": [
    "nx.adjacency_matrix(mc1).todense()"
   ]
  },
  {
   "attachments": {},
   "cell_type": "markdown",
   "metadata": {},
   "source": [
    "#### An example:\n",
    "$\\mu=0.2, \\sigma=1, a=4, z=2$. Set $\\Delta t=0.1, \\Delta x=0.8$, the state space $\\Omega=\\{0, 1,2,3,4,5,\\beta\\}$. The process exits boundary $a=0$ at time $1\\ \\mathrm{s}$."
   ]
  },
  {
   "cell_type": "code",
   "execution_count": null,
   "metadata": {},
   "outputs": [],
   "source": [
    "mc1 = approx_hmc(mu=0.2, sigma=1, a=4, z=2, dt=0.001, Nx=100)"
   ]
  },
  {
   "cell_type": "code",
   "execution_count": null,
   "metadata": {},
   "outputs": [],
   "source": [
    "T = 1\n",
    "mc1.ExitDist(T)"
   ]
  },
  {
   "cell_type": "code",
   "execution_count": null,
   "metadata": {},
   "outputs": [],
   "source": [
    "[mc1.ExitProb_dp1(T, i*mc1.dx) for i in range(mc1.Nx+1)]"
   ]
  },
  {
   "cell_type": "code",
   "execution_count": null,
   "metadata": {},
   "outputs": [],
   "source": [
    "[mc1.ExitProb_dp2(T, i*mc1.dx) for i in range(mc1.Nx+1)]"
   ]
  },
  {
   "cell_type": "code",
   "execution_count": null,
   "metadata": {},
   "outputs": [],
   "source": [
    "[mc1.ExitProb_logdp1(T, i*mc1.dx) for i in range(mc1.Nx+1)]"
   ]
  },
  {
   "cell_type": "code",
   "execution_count": null,
   "metadata": {},
   "outputs": [],
   "source": [
    "[mc1.ExitProb_logdp2(T, i*mc1.dx) for i in range(mc1.Nx+1)]"
   ]
  },
  {
   "cell_type": "code",
   "execution_count": null,
   "metadata": {},
   "outputs": [],
   "source": [
    "[mc1.ExitProb_test(T, i*mc1.dx) for i in range(mc1.Nx+1)]"
   ]
  },
  {
   "attachments": {},
   "cell_type": "markdown",
   "metadata": {},
   "source": [
    "The first passage"
   ]
  },
  {
   "cell_type": "code",
   "execution_count": null,
   "metadata": {},
   "outputs": [],
   "source": [
    "def LogLikelihood(chain, data):\n",
    "    \"\"\"\n",
    "    compute the likelihood: product of P(X(Tk)=Ck)\n",
    "    \"\"\"\n",
    "    logprob = 0 \n",
    "    for Ck, Tk in data:\n",
    "        logprob += np.log(chain.ExitProb_logdp(Tk, Ck))\n",
    "        if np.isinf(logprob):\n",
    "            raise ValueError('Infty detected, computation is stopped.')\n",
    "    return logprob"
   ]
  },
  {
   "cell_type": "code",
   "execution_count": 3,
   "metadata": {},
   "outputs": [
    {
     "ename": "NameError",
     "evalue": "name 'mc1' is not defined",
     "output_type": "error",
     "traceback": [
      "\u001b[0;31m---------------------------------------------------------------------------\u001b[0m",
      "\u001b[0;31mNameError\u001b[0m                                 Traceback (most recent call last)",
      "Cell \u001b[0;32mIn[3], line 1\u001b[0m\n\u001b[0;32m----> 1\u001b[0m LogLikelihood(mc1, data)\n",
      "\u001b[0;31mNameError\u001b[0m: name 'mc1' is not defined"
     ]
    }
   ],
   "source": [
    "LogLikelihood(mc1, data)"
   ]
  },
  {
   "cell_type": "code",
   "execution_count": 1,
   "metadata": {},
   "outputs": [],
   "source": []
  },
  {
   "cell_type": "code",
   "execution_count": 2,
   "metadata": {},
   "outputs": [
    {
     "ename": "NameError",
     "evalue": "name 'np' is not defined",
     "output_type": "error",
     "traceback": [
      "\u001b[0;31m---------------------------------------------------------------------------\u001b[0m",
      "\u001b[0;31mNameError\u001b[0m                                 Traceback (most recent call last)",
      "Cell \u001b[0;32mIn[2], line 1\u001b[0m\n\u001b[0;32m----> 1\u001b[0m mu_list \u001b[39m=\u001b[39m np\u001b[39m.\u001b[39marange(\u001b[39m-\u001b[39m\u001b[39m1\u001b[39m, \u001b[39m1\u001b[39m, \u001b[39m0.005\u001b[39m)\n\u001b[1;32m      2\u001b[0m probs_list \u001b[39m=\u001b[39m []\n\u001b[1;32m      3\u001b[0m \u001b[39mfor\u001b[39;00m mu \u001b[39min\u001b[39;00m mu_list:\n",
      "\u001b[0;31mNameError\u001b[0m: name 'np' is not defined"
     ]
    }
   ],
   "source": [
    "mu_list = np.arange(-1, 1, 0.005)\n",
    "probs_list = []\n",
    "for mu in mu_list:\n",
    "    chain = approx_hmc(mu=mu, sigma=1, a=4, z=2, dt=0.001, Nx=100, verbose=False)\n",
    "    probs_list.append(LogLikelihood(chain, data))"
   ]
  },
  {
   "cell_type": "code",
   "execution_count": null,
   "metadata": {},
   "outputs": [],
   "source": [
    "print(probs_list)"
   ]
  },
  {
   "cell_type": "code",
   "execution_count": null,
   "metadata": {},
   "outputs": [],
   "source": [
    "plt.plot(mu_list, probs_list)"
   ]
  },
  {
   "cell_type": "code",
   "execution_count": null,
   "metadata": {},
   "outputs": [],
   "source": [
    "mu_list[np.argmax(probs_list)]"
   ]
  },
  {
   "cell_type": "code",
   "execution_count": null,
   "metadata": {},
   "outputs": [],
   "source": []
  },
  {
   "cell_type": "code",
   "execution_count": null,
   "metadata": {},
   "outputs": [],
   "source": []
  }
 ],
 "metadata": {
  "kernelspec": {
   "display_name": "Python 3",
   "language": "python",
   "name": "python3"
  },
  "language_info": {
   "codemirror_mode": {
    "name": "ipython",
    "version": 3
   },
   "file_extension": ".py",
   "mimetype": "text/x-python",
   "name": "python",
   "nbconvert_exporter": "python",
   "pygments_lexer": "ipython3",
   "version": "3.10.9"
  },
  "orig_nbformat": 4,
  "vscode": {
   "interpreter": {
    "hash": "7a3245a4b686fd2fdbd1b5c162174e035883b1b6fd5d1f00baffc0130b83a564"
   }
  }
 },
 "nbformat": 4,
 "nbformat_minor": 2
}
