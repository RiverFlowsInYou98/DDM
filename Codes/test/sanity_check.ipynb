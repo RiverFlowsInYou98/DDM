{
 "cells": [
  {
   "cell_type": "code",
   "execution_count": 1,
   "metadata": {},
   "outputs": [],
   "source": [
    "from chain import approx_hmc\n",
    "from utils import *\n",
    "import numpy as np\n",
    "import matplotlib.pyplot as plt\n",
    "import seaborn as sns"
   ]
  },
  {
   "attachments": {},
   "cell_type": "markdown",
   "metadata": {},
   "source": [
    "#### Test 1: Coarse grid, check if the code gives the correct full distribution"
   ]
  },
  {
   "cell_type": "code",
   "execution_count": 2,
   "metadata": {},
   "outputs": [
    {
     "name": "stdout",
     "output_type": "stream",
     "text": [
      "mu: 0.200\n",
      "sigma: 1.000\n",
      "a: 4.000\n",
      "z: 2.000\n",
      "dt: 0.20000\n",
      "dx: 0.80000\n",
      "Nx: 5\n",
      "shape of P: (7, 7)\n",
      "p+, p0, p-: 0.18250, 0.68500, 0.13250\n"
     ]
    }
   ],
   "source": [
    "chain1 = approx_hmc(mu=0.2, sigma=1, a=4, z=2/4, dt=0.2, Nx=5)"
   ]
  },
  {
   "cell_type": "code",
   "execution_count": 3,
   "metadata": {},
   "outputs": [
    {
     "name": "stderr",
     "output_type": "stream",
     "text": [
      "/gpfs/home/sliu167/WorkSpace/ddm/Backup/chain.py:113: RuntimeWarning: divide by zero encountered in log\n",
      "  logP = np.log(self.AdjMat.todense())\n",
      "/gpfs/home/sliu167/WorkSpace/ddm/Backup/chain.py:118: RuntimeWarning: divide by zero encountered in log\n",
      "  logtable[:, [t_step]] = b.max() + np.log(self.AdjMat @ np.exp(b - b.max()))\n",
      "/gpfs/home/sliu167/WorkSpace/ddm/Backup/chain.py:119: RuntimeWarning: divide by zero encountered in log\n",
      "  logprob = logsumexp(np.log(self.init_dist) + logtable[:, 0])\n"
     ]
    },
    {
     "name": "stdout",
     "output_type": "stream",
     "text": [
      "0.024898093798437496 0.17631948681103515 0.31627776333925783 0.2638825492796875 0.11532800625683592\n",
      "0.024898093798437496 0.17631948681103515 0.31627776333925783 0.2638825492796875 0.11532800625683591\n",
      "0.024898093798437496 0.17631948681103515 0.31627776333925783 0.2638825492796875 0.11532800625683591\n",
      "0.024898093798437493 0.17631948681103515 0.31627776333925783 0.2638825492796875 0.1153280062568359\n",
      "0.024898093798437496 0.17631948681103515 0.3162777633392579 0.2638825492796876 0.11532800625683592\n",
      "0.024898093798437493 0.17631948681103532 0.3162777633392574 0.2638825492796874 0.11532800625683595\n"
     ]
    }
   ],
   "source": [
    "T = 1\n",
    "dist1 = chain1.ExitDist(T)\n",
    "dist2 = [chain1.ExitProb_dp1(T, i*chain1.dx) for i in range(chain1.Nx+1)]\n",
    "dist3 = [chain1.ExitProb_dp2(T, i*chain1.dx) for i in range(chain1.Nx+1)]\n",
    "dist4 = [chain1.ExitProb_logdp1(T, i*chain1.dx) for i in range(chain1.Nx+1)]\n",
    "dist5 = [chain1.ExitProb_logdp2(T, i*chain1.dx) for i in range(chain1.Nx+1)]\n",
    "dist6 = [chain1.ExitProb_test(T, i*chain1.dx) for i in range(chain1.Nx+1)]\n",
    "print(*dist1[:5])\n",
    "print(*dist2[:5])\n",
    "print(*dist3[:5])\n",
    "print(*dist4[:5])\n",
    "print(*dist5[:5])\n",
    "print(*dist6[:5])"
   ]
  },
  {
   "attachments": {},
   "cell_type": "markdown",
   "metadata": {},
   "source": [
    "#### Test 2: Dense grid, compare running time of exit probability"
   ]
  },
  {
   "cell_type": "code",
   "execution_count": 4,
   "metadata": {},
   "outputs": [
    {
     "name": "stdout",
     "output_type": "stream",
     "text": [
      "mu: 0.200\n",
      "sigma: 1.000\n",
      "a: 4.000\n",
      "z: 2.000\n",
      "dt: 0.00100\n",
      "dx: 0.05000\n",
      "Nx: 80\n",
      "shape of P: (82, 82)\n",
      "p+, p0, p-: 0.20201, 0.59998, 0.19801\n"
     ]
    }
   ],
   "source": [
    "chain2 = approx_hmc(mu=0.2, sigma=1, a=4, z=2/4, dt=0.001, Nx=80)"
   ]
  },
  {
   "cell_type": "code",
   "execution_count": 5,
   "metadata": {},
   "outputs": [
    {
     "name": "stdout",
     "output_type": "stream",
     "text": [
      "40.8 ms ± 436 µs per loop (mean ± std. dev. of 7 runs, 10 loops each)\n",
      "562 ms ± 10.2 ms per loop (mean ± std. dev. of 7 runs, 1 loop each)\n",
      "120 ms ± 1.51 ms per loop (mean ± std. dev. of 7 runs, 10 loops each)\n",
      "123 ms ± 4.78 ms per loop (mean ± std. dev. of 7 runs, 10 loops each)\n"
     ]
    }
   ],
   "source": [
    "T = 4\n",
    "%timeit prob2 = chain2.ExitProb_dp1(T, 4)\n",
    "%timeit prob3 = chain2.ExitProb_dp2(T, 4)\n",
    "%timeit prob4 = chain2.ExitProb_logdp1(T, 4)\n",
    "%timeit prob5 = chain2.ExitProb_logdp2(T, 4)"
   ]
  },
  {
   "cell_type": "code",
   "execution_count": 6,
   "metadata": {},
   "outputs": [
    {
     "data": {
      "text/plain": [
       "(7.873250893361756e-05,\n",
       " 7.873250893361756e-05,\n",
       " 7.873250893362534e-05,\n",
       " 7.87325089336158e-05)"
      ]
     },
     "execution_count": 6,
     "metadata": {},
     "output_type": "execute_result"
    }
   ],
   "source": [
    "prob2 = chain2.ExitProb_dp1(T, 4)\n",
    "prob3 = chain2.ExitProb_dp2(T, 4)\n",
    "prob4 = chain2.ExitProb_logdp1(T, 4)\n",
    "prob5 = chain2.ExitProb_logdp2(T, 4)\n",
    "prob2, prob3, prob4, prob5"
   ]
  },
  {
   "attachments": {},
   "cell_type": "markdown",
   "metadata": {},
   "source": [
    "#### Test 3: Compare results as the grid becomes denser, check if it converges to the continuous case"
   ]
  },
  {
   "cell_type": "code",
   "execution_count": 9,
   "metadata": {},
   "outputs": [
    {
     "name": "stdout",
     "output_type": "stream",
     "text": [
      "0.02547652896815553\n"
     ]
    },
    {
     "data": {
      "text/plain": [
       "(0.02643224301257986,\n",
       " 0.02539651859230776,\n",
       " 0.025458311713189366,\n",
       " 0.025473112226127977,\n",
       " 0.02547677223099034)"
      ]
     },
     "execution_count": 9,
     "metadata": {},
     "output_type": "execute_result"
    }
   ],
   "source": [
    "dt = 0.001\n",
    "chain0 = approx_hmc(mu=0.2, sigma=1, a=4, z=2/4, dt=dt, Nx=5, verbose=False)\n",
    "chain1 = approx_hmc(mu=0.2, sigma=1, a=4, z=2/4, dt=dt, Nx=10, verbose=False)\n",
    "chain2 = approx_hmc(mu=0.2, sigma=1, a=4, z=2/4, dt=dt, Nx=20, verbose=False)\n",
    "chain3 = approx_hmc(mu=0.2, sigma=1, a=4, z=2/4, dt=dt, Nx=40, verbose=False)\n",
    "chain4 = approx_hmc(mu=0.2, sigma=1, a=4, z=2/4, dt=dt, Nx=80, verbose=False)\n",
    "prob0 = chain0.ExitProb_logdp2(T=5, s=0)\n",
    "prob1 = chain1.ExitProb_logdp2(T=5, s=0)\n",
    "prob2 = chain2.ExitProb_logdp2(T=5, s=0)\n",
    "prob3 = chain3.ExitProb_logdp2(T=5, s=0)\n",
    "prob4 = chain4.ExitProb_logdp2(T=5, s=0)\n",
    "print(wfpt(T=5, mu=0.2, a=4, z=2/4, err=1e-10))\n",
    "prob0/dt, prob1/dt, prob2/dt, prob3/dt, prob4/dt"
   ]
  },
  {
   "cell_type": "code",
   "execution_count": 10,
   "metadata": {},
   "outputs": [
    {
     "name": "stdout",
     "output_type": "stream",
     "text": [
      "0.02547652896815553\n"
     ]
    },
    {
     "data": {
      "text/plain": [
       "(0.026431750901944617,\n",
       " 0.025395291002294176,\n",
       " 0.02545712908536354,\n",
       " 0.025471940789884538,\n",
       " 0.02547560359179506,\n",
       " 0.025476516789387695)"
      ]
     },
     "execution_count": 10,
     "metadata": {},
     "output_type": "execute_result"
    }
   ],
   "source": [
    "dt = 0.0002\n",
    "chain0 = approx_hmc(mu=0.2, sigma=1, a=4, z=2/4, dt=dt, Nx=5, verbose=False)\n",
    "chain1 = approx_hmc(mu=0.2, sigma=1, a=4, z=2/4, dt=dt, Nx=10, verbose=False)\n",
    "chain2 = approx_hmc(mu=0.2, sigma=1, a=4, z=2/4, dt=dt, Nx=20, verbose=False)\n",
    "chain3 = approx_hmc(mu=0.2, sigma=1, a=4, z=2/4, dt=dt, Nx=40, verbose=False)\n",
    "chain4 = approx_hmc(mu=0.2, sigma=1, a=4, z=2/4, dt=dt, Nx=80, verbose=False)\n",
    "chain5 = approx_hmc(mu=0.2, sigma=1, a=4, z=2/4, dt=dt, Nx=160, verbose=False)\n",
    "prob0 = chain0.ExitProb_logdp2(T=5, s=0)\n",
    "prob1 = chain1.ExitProb_logdp2(T=5, s=0)\n",
    "prob2 = chain2.ExitProb_logdp2(T=5, s=0)\n",
    "prob3 = chain3.ExitProb_logdp2(T=5, s=0)\n",
    "prob4 = chain4.ExitProb_logdp2(T=5, s=0)\n",
    "prob5 = chain5.ExitProb_logdp2(T=5, s=0)\n",
    "print(wfpt(T=5, mu=0.2, a=4, z=2/4, err=1e-10))\n",
    "prob0/dt, prob1/dt, prob2/dt, prob3/dt, prob4/dt, prob5/dt"
   ]
  },
  {
   "attachments": {},
   "cell_type": "markdown",
   "metadata": {},
   "source": [
    "#### Test 4: Maximum Likelihood Parameter Search\n"
   ]
  }
 ],
 "metadata": {
  "kernelspec": {
   "display_name": "Python 3",
   "language": "python",
   "name": "python3"
  },
  "language_info": {
   "codemirror_mode": {
    "name": "ipython",
    "version": 3
   },
   "file_extension": ".py",
   "mimetype": "text/x-python",
   "name": "python",
   "nbconvert_exporter": "python",
   "pygments_lexer": "ipython3",
   "version": "3.10.9"
  },
  "orig_nbformat": 4,
  "vscode": {
   "interpreter": {
    "hash": "7a3245a4b686fd2fdbd1b5c162174e035883b1b6fd5d1f00baffc0130b83a564"
   }
  }
 },
 "nbformat": 4,
 "nbformat_minor": 2
}
