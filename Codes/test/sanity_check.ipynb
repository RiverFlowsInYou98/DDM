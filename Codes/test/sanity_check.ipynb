{
 "cells": [
  {
   "cell_type": "code",
   "execution_count": 1,
   "metadata": {},
   "outputs": [],
   "source": [
    "from chain import approx_hmc\n",
    "from utils import *\n",
    "import numpy as np\n",
    "import matplotlib.pyplot as plt\n",
    "import seaborn as sns"
   ]
  },
  {
   "attachments": {},
   "cell_type": "markdown",
   "metadata": {},
   "source": [
    "#### Test 1: Coarse grid, check if the code gives the correct full distribution"
   ]
  },
  {
   "cell_type": "code",
   "execution_count": 2,
   "metadata": {},
   "outputs": [
    {
     "name": "stdout",
     "output_type": "stream",
     "text": [
      "mu: 0.200\n",
      "sigma: 1.000\n",
      "a: 4.000\n",
      "z: 2.000\n",
      "dt: 0.20000\n",
      "dx: 0.80000\n",
      "Nx: 5\n",
      "shape of P: (7, 7)\n",
      "p+, p0, p-: 0.18250, 0.68500, 0.13250\n"
     ]
    }
   ],
   "source": [
    "chain1 = approx_hmc(mu=0.2, sigma=1, a=4, z=2/4, dt=0.2, Nx=5)"
   ]
  },
  {
   "cell_type": "code",
   "execution_count": 3,
   "metadata": {},
   "outputs": [
    {
     "name": "stderr",
     "output_type": "stream",
     "text": [
      "/gpfs/home/sliu167/WorkSpace/ddm/Backup/chain.py:113: RuntimeWarning: divide by zero encountered in log\n",
      "  logP = np.log(self.AdjMat.todense())\n",
      "/gpfs/home/sliu167/WorkSpace/ddm/Backup/chain.py:118: RuntimeWarning: divide by zero encountered in log\n",
      "  logtable[:, [t_step]] = b.max() + np.log(self.AdjMat @ np.exp(b - b.max()))\n",
      "/gpfs/home/sliu167/WorkSpace/ddm/Backup/chain.py:119: RuntimeWarning: divide by zero encountered in log\n",
      "  logprob = logsumexp(np.log(self.init_dist) + logtable[:, 0])\n"
     ]
    },
    {
     "name": "stdout",
     "output_type": "stream",
     "text": [
      "0.024898093798437496 0.17631948681103515 0.31627776333925783 0.2638825492796875 0.11532800625683592\n",
      "0.024898093798437496 0.17631948681103515 0.31627776333925783 0.2638825492796875 0.11532800625683591\n",
      "0.024898093798437496 0.17631948681103515 0.31627776333925783 0.2638825492796875 0.11532800625683591\n",
      "0.024898093798437493 0.17631948681103515 0.31627776333925783 0.2638825492796875 0.1153280062568359\n",
      "0.024898093798437496 0.17631948681103515 0.3162777633392579 0.2638825492796876 0.11532800625683592\n",
      "0.024898093798437493 0.17631948681103532 0.3162777633392574 0.2638825492796874 0.11532800625683595\n"
     ]
    }
   ],
   "source": [
    "T = 1\n",
    "dist1 = chain1.ExitDist(T)\n",
    "dist2 = [chain1.ExitProb_dp1(T, i*chain1.dx) for i in range(chain1.Nx+1)]\n",
    "dist3 = [chain1.ExitProb_dp2(T, i*chain1.dx) for i in range(chain1.Nx+1)]\n",
    "dist4 = [chain1.ExitProb_logdp1(T, i*chain1.dx) for i in range(chain1.Nx+1)]\n",
    "dist5 = [chain1.ExitProb_logdp2(T, i*chain1.dx) for i in range(chain1.Nx+1)]\n",
    "dist6 = [chain1.ExitProb_test(T, i*chain1.dx) for i in range(chain1.Nx+1)]\n",
    "print(*dist1[:5])\n",
    "print(*dist2[:5])\n",
    "print(*dist3[:5])\n",
    "print(*dist4[:5])\n",
    "print(*dist5[:5])\n",
    "print(*dist6[:5])"
   ]
  },
  {
   "attachments": {},
   "cell_type": "markdown",
   "metadata": {},
   "source": [
    "#### Test 2: Dense grid, compare running time of exit probability"
   ]
  },
  {
   "cell_type": "code",
   "execution_count": 4,
   "metadata": {},
   "outputs": [
    {
     "name": "stdout",
     "output_type": "stream",
     "text": [
      "mu: 0.200\n",
      "sigma: 1.000\n",
      "a: 4.000\n",
      "z: 2.000\n",
      "dt: 0.00100\n",
      "dx: 0.05000\n",
      "Nx: 80\n",
      "shape of P: (82, 82)\n",
      "p+, p0, p-: 0.20201, 0.59998, 0.19801\n"
     ]
    }
   ],
   "source": [
    "chain2 = approx_hmc(mu=0.2, sigma=1, a=4, z=2/4, dt=0.001, Nx=80)"
   ]
  },
  {
   "cell_type": "code",
   "execution_count": 5,
   "metadata": {},
   "outputs": [
    {
     "name": "stdout",
     "output_type": "stream",
     "text": [
      "40.8 ms ± 436 µs per loop (mean ± std. dev. of 7 runs, 10 loops each)\n",
      "562 ms ± 10.2 ms per loop (mean ± std. dev. of 7 runs, 1 loop each)\n",
      "120 ms ± 1.51 ms per loop (mean ± std. dev. of 7 runs, 10 loops each)\n",
      "123 ms ± 4.78 ms per loop (mean ± std. dev. of 7 runs, 10 loops each)\n"
     ]
    }
   ],
   "source": [
    "T = 4\n",
    "%timeit prob2 = chain2.ExitProb_dp1(T, 4)\n",
    "%timeit prob3 = chain2.ExitProb_dp2(T, 4)\n",
    "%timeit prob4 = chain2.ExitProb_logdp1(T, 4)\n",
    "%timeit prob5 = chain2.ExitProb_logdp2(T, 4)"
   ]
  },
  {
   "cell_type": "code",
   "execution_count": 6,
   "metadata": {},
   "outputs": [
    {
     "data": {
      "text/plain": [
       "(7.873250893361756e-05,\n",
       " 7.873250893361756e-05,\n",
       " 7.873250893362534e-05,\n",
       " 7.87325089336158e-05)"
      ]
     },
     "execution_count": 6,
     "metadata": {},
     "output_type": "execute_result"
    }
   ],
   "source": [
    "prob2 = chain2.ExitProb_dp1(T, 4)\n",
    "prob3 = chain2.ExitProb_dp2(T, 4)\n",
    "prob4 = chain2.ExitProb_logdp1(T, 4)\n",
    "prob5 = chain2.ExitProb_logdp2(T, 4)\n",
    "prob2, prob3, prob4, prob5"
   ]
  },
  {
   "attachments": {},
   "cell_type": "markdown",
   "metadata": {},
   "source": [
    "#### Test 3: Compare results as the grid becomes denser, check if it converges to the continuous case"
   ]
  },
  {
   "cell_type": "code",
   "execution_count": 9,
   "metadata": {},
   "outputs": [
    {
     "name": "stdout",
     "output_type": "stream",
     "text": [
      "0.02547652896815553\n"
     ]
    },
    {
     "data": {
      "text/plain": [
       "(0.02643224301257986,\n",
       " 0.02539651859230776,\n",
       " 0.025458311713189366,\n",
       " 0.025473112226127977,\n",
       " 0.02547677223099034)"
      ]
     },
     "execution_count": 9,
     "metadata": {},
     "output_type": "execute_result"
    }
   ],
   "source": [
    "dt = 0.001\n",
    "chain0 = approx_hmc(mu=0.2, sigma=1, a=4, z=2/4, dt=dt, Nx=5, verbose=False)\n",
    "chain1 = approx_hmc(mu=0.2, sigma=1, a=4, z=2/4, dt=dt, Nx=10, verbose=False)\n",
    "chain2 = approx_hmc(mu=0.2, sigma=1, a=4, z=2/4, dt=dt, Nx=20, verbose=False)\n",
    "chain3 = approx_hmc(mu=0.2, sigma=1, a=4, z=2/4, dt=dt, Nx=40, verbose=False)\n",
    "chain4 = approx_hmc(mu=0.2, sigma=1, a=4, z=2/4, dt=dt, Nx=80, verbose=False)\n",
    "prob0 = chain0.ExitProb_logdp2(T=5, s=0)\n",
    "prob1 = chain1.ExitProb_logdp2(T=5, s=0)\n",
    "prob2 = chain2.ExitProb_logdp2(T=5, s=0)\n",
    "prob3 = chain3.ExitProb_logdp2(T=5, s=0)\n",
    "prob4 = chain4.ExitProb_logdp2(T=5, s=0)\n",
    "print(wfpt(T=5, mu=0.2, a=4, z=2/4, err=1e-10))\n",
    "prob0/dt, prob1/dt, prob2/dt, prob3/dt, prob4/dt"
   ]
  },
  {
   "cell_type": "code",
   "execution_count": 10,
   "metadata": {},
   "outputs": [
    {
     "name": "stdout",
     "output_type": "stream",
     "text": [
      "0.02547652896815553\n"
     ]
    },
    {
     "data": {
      "text/plain": [
       "(0.026431750901944617,\n",
       " 0.025395291002294176,\n",
       " 0.02545712908536354,\n",
       " 0.025471940789884538,\n",
       " 0.02547560359179506,\n",
       " 0.025476516789387695)"
      ]
     },
     "execution_count": 10,
     "metadata": {},
     "output_type": "execute_result"
    }
   ],
   "source": [
    "dt = 0.0002\n",
    "chain0 = approx_hmc(mu=0.2, sigma=1, a=4, z=2/4, dt=dt, Nx=5, verbose=False)\n",
    "chain1 = approx_hmc(mu=0.2, sigma=1, a=4, z=2/4, dt=dt, Nx=10, verbose=False)\n",
    "chain2 = approx_hmc(mu=0.2, sigma=1, a=4, z=2/4, dt=dt, Nx=20, verbose=False)\n",
    "chain3 = approx_hmc(mu=0.2, sigma=1, a=4, z=2/4, dt=dt, Nx=40, verbose=False)\n",
    "chain4 = approx_hmc(mu=0.2, sigma=1, a=4, z=2/4, dt=dt, Nx=80, verbose=False)\n",
    "chain5 = approx_hmc(mu=0.2, sigma=1, a=4, z=2/4, dt=dt, Nx=160, verbose=False)\n",
    "prob0 = chain0.ExitProb_logdp2(T=5, s=0)\n",
    "prob1 = chain1.ExitProb_logdp2(T=5, s=0)\n",
    "prob2 = chain2.ExitProb_logdp2(T=5, s=0)\n",
    "prob3 = chain3.ExitProb_logdp2(T=5, s=0)\n",
    "prob4 = chain4.ExitProb_logdp2(T=5, s=0)\n",
    "prob5 = chain5.ExitProb_logdp2(T=5, s=0)\n",
    "print(wfpt(T=5, mu=0.2, a=4, z=2/4, err=1e-10))\n",
    "prob0/dt, prob1/dt, prob2/dt, prob3/dt, prob4/dt, prob5/dt"
   ]
  },
  {
   "attachments": {},
   "cell_type": "markdown",
   "metadata": {},
   "source": [
    "#### Test 4: Maximum Likelihood Parameter Search\n",
    "True paramater: $\\mu=0.2, z=1.5$."
   ]
  },
  {
   "cell_type": "code",
   "execution_count": 11,
   "metadata": {},
   "outputs": [
    {
     "ename": "FileNotFoundError",
     "evalue": "[Errno 2] No such file or directory: 'data.npy'",
     "output_type": "error",
     "traceback": [
      "\u001b[0;31m---------------------------------------------------------------------------\u001b[0m",
      "\u001b[0;31mFileNotFoundError\u001b[0m                         Traceback (most recent call last)",
      "Cell \u001b[0;32mIn[11], line 1\u001b[0m\n\u001b[0;32m----> 1\u001b[0m data \u001b[39m=\u001b[39m np\u001b[39m.\u001b[39;49mload(\u001b[39m'\u001b[39;49m\u001b[39mdata.npy\u001b[39;49m\u001b[39m'\u001b[39;49m)\n\u001b[1;32m      2\u001b[0m data\u001b[39m.\u001b[39mshape\n",
      "File \u001b[0;32m~/anaconda/ddm/lib/python3.10/site-packages/numpy/lib/npyio.py:405\u001b[0m, in \u001b[0;36mload\u001b[0;34m(file, mmap_mode, allow_pickle, fix_imports, encoding, max_header_size)\u001b[0m\n\u001b[1;32m    403\u001b[0m     own_fid \u001b[39m=\u001b[39m \u001b[39mFalse\u001b[39;00m\n\u001b[1;32m    404\u001b[0m \u001b[39melse\u001b[39;00m:\n\u001b[0;32m--> 405\u001b[0m     fid \u001b[39m=\u001b[39m stack\u001b[39m.\u001b[39menter_context(\u001b[39mopen\u001b[39;49m(os_fspath(file), \u001b[39m\"\u001b[39;49m\u001b[39mrb\u001b[39;49m\u001b[39m\"\u001b[39;49m))\n\u001b[1;32m    406\u001b[0m     own_fid \u001b[39m=\u001b[39m \u001b[39mTrue\u001b[39;00m\n\u001b[1;32m    408\u001b[0m \u001b[39m# Code to distinguish from NumPy binary files and pickles.\u001b[39;00m\n",
      "\u001b[0;31mFileNotFoundError\u001b[0m: [Errno 2] No such file or directory: 'data.npy'"
     ]
    }
   ],
   "source": [
    "data = np.load('data.npy')\n",
    "data.shape"
   ]
  },
  {
   "cell_type": "code",
   "execution_count": 12,
   "metadata": {},
   "outputs": [
    {
     "ename": "FileNotFoundError",
     "evalue": "results/probs1d.txt not found.",
     "output_type": "error",
     "traceback": [
      "\u001b[0;31m---------------------------------------------------------------------------\u001b[0m",
      "\u001b[0;31mFileNotFoundError\u001b[0m                         Traceback (most recent call last)",
      "Cell \u001b[0;32mIn[12], line 1\u001b[0m\n\u001b[0;32m----> 1\u001b[0m probs1d \u001b[39m=\u001b[39m np\u001b[39m.\u001b[39;49mloadtxt(\u001b[39m'\u001b[39;49m\u001b[39mresults/probs1d.txt\u001b[39;49m\u001b[39m'\u001b[39;49m)\n\u001b[1;32m      2\u001b[0m mu_list \u001b[39m=\u001b[39m np\u001b[39m.\u001b[39marange(\u001b[39m-\u001b[39m\u001b[39m1\u001b[39m, \u001b[39m1\u001b[39m, \u001b[39m0.01\u001b[39m)\n\u001b[1;32m      4\u001b[0m idx \u001b[39m=\u001b[39m np\u001b[39m.\u001b[39margmax(probs1d)\n",
      "File \u001b[0;32m~/anaconda/ddm/lib/python3.10/site-packages/numpy/lib/npyio.py:1338\u001b[0m, in \u001b[0;36mloadtxt\u001b[0;34m(fname, dtype, comments, delimiter, converters, skiprows, usecols, unpack, ndmin, encoding, max_rows, quotechar, like)\u001b[0m\n\u001b[1;32m   1335\u001b[0m \u001b[39mif\u001b[39;00m \u001b[39misinstance\u001b[39m(delimiter, \u001b[39mbytes\u001b[39m):\n\u001b[1;32m   1336\u001b[0m     delimiter \u001b[39m=\u001b[39m delimiter\u001b[39m.\u001b[39mdecode(\u001b[39m'\u001b[39m\u001b[39mlatin1\u001b[39m\u001b[39m'\u001b[39m)\n\u001b[0;32m-> 1338\u001b[0m arr \u001b[39m=\u001b[39m _read(fname, dtype\u001b[39m=\u001b[39;49mdtype, comment\u001b[39m=\u001b[39;49mcomment, delimiter\u001b[39m=\u001b[39;49mdelimiter,\n\u001b[1;32m   1339\u001b[0m             converters\u001b[39m=\u001b[39;49mconverters, skiplines\u001b[39m=\u001b[39;49mskiprows, usecols\u001b[39m=\u001b[39;49musecols,\n\u001b[1;32m   1340\u001b[0m             unpack\u001b[39m=\u001b[39;49munpack, ndmin\u001b[39m=\u001b[39;49mndmin, encoding\u001b[39m=\u001b[39;49mencoding,\n\u001b[1;32m   1341\u001b[0m             max_rows\u001b[39m=\u001b[39;49mmax_rows, quote\u001b[39m=\u001b[39;49mquotechar)\n\u001b[1;32m   1343\u001b[0m \u001b[39mreturn\u001b[39;00m arr\n",
      "File \u001b[0;32m~/anaconda/ddm/lib/python3.10/site-packages/numpy/lib/npyio.py:975\u001b[0m, in \u001b[0;36m_read\u001b[0;34m(fname, delimiter, comment, quote, imaginary_unit, usecols, skiplines, max_rows, converters, ndmin, unpack, dtype, encoding)\u001b[0m\n\u001b[1;32m    973\u001b[0m     fname \u001b[39m=\u001b[39m os\u001b[39m.\u001b[39mfspath(fname)\n\u001b[1;32m    974\u001b[0m \u001b[39mif\u001b[39;00m \u001b[39misinstance\u001b[39m(fname, \u001b[39mstr\u001b[39m):\n\u001b[0;32m--> 975\u001b[0m     fh \u001b[39m=\u001b[39m np\u001b[39m.\u001b[39;49mlib\u001b[39m.\u001b[39;49m_datasource\u001b[39m.\u001b[39;49mopen(fname, \u001b[39m'\u001b[39;49m\u001b[39mrt\u001b[39;49m\u001b[39m'\u001b[39;49m, encoding\u001b[39m=\u001b[39;49mencoding)\n\u001b[1;32m    976\u001b[0m     \u001b[39mif\u001b[39;00m encoding \u001b[39mis\u001b[39;00m \u001b[39mNone\u001b[39;00m:\n\u001b[1;32m    977\u001b[0m         encoding \u001b[39m=\u001b[39m \u001b[39mgetattr\u001b[39m(fh, \u001b[39m'\u001b[39m\u001b[39mencoding\u001b[39m\u001b[39m'\u001b[39m, \u001b[39m'\u001b[39m\u001b[39mlatin1\u001b[39m\u001b[39m'\u001b[39m)\n",
      "File \u001b[0;32m~/anaconda/ddm/lib/python3.10/site-packages/numpy/lib/_datasource.py:193\u001b[0m, in \u001b[0;36mopen\u001b[0;34m(path, mode, destpath, encoding, newline)\u001b[0m\n\u001b[1;32m    156\u001b[0m \u001b[39m\"\"\"\u001b[39;00m\n\u001b[1;32m    157\u001b[0m \u001b[39mOpen `path` with `mode` and return the file object.\u001b[39;00m\n\u001b[1;32m    158\u001b[0m \n\u001b[0;32m   (...)\u001b[0m\n\u001b[1;32m    189\u001b[0m \n\u001b[1;32m    190\u001b[0m \u001b[39m\"\"\"\u001b[39;00m\n\u001b[1;32m    192\u001b[0m ds \u001b[39m=\u001b[39m DataSource(destpath)\n\u001b[0;32m--> 193\u001b[0m \u001b[39mreturn\u001b[39;00m ds\u001b[39m.\u001b[39;49mopen(path, mode, encoding\u001b[39m=\u001b[39;49mencoding, newline\u001b[39m=\u001b[39;49mnewline)\n",
      "File \u001b[0;32m~/anaconda/ddm/lib/python3.10/site-packages/numpy/lib/_datasource.py:533\u001b[0m, in \u001b[0;36mDataSource.open\u001b[0;34m(self, path, mode, encoding, newline)\u001b[0m\n\u001b[1;32m    530\u001b[0m     \u001b[39mreturn\u001b[39;00m _file_openers[ext](found, mode\u001b[39m=\u001b[39mmode,\n\u001b[1;32m    531\u001b[0m                               encoding\u001b[39m=\u001b[39mencoding, newline\u001b[39m=\u001b[39mnewline)\n\u001b[1;32m    532\u001b[0m \u001b[39melse\u001b[39;00m:\n\u001b[0;32m--> 533\u001b[0m     \u001b[39mraise\u001b[39;00m \u001b[39mFileNotFoundError\u001b[39;00m(\u001b[39mf\u001b[39m\u001b[39m\"\u001b[39m\u001b[39m{\u001b[39;00mpath\u001b[39m}\u001b[39;00m\u001b[39m not found.\u001b[39m\u001b[39m\"\u001b[39m)\n",
      "\u001b[0;31mFileNotFoundError\u001b[0m: results/probs1d.txt not found."
     ]
    }
   ],
   "source": [
    "probs1d = np.loadtxt('results/probs1d.txt')\n",
    "mu_list = np.arange(-1, 1, 0.01)\n",
    "\n",
    "idx = np.argmax(probs1d)\n",
    "mu_list[idx]\n"
   ]
  },
  {
   "cell_type": "code",
   "execution_count": null,
   "metadata": {},
   "outputs": [],
   "source": [
    "plt.plot(mu_list, probs1d)\n",
    "plt.show()"
   ]
  },
  {
   "cell_type": "code",
   "execution_count": null,
   "metadata": {},
   "outputs": [],
   "source": [
    "num_ticks = 10\n",
    "# the index of the position of yticks\n",
    "yticks = np.linspace(0, len(depth_list) - 1, num_ticks, dtype=np.int)\n",
    "# the content of labels of these yticks\n",
    "yticklabels = [depth_list[idx] for idx in yticks"
   ]
  },
  {
   "cell_type": "code",
   "execution_count": null,
   "metadata": {},
   "outputs": [],
   "source": [
    "probs2d = np.loadtxt('results/probs2d.txt')\n",
    "mu_list = np.linspace(-1, 1, 21)\n",
    "z_list = np.linspace(0.5, 3.5, 21)\n",
    "idx = np.unravel_index(np.argmax(probs2d), probs2d.shape)\n",
    "\n",
    "mu_list[idx[0]], z_list[idx[1]]\n"
   ]
  },
  {
   "cell_type": "code",
   "execution_count": null,
   "metadata": {},
   "outputs": [],
   "source": [
    "hm = sns.heatmap(probs2d, cmap='hot')\n",
    "\n",
    "from matplotlib.patches import Rectangle\n",
    "hm.add_patch(Rectangle((idx[1],idx[0]),1,1, fill=False, edgecolor='blue', lw=1))\n",
    "\n",
    "hm.invert_yaxis()\n",
    "hm.set_xlabel('$z$', fontsize=10)\n",
    "hm.set_ylabel('$\\mu$', fontsize=10)\n",
    "hm.set_xticks(np.arange(0, 21, 5))\n",
    "hm.set_yticks(np.arange(0, 21, 5))\n",
    "\n",
    "hm.set_xticklabels(z_list[::5])\n",
    "hm.set_yticklabels(mu_list[::5])\n",
    "plt.show()"
   ]
  }
 ],
 "metadata": {
  "kernelspec": {
   "display_name": "Python 3",
   "language": "python",
   "name": "python3"
  },
  "language_info": {
   "codemirror_mode": {
    "name": "ipython",
    "version": 3
   },
   "file_extension": ".py",
   "mimetype": "text/x-python",
   "name": "python",
   "nbconvert_exporter": "python",
   "pygments_lexer": "ipython3",
   "version": "3.10.9"
  },
  "orig_nbformat": 4,
  "vscode": {
   "interpreter": {
    "hash": "7a3245a4b686fd2fdbd1b5c162174e035883b1b6fd5d1f00baffc0130b83a564"
   }
  }
 },
 "nbformat": 4,
 "nbformat_minor": 2
}
