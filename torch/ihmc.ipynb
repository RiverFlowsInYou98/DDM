{
 "cells": [
  {
   "cell_type": "code",
   "execution_count": 3,
   "metadata": {},
   "outputs": [],
   "source": [
    "import torch\n",
    "import torch.nn as nn\n",
    "import itertools\n",
    "import numpy as np\n",
    "import matplotlib.pyplot as plt"
   ]
  },
  {
   "cell_type": "code",
   "execution_count": 7,
   "metadata": {},
   "outputs": [
    {
     "data": {
      "text/plain": [
       "(0.0, 9.0)"
      ]
     },
     "execution_count": 7,
     "metadata": {},
     "output_type": "execute_result"
    },
    {
     "data": {
      "image/png": "[encoded data removed]",
      "text/plain": [
       "<Figure size 640x480 with 1 Axes>"
      ]
     },
     "metadata": {},
     "output_type": "display_data"
    }
   ],
   "source": [
    "lam = 1  # 参数为1.5的泊松过程\n",
    "T = 10  # 时间到T\n",
    "n = np.random.poisson(lam * T)  # T时间内发生的次数\n",
    "# 生成n个[0, T]均匀分布随机数并排序\n",
    "t = np.hstack([[0], np.sort(np.random.random(n) * T)])\n",
    "for i in range(n):\n",
    "    plt.plot((t[i], t[i+1]), (i, i), c='r')\n",
    "plt.plot((t[i+1], T), (n, n), c='r')\n",
    "plt.xlim([0, T])\n",
    "plt.ylim([0, n])"
   ]
  },
  {
   "cell_type": "code",
   "execution_count": 4,
   "metadata": {},
   "outputs": [
    {
     "data": {
      "text/plain": [
       "array([0.23026037, 1.32320875, 0.24510373, 0.72080276, 0.88421667,\n",
       "       0.00175209, 0.72795267, 0.00133543, 0.39971817, 0.76578267])"
      ]
     },
     "execution_count": 4,
     "metadata": {},
     "output_type": "execute_result"
    }
   ],
   "source": [
    "np.random.exponential(scale=1., size=10)"
   ]
  },
  {
   "cell_type": "code",
   "execution_count": null,
   "metadata": {},
   "outputs": [],
   "source": [
    "class MCModel(nn.Module):\n",
    "    \"\"\"\n",
    "    Markov chain approximation (homogeneous case)\n",
    "    \"\"\"\n",
    "\n",
    "    def __init__(\n",
    "        self,\n",
    "        mu_init: float,\n",
    "        sigma: float,\n",
    "        a: float,\n",
    "        z: float,\n",
    "        dt: float,\n",
    "        Nx: int,\n",
    "    ) -> None:\n",
    "        super(MCModel, self).__init__()\n",
    "        self.mu = nn.Parameter(torch.tensor([mu_init]))\n",
    "\n",
    "        self.sigma = sigma  # diffusion coeff (constant)\n",
    "        self.a, self.z = a, z  # upper boundary & starting point\n",
    "        self.Nx = Nx  # num of space steps\n",
    "        dx = a / Nx\n",
    "        self.dt, self.dx = dt, dx\n",
    "\n",
    "        self.idx_z = int(round(z / dx))  # index of starting point\n",
    "        self.init_dist = torch.zeros((1, self.Nx + 2))\n",
    "        self.init_dist[0, self.idx_z] = 1\n",
    "\n",
    "    def forward(self, T, s):\n",
    "        \"\"\"\n",
    "        compute the probability of P(X[T]=s) with a exponential scaling\n",
    "        where t is the first passage time\n",
    "        by DYNAMIC PROGRAMMING\n",
    "        s: value in [0, a]\n",
    "        \"\"\"\n",
    "        m1 = self.mu * self.dt\n",
    "        m2 = (self.mu * self.dt) ** 2 + self.sigma ** 2 * self.dt\n",
    "        p1 = (m2 / self.dx ** 2 + m1 / self.dx) / 2\n",
    "        p2 = (m2 / self.dx ** 2 - m1 / self.dx) / 2\n",
    "        assert p1 + p2 < 1, \"p+=%.5f, p0=%.5f, p-=%.5f\" % (p1, 1 - p1 - p2, p2)\n",
    "        probs = torch.cat((p2, 1 - p1 - p2, p1))\n",
    "        indices = [[0, self.Nx + 1], [self.Nx, self.Nx + 1], [self.Nx + 1, self.Nx + 1]]\n",
    "        values = torch.tensor([1, 1, 1])\n",
    "        for i in range(1, self.Nx):\n",
    "            indices.extend([[i, i - 1], [i, i], [i, i + 1]])\n",
    "            values = torch.cat((values, probs))\n",
    "        AdjMat = torch.sparse_coo_tensor(\n",
    "            list(zip(*indices)), values, size=(self.Nx + 2, self.Nx + 2)\n",
    "        )\n",
    "        idx_T = int(round(T / self.dt))\n",
    "        idx_s = int(round(s / self.dx))\n",
    "        r = torch.tensor(0)\n",
    "        scaled_table = AdjMat.to_dense()[:, [idx_s]] / torch.exp(r)\n",
    "        for t_step in range(idx_T - 2, -1, -1):\n",
    "            b = torch.sum(torch.sparse.mm(AdjMat, scaled_table))\n",
    "            r = r + torch.log(b)\n",
    "            scaled_table = torch.sparse.mm(AdjMat, scaled_table) / b\n",
    "        return torch.sparse.mm(self.init_dist, scaled_table) * torch.exp(r)\n",
    "\n",
    "    def loss_fun(self, data):\n",
    "        \"\"\"\n",
    "        compute the average negative log likelihood\n",
    "        likelihood = product of P(X(Tk)=Ck)\n",
    "        \"\"\"\n",
    "        logprob = 0\n",
    "        for Tk, Ck in data:\n",
    "            logprob -= torch.log(self.forward(Tk, Ck))\n",
    "            if torch.isinf(logprob):\n",
    "                raise ValueError(\"Infty detected, computation is stopped.\")\n",
    "        return logprob.squeeze() / len(data)"
   ]
  },
  {
   "cell_type": "code",
   "execution_count": null,
   "metadata": {},
   "outputs": [],
   "source": [
    "def train_sgd(model, data, num_epochs=100):\n",
    "    loss_history, mu_history = [], []\n",
    "    optimizer = torch.optim.SGD(model.parameters(), lr=0.1)\n",
    "    # define closure\n",
    "    def closure():\n",
    "        optimizer.zero_grad()\n",
    "        loss = model.loss_fun(data)\n",
    "        loss.backward()\n",
    "        return loss\n",
    "    for epoch in range(num_epochs + 1):\n",
    "        # training\n",
    "        if epoch > 0:\n",
    "            optimizer.step(closure)\n",
    "        # evaluation\n",
    "        loss = model.loss_fun(data).detach().numpy().squeeze()\n",
    "        para = model.mu.detach().numpy().squeeze()\n",
    "        print(\"Epoch %d: Loss: %.5f; Parameters: %.5f\" % (epoch, loss, para))\n",
    "        loss_history.append(loss)\n",
    "        mu_history.append(para)\n",
    "        # check convergence\n",
    "        if epoch > 0 and np.abs(loss - loss_history[-2]) < 1e-4:\n",
    "            break\n",
    "    print(\"Optimization ends.\")\n",
    "    return np.array(loss_history), np.array(mu_history)"
   ]
  },
  {
   "cell_type": "code",
   "execution_count": 7,
   "metadata": {},
   "outputs": [
    {
     "data": {
      "text/plain": [
       "(1000, 2)"
      ]
     },
     "execution_count": 7,
     "metadata": {},
     "output_type": "execute_result"
    }
   ],
   "source": [
    "data = np.load('../data.npy')\n",
    "data.shape"
   ]
  },
  {
   "cell_type": "code",
   "execution_count": 8,
   "metadata": {},
   "outputs": [],
   "source": [
    "ddm = MCModel(mu_init=1., sigma=1, a=4, z=1.5, dt=0.001, Nx=40)"
   ]
  },
  {
   "cell_type": "code",
   "execution_count": 9,
   "metadata": {},
   "outputs": [],
   "source": [
    "train(ddm, data[100:200])"
   ]
  },
  {
   "cell_type": "code",
   "execution_count": null,
   "metadata": {},
   "outputs": [],
   "source": []
  }
 ],
 "metadata": {
  "kernelspec": {
   "display_name": "torch",
   "language": "python",
   "name": "python3"
  },
  "language_info": {
   "codemirror_mode": {
    "name": "ipython",
    "version": 3
   },
   "file_extension": ".py",
   "mimetype": "text/x-python",
   "name": "python",
   "nbconvert_exporter": "python",
   "pygments_lexer": "ipython3",
   "version": "3.10.9"
  },
  "orig_nbformat": 4,
  "vscode": {
   "interpreter": {
    "hash": "8ec1c86f0fe716a4d325670fa96f3d850fc06e77762fd4f1d8e799712ee08f17"
   }
  }
 },
 "nbformat": 4,
 "nbformat_minor": 2
}
