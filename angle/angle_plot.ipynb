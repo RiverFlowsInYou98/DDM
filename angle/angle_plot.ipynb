{
 "cells": [
  {
   "cell_type": "code",
   "execution_count": 1,
   "metadata": {},
   "outputs": [],
   "source": [
    "from matplotlib import pyplot as plt\n",
    "from hddm.simulators import simulator\n",
    "import hddm\n",
    "import numpy as np\n",
    "import pandas as pd\n",
    "import scipy.sparse as sp\n",
    "import gc\n",
    "\n",
    "import sys\n",
    "sys.path.append(\"../Codes\")\n",
    "from utils import *\n",
    "from chain import *\n",
    "from Hall1997 import *\n"
   ]
  },
  {
   "cell_type": "code",
   "execution_count": 2,
   "metadata": {},
   "outputs": [
    {
     "data": {
      "text/plain": [
       "{'doc': 'Model formulation is described in the documentation under LAN Extension.\\nMeant for use with the extension.',\n",
       " 'params': ['v', 'a', 'z', 't', 'theta'],\n",
       " 'params_trans': [0, 0, 1, 0, 0],\n",
       " 'params_std_upper': [1.5, 1.0, None, 1.0, 1.0],\n",
       " 'param_bounds': [[-3.0, 0.3, 0.1, 0.001, -0.1], [3.0, 3.0, 0.9, 2.0, 1.3]],\n",
       " 'boundary': <function ssms.basic_simulators.boundary_functions.angle(t=1, theta=1)>,\n",
       " 'params_default': [0.0, 1.0, 0.5, 0.001, 0.1],\n",
       " 'hddm_include': ['v', 'a', 't', 'z', 'theta'],\n",
       " 'choices': [-1, 1],\n",
       " 'slice_widths': {'v': 1.5,\n",
       "  'v_std': 1,\n",
       "  'a': 1,\n",
       "  'a_std': 1,\n",
       "  'z': 0.1,\n",
       "  'z_trans': 0.2,\n",
       "  't': 0.01,\n",
       "  't_std': 0.15,\n",
       "  'theta': 0.1,\n",
       "  'theta_std': 0.2}}"
      ]
     },
     "execution_count": 2,
     "metadata": {},
     "output_type": "execute_result"
    }
   ],
   "source": [
    "hddm.model_config.model_config[\"angle\"]\n"
   ]
  },
  {
   "cell_type": "markdown",
   "metadata": {},
   "source": [
    "### test 1: Set $\\theta=0$\n",
    "\n",
    "Note that the space considered in angle model and LAN is $[-a,a]$, while that in DDM and wfpt is $[0, a]$.\n",
    "\n",
    "Also the angle model and LAN implements the non-decision time.\n",
    "\n",
    "#### plot the first passage time density"
   ]
  },
  {
   "cell_type": "code",
   "execution_count": null,
   "metadata": {},
   "outputs": [],
   "source": [
    "# parameters\n",
    "mu = 1.0\n",
    "a = 1.5\n",
    "z = 0.5\n",
    "t_nd = 0.5\n",
    "theta = 0\n",
    "out = simulator(model=\"angle\", theta=[mu, a, z, t_nd, theta], n_samples=10000)\n"
   ]
  },
  {
   "cell_type": "code",
   "execution_count": null,
   "metadata": {},
   "outputs": [],
   "source": [
    "rts, choices, metadata = out\n",
    "print(\"rts: \" + str(rts.shape))\n",
    "print(\"choices: \" + str(choices.shape))\n",
    "print(\"metadata: \")\n",
    "for key in metadata:\n",
    "    print(key, end=\": \")\n",
    "    print(metadata[key])\n"
   ]
  },
  {
   "cell_type": "code",
   "execution_count": null,
   "metadata": {},
   "outputs": [],
   "source": [
    "# Get data into format accepted by hddm package (below)\n",
    "data = pd.DataFrame(\n",
    "    np.stack([np.squeeze(out[0]), np.squeeze(out[1])]).T, columns=[\"rt\", \"response\"]\n",
    ")\n",
    "data[\"subject\"] = 0\n",
    "data\n"
   ]
  },
  {
   "cell_type": "code",
   "execution_count": null,
   "metadata": {},
   "outputs": [],
   "source": [
    "# Get the model\n",
    "lan_angle = hddm.network_inspectors.get_torch_mlp(model=\"angle\")\n"
   ]
  },
  {
   "cell_type": "code",
   "execution_count": null,
   "metadata": {},
   "outputs": [],
   "source": [
    "# prob1 stands for wfpt\n",
    "# prob2 stands for MC_Angle\n",
    "# prob3 stands for MC_DDM\n",
    "# prob4 stands for LAN\n",
    "# prob5 stands for Hall1997\n",
    "\n",
    "prob1_list = []\n",
    "prob2_list = []\n",
    "prob3_list = []\n",
    "prob5_list = []\n",
    "\n",
    "mc2 = MC_Angle(mu=mu, a=a, z=z, t_nd=t_nd, theta=theta, dt=0.001, Nx=80)\n",
    "mc3 = MC_DDM(mu=mu, sigma=1, a=2 * a, z=z, dt=0.001, Nx=80, verbose=False)\n",
    "\n",
    "T_list = np.linspace(0.5+0.001, 8, 100)\n",
    "rT_list = np.hstack((T_list, T_list)).reshape(-1, 1)\n",
    "choice_list = np.hstack((np.ones(T_list.shape), -np.ones(T_list.shape))).reshape(-1, 1)\n",
    "para_matrix = np.tile(np.array([mu, a, z, t_nd, theta]), (200, 1))\n",
    "network_input = np.hstack((para_matrix, rT_list, choice_list)).astype(np.float32)\n",
    "prob4_list = np.exp(lan_angle(network_input))\n",
    "\n",
    "print(\"upper:\")\n",
    "for T in T_list:\n",
    "    print(\"{:.4f}\".format(T), end=\" \")\n",
    "    prob1 = wfpt(T - t_nd, -mu, 2 * a, 1-z, 1e-10)\n",
    "    prob2 = mc2.ExitProb_dp(T=T, s=a) / mc2.dt\n",
    "    prob3 = mc3.ExitProb_dp1(T=T - t_nd, s=2*a) / mc3.dt\n",
    "    prob5 = density_horiz(T-t_nd, mu, a, theta, trunc_num=40, bdy=\"upper\")\n",
    "    prob1_list.append(prob1)\n",
    "    prob2_list.append(prob2)\n",
    "    prob3_list.append(prob3)\n",
    "    prob5_list.append(prob5)\n",
    "    gc.collect()\n",
    "print()\n",
    "print(\"lower:\")\n",
    "for T in T_list:\n",
    "    print(\"{:.4f}\".format(-T), end=\" \")\n",
    "    prob1 = wfpt(T - t_nd, mu, 2 * a, z, 1e-10)\n",
    "    prob2 = mc2.ExitProb_dp(T=T, s=-a) / mc2.dt\n",
    "    prob3 = mc3.ExitProb_dp1(T=T - t_nd, s=0) / mc3.dt\n",
    "    prob5 = density_horiz(T-t_nd, mu, a, theta, trunc_num=40, bdy=\"lower\")\n",
    "    prob1_list.append(prob1)\n",
    "    prob2_list.append(prob2)\n",
    "    prob3_list.append(prob3)\n",
    "    prob5_list.append(prob5)\n",
    "    gc.collect()\n",
    "    \n"
   ]
  },
  {
   "cell_type": "code",
   "execution_count": null,
   "metadata": {},
   "outputs": [],
   "source": [
    "sort_idx = np.argsort(network_input[:, -2] * network_input[:, -1])\n",
    "signedT_list = (network_input[:, -2] * network_input[:, -1])[sort_idx]\n",
    "\n",
    "prob1_array = np.array(prob1_list)[sort_idx]\n",
    "prob2_array = np.array(prob2_list)[sort_idx]\n",
    "prob3_array = np.array(prob3_list)[sort_idx]\n",
    "prob4_array = np.array(prob4_list)[sort_idx]\n",
    "prob5_array = np.array(prob5_list)[sort_idx]"
   ]
  },
  {
   "cell_type": "code",
   "execution_count": null,
   "metadata": {},
   "outputs": [],
   "source": [
    "fig, ax = plt.subplots(figsize=(6, 3.6), dpi=150)\n",
    "ax.plot(signedT_list, prob1_array, label='WFPT, Navarro and Fuss (2009)', lw=0.8, c='g')\n",
    "ax.plot(signedT_list, prob2_array, label='MC_Angle', lw=0.8, c='r')\n",
    "ax.plot(signedT_list, prob3_array, label='MC_ddm', lw=0.8, c='purple')\n",
    "ax.plot(signedT_list, prob4_array, label='LAN', lw=0.8, c='b')\n",
    "ax.plot(signedT_list, prob5_array, label='Hall (1997)', lw=0.8, c='y')\n",
    "\n",
    "ax.hist(\n",
    "    np.squeeze(out[0]) * np.squeeze(out[1]), histtype=\"step\", bins=40, color=\"black\", density=True\n",
    ")\n",
    "ax.set_xlabel(\"reaction times\")\n",
    "ax.set_ylabel(\"density\")\n",
    "ax.legend(fontsize=6)\n",
    "plt.show()"
   ]
  },
  {
   "attachments": {},
   "cell_type": "markdown",
   "metadata": {},
   "source": [
    "### test 2: For the Angle model with $\\theta\\neq0$"
   ]
  },
  {
   "cell_type": "code",
   "execution_count": 2,
   "metadata": {},
   "outputs": [],
   "source": [
    "mu = 1\n",
    "a = 1.5\n",
    "z = 0.5\n",
    "t_nd = 0.5\n",
    "theta = 0.3\n",
    "out = simulator(model=\"angle\", theta=[mu, a, z, t_nd, theta], n_samples=10000)"
   ]
  },
  {
   "cell_type": "code",
   "execution_count": null,
   "metadata": {},
   "outputs": [],
   "source": [
    "prob2_list = []\n",
    "prob5_list = []\n",
    "\n",
    "mc2 = MC_Angle(mu=mu, a=a, z=z, t_nd=t_nd, theta=theta, dt=0.001, Nx=80) # dt=0.0002, Nx=200 for a dense approx\n",
    "\n",
    "T_list = np.linspace(0.5+0.001, 8, 100)\n",
    "rT_list = np.hstack((T_list, T_list)).reshape(-1, 1)\n",
    "choice_list = np.hstack((np.ones(T_list.shape), -np.ones(T_list.shape))).reshape(-1, 1)\n",
    "para_matrix = np.tile(np.array([mu, a, z, t_nd, theta]), (200, 1))\n",
    "network_input = np.hstack((para_matrix, rT_list, choice_list)).astype(np.float32)\n",
    "prob4_list = np.exp(lan_angle(network_input))\n",
    "\n",
    "\n",
    "print(\"upper:\")\n",
    "\n",
    "flag = True\n",
    "for T in T_list:\n",
    "    print(\"{:.4f}\".format(T), end=\" \")\n",
    "    if flag:\n",
    "        prob5 = density_horiz(T-t_nd, mu, a, theta, trunc_num=10, bdy=\"upper\")\n",
    "        if prob5 < 0:\n",
    "            flag = False\n",
    "            print()\n",
    "            print(\"Hall1997 method breaks at T-t_nd=%.4f\" %(T-t_nd))\n",
    "            prob5_list.append(-1)\n",
    "        else:\n",
    "            prob5_list.append(prob5)\n",
    "    else:\n",
    "        prob5_list.append(-1)\n",
    "    prob2 = mc2.ExitProb_dp(T=T, s=mc2.upper_bdy(T-mc2.t_nd)) / mc2.dt\n",
    "    prob2_list.append(prob2)\n",
    "    gc.collect()\n",
    "\n",
    "print()\n",
    "print(\"lower:\")\n",
    "\n",
    "flag = True\n",
    "for T in T_list:\n",
    "    print(\"{:.4f}\".format(-T), end=\" \")\n",
    "    if flag:\n",
    "        prob5 = density_horiz(T-t_nd, mu, a, theta, trunc_num=10, bdy=\"lower\")\n",
    "        if prob5 < 0:\n",
    "            flag = False\n",
    "            print()\n",
    "            print(\"Hall1997 method breaks at T-t_nd=%.4f\" %(T-t_nd))\n",
    "            prob5_list.append(-1)\n",
    "        else:\n",
    "            prob5_list.append(prob5)\n",
    "    else:\n",
    "        prob5_list.append(-1)\n",
    "    prob2 = mc2.ExitProb_dp(T=T, s=mc2.lower_bdy(T-mc2.t_nd)) / mc2.dt\n",
    "    prob2_list.append(prob2)\n",
    "    gc.collect()\n",
    "    \n"
   ]
  },
  {
   "cell_type": "code",
   "execution_count": null,
   "metadata": {},
   "outputs": [],
   "source": [
    "sort_idx = np.argsort(network_input[:, -2] * network_input[:, -1])\n",
    "signedT_list = (network_input[:, -2] * network_input[:, -1])[sort_idx]\n",
    "\n",
    "prob2_array = np.array(prob2_list)[sort_idx]\n",
    "prob4_array = np.array(prob4_list)[sort_idx]\n",
    "prob5_array = np.array(prob5_list)[sort_idx]"
   ]
  },
  {
   "cell_type": "code",
   "execution_count": null,
   "metadata": {},
   "outputs": [],
   "source": [
    "fig, ax = plt.subplots(figsize=(6, 3.6), dpi=150)\n",
    "ax.plot(signedT_list, prob2_array, label='MC_Angle', lw=0.8, c='r')\n",
    "ax.plot(signedT_list, prob4_array, label='LAN', lw=0.8, c='b')\n",
    "ax.plot(signedT_list[prob5_array>0], prob5_array[prob5_array>0], label='Hall (1997)', lw=0.8, c='y')\n",
    "\n",
    "ax.hist(\n",
    "    np.squeeze(out[0]) * np.squeeze(out[1]), histtype=\"step\", bins=40, color=\"black\", density=True\n",
    ")\n",
    "ax.set_xlabel(\"reaction times\")\n",
    "ax.set_ylabel(\"density\")\n",
    "ax.legend(fontsize=6)\n",
    "plt.show()"
   ]
  },
  {
   "cell_type": "code",
   "execution_count": 3,
   "metadata": {},
   "outputs": [
    {
     "name": "stdout",
     "output_type": "stream",
     "text": [
      "even_term\t   odd_term\t\tterm\t\tresult\n",
      "1.35121639e-02\t-2.58472083e-02\t-1.23350444e-02\t-1.23350444e-02\n",
      "1.75144845e-02\t-6.35664334e-03\t1.11578412e-02\t-1.17720324e-03\n",
      "1.35095924e-03\t-1.74032291e-04\t1.17692695e-03\t-2.76294007e-07\n",
      "1.38224620e-05\t-6.83448340e-07\t1.31390136e-05\t1.28627196e-05\n",
      "2.11642664e-08\t-4.12111988e-10\t2.07521545e-08\t1.28834718e-05\n",
      "5.06006124e-12\t-3.92560528e-14\t5.02080519e-12\t1.28834768e-05\n",
      "1.92720804e-16\t-5.99417801e-19\t1.92121387e-16\t1.28834768e-05\n",
      "1.18224812e-21\t-1.47973715e-24\t1.18076839e-21\t1.28834768e-05\n",
      "1.17602500e-27\t-5.93769480e-31\t1.17543123e-27\t1.28834768e-05\n",
      "1.90531263e-34\t-3.88697109e-38\t1.90492394e-34\t1.28834768e-05\n"
     ]
    },
    {
     "data": {
      "text/plain": [
       "1.2883476808630463e-05"
      ]
     },
     "execution_count": 3,
     "metadata": {},
     "output_type": "execute_result"
    }
   ],
   "source": [
    "density_horiz(4., mu, a, theta, trunc_num=10, bdy=\"upper\", debug=True)"
   ]
  },
  {
   "cell_type": "code",
   "execution_count": 8,
   "metadata": {},
   "outputs": [
    {
     "name": "stdout",
     "output_type": "stream",
     "text": [
      "0.010878304085912983\n",
      "-0.02116157354294213\n",
      "-0.005651240983833719\n",
      "-0.00017833345806486572\n",
      "-8.493828594879026e-07\n",
      "-6.474702550996626e-10\n",
      "-8.05731596976229e-14\n",
      "-1.6492008648478324e-18\n",
      "-5.5687370955190705e-24\n",
      "-3.1056842310976825e-30\n"
     ]
    },
    {
     "data": {
      "text/plain": [
       "0.010881789327255982"
      ]
     },
     "execution_count": 8,
     "metadata": {},
     "output_type": "execute_result"
    }
   ],
   "source": [
    "density_vertical(0, mu, a, theta, 4, trunc_num=10, debug=True)"
   ]
  },
  {
   "cell_type": "code",
   "execution_count": null,
   "metadata": {},
   "outputs": [],
   "source": []
  }
 ],
 "metadata": {
  "kernelspec": {
   "display_name": "Python 3",
   "language": "python",
   "name": "python3"
  },
  "language_info": {
   "codemirror_mode": {
    "name": "ipython",
    "version": 3
   },
   "file_extension": ".py",
   "mimetype": "text/x-python",
   "name": "python",
   "nbconvert_exporter": "python",
   "pygments_lexer": "ipython3",
   "version": "3.7.16"
  },
  "orig_nbformat": 4,
  "vscode": {
   "interpreter": {
    "hash": "45b036b683501669fef8492064158f6d7fdb9d16a7d0ee96eaa0ab513680d821"
   }
  }
 },
 "nbformat": 4,
 "nbformat_minor": 2
}
