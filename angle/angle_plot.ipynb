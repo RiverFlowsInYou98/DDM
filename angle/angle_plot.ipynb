{
 "cells": [
  {
   "cell_type": "code",
   "execution_count": 1,
   "metadata": {},
   "outputs": [],
   "source": [
    "from matplotlib import pyplot as plt\n",
    "from hddm.simulators import simulator\n",
    "import hddm\n",
    "import numpy as np\n",
    "import pandas as pd\n",
    "import scipy.sparse as sp\n",
    "import gc\n",
    "\n",
    "import sys\n",
    "sys.path.append(\"../Codes\")\n",
    "from utils import *\n",
    "from chain import *\n",
    "from Hall1997 import *\n"
   ]
  },
  {
   "cell_type": "code",
   "execution_count": 2,
   "metadata": {},
   "outputs": [
    {
     "data": {
      "text/plain": [
       "{'doc': 'Model formulation is described in the documentation under LAN Extension.\\nMeant for use with the extension.',\n",
       " 'params': ['v', 'a', 'z', 't', 'theta'],\n",
       " 'params_trans': [0, 0, 1, 0, 0],\n",
       " 'params_std_upper': [1.5, 1.0, None, 1.0, 1.0],\n",
       " 'param_bounds': [[-3.0, 0.3, 0.1, 0.001, -0.1], [3.0, 3.0, 0.9, 2.0, 1.3]],\n",
       " 'boundary': <function ssms.basic_simulators.boundary_functions.angle(t=1, theta=1)>,\n",
       " 'params_default': [0.0, 1.0, 0.5, 0.001, 0.1],\n",
       " 'hddm_include': ['v', 'a', 't', 'z', 'theta'],\n",
       " 'choices': [-1, 1],\n",
       " 'slice_widths': {'v': 1.5,\n",
       "  'v_std': 1,\n",
       "  'a': 1,\n",
       "  'a_std': 1,\n",
       "  'z': 0.1,\n",
       "  'z_trans': 0.2,\n",
       "  't': 0.01,\n",
       "  't_std': 0.15,\n",
       "  'theta': 0.1,\n",
       "  'theta_std': 0.2}}"
      ]
     },
     "execution_count": 2,
     "metadata": {},
     "output_type": "execute_result"
    }
   ],
   "source": [
    "hddm.model_config.model_config[\"angle\"]\n"
   ]
  },
  {
   "cell_type": "markdown",
   "metadata": {},
   "source": [
    "### test 1: Set $\\theta=0$\n",
    "\n",
    "Note that the space considered in angle model and LAN is $[-a,a]$, while that in DDM and wfpt is $[0, a]$.\n",
    "\n",
    "Also the angle model and LAN implements the non-decision time.\n",
    "\n",
    "#### plot the first passage time density"
   ]
  },
  {
   "cell_type": "code",
   "execution_count": 3,
   "metadata": {},
   "outputs": [],
   "source": [
    "# parameters\n",
    "mu = 1.0\n",
    "a = 1.5\n",
    "z = 0.5\n",
    "t_nd = 0.5\n",
    "theta = 0\n",
    "out = simulator(model=\"angle\", theta=[mu, a, z, t_nd, theta], n_samples=10000)\n"
   ]
  },
  {
   "cell_type": "code",
   "execution_count": 4,
   "metadata": {},
   "outputs": [
    {
     "name": "stdout",
     "output_type": "stream",
     "text": [
      "rts: (10000, 1)\n",
      "choices: (10000, 1)\n",
      "metadata: \n",
      "v: [1.]\n",
      "a: [1.5]\n",
      "z: [0.5]\n",
      "t: [0.5]\n",
      "s: 1.0\n",
      "theta: [0.]\n",
      "delta_t: 0.0010000000474974513\n",
      "max_t: 20.0\n",
      "n_samples: 10000\n",
      "simulator: ddm_flexbound\n",
      "boundary_fun_type: angle\n",
      "possible_choices: [-1, 1]\n",
      "trajectory: [[ 0.0000000e+00]\n",
      " [ 3.8010818e-03]\n",
      " [ 3.4154102e-02]\n",
      " ...\n",
      " [-9.9900000e+02]\n",
      " [-9.9900000e+02]\n",
      " [-9.9900000e+02]]\n",
      "boundary: [1.5 1.5 1.5 ... 1.5 1.5 1.5]\n",
      "model: angle\n"
     ]
    }
   ],
   "source": [
    "rts, choices, metadata = out\n",
    "print(\"rts: \" + str(rts.shape))\n",
    "print(\"choices: \" + str(choices.shape))\n",
    "print(\"metadata: \")\n",
    "for key in metadata:\n",
    "    print(key, end=\": \")\n",
    "    print(metadata[key])"
   ]
  },
  {
   "cell_type": "code",
   "execution_count": 5,
   "metadata": {},
   "outputs": [
    {
     "data": {
      "text/html": [
       "<div>\n",
       "<style scoped>\n",
       "    .dataframe tbody tr th:only-of-type {\n",
       "        vertical-align: middle;\n",
       "    }\n",
       "\n",
       "    .dataframe tbody tr th {\n",
       "        vertical-align: top;\n",
       "    }\n",
       "\n",
       "    .dataframe thead th {\n",
       "        text-align: right;\n",
       "    }\n",
       "</style>\n",
       "<table border=\"1\" class=\"dataframe\">\n",
       "  <thead>\n",
       "    <tr style=\"text-align: right;\">\n",
       "      <th></th>\n",
       "      <th>rt</th>\n",
       "      <th>response</th>\n",
       "      <th>subject</th>\n",
       "    </tr>\n",
       "  </thead>\n",
       "  <tbody>\n",
       "    <tr>\n",
       "      <th>0</th>\n",
       "      <td>1.253994</td>\n",
       "      <td>1.0</td>\n",
       "      <td>0</td>\n",
       "    </tr>\n",
       "    <tr>\n",
       "      <th>1</th>\n",
       "      <td>2.137021</td>\n",
       "      <td>1.0</td>\n",
       "      <td>0</td>\n",
       "    </tr>\n",
       "    <tr>\n",
       "      <th>2</th>\n",
       "      <td>1.048996</td>\n",
       "      <td>1.0</td>\n",
       "      <td>0</td>\n",
       "    </tr>\n",
       "    <tr>\n",
       "      <th>3</th>\n",
       "      <td>1.314993</td>\n",
       "      <td>1.0</td>\n",
       "      <td>0</td>\n",
       "    </tr>\n",
       "    <tr>\n",
       "      <th>4</th>\n",
       "      <td>1.629997</td>\n",
       "      <td>1.0</td>\n",
       "      <td>0</td>\n",
       "    </tr>\n",
       "    <tr>\n",
       "      <th>...</th>\n",
       "      <td>...</td>\n",
       "      <td>...</td>\n",
       "      <td>...</td>\n",
       "    </tr>\n",
       "    <tr>\n",
       "      <th>9995</th>\n",
       "      <td>3.419971</td>\n",
       "      <td>1.0</td>\n",
       "      <td>0</td>\n",
       "    </tr>\n",
       "    <tr>\n",
       "      <th>9996</th>\n",
       "      <td>1.008997</td>\n",
       "      <td>1.0</td>\n",
       "      <td>0</td>\n",
       "    </tr>\n",
       "    <tr>\n",
       "      <th>9997</th>\n",
       "      <td>1.421992</td>\n",
       "      <td>1.0</td>\n",
       "      <td>0</td>\n",
       "    </tr>\n",
       "    <tr>\n",
       "      <th>9998</th>\n",
       "      <td>3.068996</td>\n",
       "      <td>1.0</td>\n",
       "      <td>0</td>\n",
       "    </tr>\n",
       "    <tr>\n",
       "      <th>9999</th>\n",
       "      <td>1.555993</td>\n",
       "      <td>1.0</td>\n",
       "      <td>0</td>\n",
       "    </tr>\n",
       "  </tbody>\n",
       "</table>\n",
       "<p>10000 rows × 3 columns</p>\n",
       "</div>"
      ],
      "text/plain": [
       "            rt  response  subject\n",
       "0     1.253994       1.0        0\n",
       "1     2.137021       1.0        0\n",
       "2     1.048996       1.0        0\n",
       "3     1.314993       1.0        0\n",
       "4     1.629997       1.0        0\n",
       "...        ...       ...      ...\n",
       "9995  3.419971       1.0        0\n",
       "9996  1.008997       1.0        0\n",
       "9997  1.421992       1.0        0\n",
       "9998  3.068996       1.0        0\n",
       "9999  1.555993       1.0        0\n",
       "\n",
       "[10000 rows x 3 columns]"
      ]
     },
     "execution_count": 5,
     "metadata": {},
     "output_type": "execute_result"
    }
   ],
   "source": [
    "# Get data into format accepted by hddm package (below)\n",
    "data = pd.DataFrame(\n",
    "    np.stack([np.squeeze(out[0]), np.squeeze(out[1])]).T, columns=[\"rt\", \"response\"]\n",
    ")\n",
    "data[\"subject\"] = 0\n",
    "data"
   ]
  },
  {
   "cell_type": "code",
   "execution_count": 6,
   "metadata": {},
   "outputs": [],
   "source": [
    "# Get the model\n",
    "lan_angle = hddm.network_inspectors.get_torch_mlp(model=\"angle\")"
   ]
  },
  {
   "cell_type": "code",
   "execution_count": 7,
   "metadata": {},
   "outputs": [
    {
     "name": "stdout",
     "output_type": "stream",
     "text": [
      "upper:\n",
      "0.5010 0.5767 0.6525 0.7282 0.8040 0.8797 0.9555 1.0312 1.1070 1.1827 1.2585 1.3342 1.4100 1.4857 1.5615 1.6372 1.7130 1.7887 1.8645 1.9402 2.0159 2.0917 2.1674 2.2432 2.3189 2.3947 2.4704 2.5462 2.6219 2.6977 2.7734 2.8492 2.9249 3.0007 3.0764 3.1522 3.2279 3.3037 3.3794 3.4552 3.5309 3.6066 3.6824 3.7581 3.8339 3.9096 3.9854 4.0611 4.1369 4.2126 4.2884 4.3641 4.4399 4.5156 4.5914 4.6671 4.7429 4.8186 4.8944 4.9701 5.0458 5.1216 5.1973 5.2731 5.3488 5.4246 5.5003 5.5761 5.6518 5.7276 5.8033 5.8791 5.9548 6.0306 6.1063 6.1821 6.2578 6.3336 6.4093 6.4851 6.5608 6.6365 6.7123 6.7880 6.8638 6.9395 7.0153 7.0910 7.1668 7.2425 7.3183 7.3940 7.4698 7.5455 7.6213 7.6970 7.7728 7.8485 7.9243 8.0000 \n",
      "lower:\n",
      "-0.5010 -0.5767 -0.6525 -0.7282 -0.8040 -0.8797 -0.9555 -1.0312 -1.1070 -1.1827 -1.2585 -1.3342 -1.4100 -1.4857 -1.5615 -1.6372 -1.7130 -1.7887 -1.8645 -1.9402 -2.0159 -2.0917 -2.1674 -2.2432 -2.3189 -2.3947 -2.4704 -2.5462 -2.6219 -2.6977 -2.7734 -2.8492 -2.9249 -3.0007 -3.0764 -3.1522 -3.2279 -3.3037 -3.3794 -3.4552 -3.5309 -3.6066 -3.6824 -3.7581 -3.8339 -3.9096 -3.9854 -4.0611 -4.1369 -4.2126 -4.2884 -4.3641 -4.4399 -4.5156 -4.5914 -4.6671 -4.7429 -4.8186 -4.8944 -4.9701 -5.0458 -5.1216 -5.1973 -5.2731 -5.3488 -5.4246 -5.5003 -5.5761 -5.6518 -5.7276 -5.8033 -5.8791 -5.9548 -6.0306 -6.1063 -6.1821 -6.2578 -6.3336 -6.4093 -6.4851 -6.5608 -6.6365 -6.7123 -6.7880 -6.8638 -6.9395 -7.0153 -7.0910 -7.1668 -7.2425 -7.3183 -7.3940 -7.4698 -7.5455 -7.6213 -7.6970 -7.7728 -7.8485 -7.9243 -8.0000 "
     ]
    }
   ],
   "source": [
    "# prob1 stands for wfpt\n",
    "# prob2 stands for MC_Angle\n",
    "# prob3 stands for MC_DDM\n",
    "# prob4 stands for LAN\n",
    "# prob5 stands for Hall1997\n",
    "\n",
    "prob1_list = []\n",
    "prob2_list = []\n",
    "prob3_list = []\n",
    "prob5_list = []\n",
    "\n",
    "# mc2 = MC_Angle(mu=mu, a=a, z=z, t_nd=t_nd, theta=theta, dt=0.001, Nx=80)\n",
    "# mc3 = MC_DDM(mu=mu, sigma=1, a=2 * a, z=z, dt=0.001, Nx=80, verbose=False)\n",
    "\n",
    "T_list = np.linspace(0.5 + 0.001, 8, 100)\n",
    "rT_list = np.hstack((T_list, T_list)).reshape(-1, 1)\n",
    "choice_list = np.hstack((np.ones(T_list.shape), -np.ones(T_list.shape))).reshape(-1, 1)\n",
    "para_matrix = np.tile(np.array([mu, a, z, t_nd, theta]), (200, 1))\n",
    "network_input = np.hstack((para_matrix, rT_list, choice_list)).astype(np.float32)\n",
    "prob4_list = np.exp(lan_angle(network_input))\n",
    "\n",
    "print(\"upper:\")\n",
    "for T in T_list:\n",
    "    print(\"{:.4f}\".format(T), end=\" \")\n",
    "    prob1 = wfpt(T - t_nd, -mu, 2 * a, 1 - z, 1e-10)\n",
    "    # prob2 = mc2.ExitProb_dp(T=T, s=a) / mc2.dt\n",
    "    # prob3 = mc3.ExitProb_dp1(T=T - t_nd, s=2*a) / mc3.dt\n",
    "    prob5 = density_horiz(T - t_nd, mu, a, theta, trunc_num=40, bdy=\"upper\")\n",
    "    prob1_list.append(prob1)\n",
    "    # prob2_list.append(prob2)\n",
    "    # prob3_list.append(prob3)\n",
    "    prob5_list.append(prob5)\n",
    "    gc.collect()\n",
    "print()\n",
    "print(\"lower:\")\n",
    "for T in T_list:\n",
    "    print(\"{:.4f}\".format(-T), end=\" \")\n",
    "    prob1 = wfpt(T - t_nd, mu, 2 * a, z, 1e-10)\n",
    "    # prob2 = mc2.ExitProb_dp(T=T, s=-a) / mc2.dt\n",
    "    # prob3 = mc3.ExitProb_dp1(T=T - t_nd, s=0) / mc3.dt\n",
    "    prob5 = density_horiz(T - t_nd, mu, a, theta, trunc_num=40, bdy=\"lower\")\n",
    "    prob1_list.append(prob1)\n",
    "    # prob2_list.append(prob2)\n",
    "    # prob3_list.append(prob3)\n",
    "    prob5_list.append(prob5)\n",
    "    gc.collect()"
   ]
  },
  {
   "cell_type": "code",
   "execution_count": 8,
   "metadata": {},
   "outputs": [],
   "source": [
    "sort_idx = np.argsort(network_input[:, -2] * network_input[:, -1])\n",
    "signedT_list = (network_input[:, -2] * network_input[:, -1])[sort_idx]\n",
    "\n",
    "prob1_array = np.array(prob1_list)[sort_idx]\n",
    "# prob2_array = np.array(prob2_list)[sort_idx]\n",
    "# prob3_array = np.array(prob3_list)[sort_idx]\n",
    "prob4_array = np.array(prob4_list)[sort_idx]\n",
    "prob5_array = np.array(prob5_list)[sort_idx]"
   ]
  },
  {
   "cell_type": "code",
   "execution_count": 9,
   "metadata": {},
   "outputs": [
    {
     "data": {
      "image/png": "[encoded data removed]",
      "text/plain": [
       "<Figure size 900x540 with 1 Axes>"
      ]
     },
     "metadata": {},
     "output_type": "display_data"
    }
   ],
   "source": [
    "fig, ax = plt.subplots(figsize=(6, 3.6), dpi=150)\n",
    "ax.plot(signedT_list, prob1_array, label=\"WFPT, Navarro and Fuss (2009)\", lw=0.8, c=\"g\")\n",
    "# ax.plot(signedT_list, prob2_array, label='MC_Angle', lw=0.8, c='r')\n",
    "# ax.plot(signedT_list, prob3_array, label='MC_ddm', lw=0.8, c='purple')\n",
    "ax.plot(signedT_list, prob4_array, label=\"LAN\", lw=0.8, c=\"b\")\n",
    "ax.plot(signedT_list, prob5_array, label=\"Hall (1997)\", lw=0.8, c=\"y\")\n",
    "\n",
    "ax.hist(\n",
    "    np.squeeze(out[0]) * np.squeeze(out[1]),\n",
    "    histtype=\"step\",\n",
    "    bins=40,\n",
    "    color=\"black\",\n",
    "    density=True,\n",
    ")\n",
    "ax.set_xlabel(\"reaction times\")\n",
    "ax.set_ylabel(\"density\")\n",
    "ax.legend(fontsize=6)\n",
    "plt.show()"
   ]
  },
  {
   "attachments": {},
   "cell_type": "markdown",
   "metadata": {},
   "source": [
    "### test 2: For the Angle model with $\\theta\\neq0$"
   ]
  },
  {
   "cell_type": "code",
   "execution_count": 10,
   "metadata": {},
   "outputs": [],
   "source": [
    "mu = 1\n",
    "a = 1.5\n",
    "z = 0.5\n",
    "t_nd = 0.5\n",
    "theta = 0.3\n",
    "out = simulator(model=\"angle\", theta=[mu, a, z, t_nd, theta], n_samples=10000)"
   ]
  },
  {
   "cell_type": "code",
   "execution_count": 11,
   "metadata": {},
   "outputs": [
    {
     "name": "stdout",
     "output_type": "stream",
     "text": [
      "upper:\n",
      "0.5010 0.5464 0.5919 0.6373 0.6827 0.7282 0.7736 0.8190 0.8645 0.9099 0.9553 1.0008 1.0462 1.0916 1.1371 1.1825 1.2279 1.2734 1.3188 1.3643 1.4097 1.4551 1.5006 1.5460 1.5914 1.6369 1.6823 1.7277 1.7732 1.8186 1.8640 1.9095 1.9549 2.0003 2.0458 2.0912 2.1366 2.1821 2.2275 2.2729 2.3184 2.3638 2.4092 2.4547 2.5001 2.5455 2.5910 2.6364 2.6818 2.7273 2.7727 2.8182 2.8636 2.9090 2.9545 2.9999 3.0453 3.0908 3.1362 3.1816 3.2271 3.2725 3.3179 3.3634 3.4088 3.4542 3.4997 3.5451 3.5905 3.6360 3.6814 3.7268 3.7723 3.8177 3.8631 3.9086 3.9540 3.9994 4.0449 4.0903 4.1357 4.1812 4.2266 4.2721 4.3175 4.3629 4.4084 4.4538 4.4992 4.5447 4.5901 4.6355 4.6810 4.7264 4.7718 4.8173 4.8627 4.9081 4.9536 4.9990 \n",
      "lower:\n",
      "-0.5010 -0.5464 -0.5919 -0.6373 -0.6827 -0.7282 -0.7736 -0.8190 -0.8645 -0.9099 -0.9553 -1.0008 -1.0462 -1.0916 -1.1371 -1.1825 -1.2279 -1.2734 -1.3188 -1.3643 -1.4097 -1.4551 -1.5006 -1.5460 -1.5914 -1.6369 -1.6823 -1.7277 -1.7732 -1.8186 -1.8640 -1.9095 -1.9549 -2.0003 -2.0458 -2.0912 -2.1366 -2.1821 -2.2275 -2.2729 -2.3184 -2.3638 -2.4092 -2.4547 -2.5001 -2.5455 -2.5910 -2.6364 -2.6818 -2.7273 -2.7727 -2.8182 -2.8636 -2.9090 -2.9545 -2.9999 -3.0453 -3.0908 -3.1362 -3.1816 -3.2271 -3.2725 -3.3179 -3.3634 -3.4088 -3.4542 -3.4997 -3.5451 -3.5905 -3.6360 -3.6814 -3.7268 -3.7723 -3.8177 -3.8631 -3.9086 -3.9540 -3.9994 -4.0449 -4.0903 -4.1357 -4.1812 -4.2266 -4.2721 -4.3175 -4.3629 -4.4084 -4.4538 -4.4992 -4.5447 -4.5901 -4.6355 -4.6810 -4.7264 -4.7718 -4.8173 -4.8627 -4.9081 -4.9536 -4.9990 "
     ]
    }
   ],
   "source": [
    "prob2_list = []\n",
    "prob5_list = []\n",
    "\n",
    "# mc2 = MC_Angle(mu=mu, a=a, z=z, t_nd=t_nd, theta=theta, dt=0.001, Nx=80) # dt=0.0002, Nx=200 for a dense approx\n",
    "\n",
    "# # The boundaries collapse at t = a/theta\n",
    "T_list = np.linspace(0.5 + 0.001, a / theta - 0.001, 100)\n",
    "rT_list = np.hstack((T_list, T_list)).reshape(-1, 1)\n",
    "choice_list = np.hstack((np.ones(T_list.shape), -np.ones(T_list.shape))).reshape(-1, 1)\n",
    "para_matrix = np.tile(np.array([mu, a, z, t_nd, theta]), (200, 1))\n",
    "network_input = np.hstack((para_matrix, rT_list, choice_list)).astype(np.float32)\n",
    "prob4_list = np.exp(lan_angle(network_input))\n",
    "\n",
    "\n",
    "print(\"upper:\")\n",
    "for T in T_list:\n",
    "    print(\"{:.4f}\".format(T), end=\" \")\n",
    "    prob5 = density_horiz(T - t_nd, mu, a, theta, trunc_num=100, bdy=\"upper\")\n",
    "    prob5_list.append(prob5)\n",
    "    # prob2 = mc2.ExitProb_dp(T=T, s=mc2.upper_bdy(T-mc2.t_nd)) / mc2.dt\n",
    "    # prob2_list.append(prob2)\n",
    "    gc.collect()\n",
    "\n",
    "print()\n",
    "print(\"lower:\")\n",
    "\n",
    "flag = True\n",
    "for T in T_list:\n",
    "    print(\"{:.4f}\".format(-T), end=\" \")\n",
    "    prob5 = density_horiz(T - t_nd, mu, a, theta, trunc_num=100, bdy=\"lower\")\n",
    "    prob5_list.append(prob5)\n",
    "    # prob2 = mc2.ExitProb_dp(T=T, s=mc2.lower_bdy(T-mc2.t_nd)) / mc2.dt\n",
    "    # prob2_list.append(prob2)\n",
    "    gc.collect()"
   ]
  },
  {
   "cell_type": "code",
   "execution_count": 12,
   "metadata": {},
   "outputs": [],
   "source": [
    "sort_idx = np.argsort(network_input[:, -2] * network_input[:, -1])\n",
    "signedT_list = (network_input[:, -2] * network_input[:, -1])[sort_idx]\n",
    "\n",
    "# prob2_array = np.array(prob2_list)[sort_idx]\n",
    "prob4_array = np.array(prob4_list)[sort_idx]\n",
    "prob5_array = np.array(prob5_list)[sort_idx]"
   ]
  },
  {
   "cell_type": "code",
   "execution_count": 13,
   "metadata": {},
   "outputs": [
    {
     "data": {
      "image/png": "[encoded data removed]",
      "text/plain": [
       "<Figure size 900x540 with 1 Axes>"
      ]
     },
     "metadata": {},
     "output_type": "display_data"
    }
   ],
   "source": [
    "fig, ax = plt.subplots(figsize=(6, 3.6), dpi=150)\n",
    "# ax.plot(signedT_list, prob2_array, label='MC_Angle', lw=0.8, c='r')\n",
    "ax.plot(signedT_list, prob4_array, label=\"LAN\", lw=0.8, c=\"b\")\n",
    "ax.plot(\n",
    "    signedT_list[prob5_array > 0],\n",
    "    prob5_array[prob5_array > 0],\n",
    "    label=\"Hall (1997)\",\n",
    "    lw=0.8,\n",
    "    c=\"y\",\n",
    ")\n",
    "\n",
    "ax.hist(\n",
    "    np.squeeze(out[0]) * np.squeeze(out[1]),\n",
    "    histtype=\"step\",\n",
    "    bins=40,\n",
    "    color=\"black\",\n",
    "    density=True,\n",
    ")\n",
    "ax.set_xlabel(\"reaction times\")\n",
    "ax.set_ylabel(\"density\")\n",
    "ax.legend(fontsize=6)\n",
    "plt.show()"
   ]
  },
  {
   "cell_type": "code",
   "execution_count": 14,
   "metadata": {},
   "outputs": [
    {
     "name": "stdout",
     "output_type": "stream",
     "text": [
      "18.6 µs ± 353 ns per loop (mean ± std. dev. of 7 runs, 100000 loops each)\n"
     ]
    }
   ],
   "source": [
    "%timeit density_horiz(.1, mu, a, theta, trunc_num=10, bdy=\"upper\")"
   ]
  },
  {
   "cell_type": "code",
   "execution_count": 15,
   "metadata": {},
   "outputs": [
    {
     "data": {
      "text/plain": [
       "3.0755232755717873e-18"
      ]
     },
     "execution_count": 15,
     "metadata": {},
     "output_type": "execute_result"
    }
   ],
   "source": [
    "mu = 1\n",
    "a = 1.5\n",
    "z = 0.5\n",
    "theta = 0.3\n",
    "density_horiz(4.9, mu, a, theta, trunc_num=100, bdy=\"upper\")"
   ]
  },
  {
   "cell_type": "code",
   "execution_count": 16,
   "metadata": {},
   "outputs": [
    {
     "name": "stdout",
     "output_type": "stream",
     "text": [
      "25.8 µs ± 877 ns per loop (mean ± std. dev. of 7 runs, 10000 loops each)\n"
     ]
    }
   ],
   "source": [
    "%timeit density_horiz2(4., mu, a, theta, trunc_num=10, bdy=\"upper\", debug=False)"
   ]
  },
  {
   "cell_type": "code",
   "execution_count": 17,
   "metadata": {},
   "outputs": [
    {
     "name": "stdout",
     "output_type": "stream",
     "text": [
      "0.010878304085912983\n",
      "-0.02116157354294213\n",
      "-0.005651240983833719\n",
      "-0.00017833345806486572\n",
      "-8.493828594879026e-07\n",
      "-6.474702550996626e-10\n",
      "-8.05731596976229e-14\n",
      "-1.6492008648478324e-18\n",
      "-5.5687370955190705e-24\n",
      "-3.1056842310976825e-30\n"
     ]
    },
    {
     "data": {
      "text/plain": [
       "0.010881789327255982"
      ]
     },
     "execution_count": 17,
     "metadata": {},
     "output_type": "execute_result"
    }
   ],
   "source": [
    "density_vertical(0, mu, a, theta, 4, trunc_num=10, debug=True)"
   ]
  },
  {
   "cell_type": "code",
   "execution_count": null,
   "metadata": {},
   "outputs": [],
   "source": []
  },
  {
   "cell_type": "code",
   "execution_count": null,
   "metadata": {},
   "outputs": [],
   "source": []
  }
 ],
 "metadata": {
  "kernelspec": {
   "display_name": "Python 3",
   "language": "python",
   "name": "python3"
  },
  "language_info": {
   "codemirror_mode": {
    "name": "ipython",
    "version": 3
   },
   "file_extension": ".py",
   "mimetype": "text/x-python",
   "name": "python",
   "nbconvert_exporter": "python",
   "pygments_lexer": "ipython3",
   "version": "3.7.16"
  },
  "orig_nbformat": 4,
  "vscode": {
   "interpreter": {
    "hash": "45b036b683501669fef8492064158f6d7fdb9d16a7d0ee96eaa0ab513680d821"
   }
  }
 },
 "nbformat": 4,
 "nbformat_minor": 2
}
