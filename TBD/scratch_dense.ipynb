{
 "cells": [
  {
   "cell_type": "code",
   "execution_count": 1,
   "metadata": {},
   "outputs": [],
   "source": [
    "import numpy as np\n",
    "import matplotlib.pyplot as plt\n",
    "import networkx as nx\n",
    "import itertools\n",
    "from scipy.special import logsumexp"
   ]
  },
  {
   "attachments": {},
   "cell_type": "markdown",
   "metadata": {},
   "source": [
    "#### General procedure:\n",
    "\n",
    "1. Initialize all the parameters, say, $\\mu, a, z$;\n",
    "2. For all the data pairs $(C_k, T_k)$, where $C_k$ is the crossed boundary and $T_k$ is the first passage time, compute the probability $\\mathbb{P}(\\tilde{X}_{\\lfloor T_k/\\Delta t\\rfloor}=C_k)$;\n",
    "3. For the approximate process, \n",
    "4. \n",
    "5."
   ]
  },
  {
   "cell_type": "code",
   "execution_count": 2,
   "metadata": {},
   "outputs": [],
   "source": [
    "def MCsample(P, init_dist, k): \n",
    "    \"\"\"\n",
    "    sample a 'k'-step Markov chain \n",
    "    with initial distribution 'init_dist'\n",
    "    and transition probabilities 'P'\n",
    "    \"\"\"\n",
    "    s = len(init_dist) # num of states\n",
    "    X = np.zeros(k)\n",
    "    X[0] = np.random.choice(s, p=init_dist)\n",
    "    for i in range(1, k):\n",
    "        X[i] = np.random.choice(s, p=P[int(X[i-1]), :])\n",
    "    return X\n"
   ]
  },
  {
   "cell_type": "code",
   "execution_count": 3,
   "metadata": {},
   "outputs": [],
   "source": [
    "def logdotexp(A, B):\n",
    "    \"\"\"\n",
    "    numerically stable ways to compute\n",
    "    np.log(np.dot(np.exp(A), np.exp(B)))\n",
    "    A, B are 2d arrays satisfying A.shape[1] = B.shape[0]\n",
    "    \"\"\"\n",
    "    assert len(A.shape) == 2\n",
    "    assert len(B.shape) == 2\n",
    "    assert A.shape[1] == B.shape[0]\n",
    "    A_ = np.stack([A] * B.shape[1]).transpose(1, 0, 2)\n",
    "    B_ = np.stack([B] * A.shape[0]).transpose(0, 2, 1)\n",
    "    return logsumexp(A_ + B_, axis=2)\n"
   ]
  },
  {
   "attachments": {},
   "cell_type": "markdown",
   "metadata": {},
   "source": [
    "advection-diffusion equation:\n",
    "$$\n",
    "\\begin{aligned}\n",
    "u_t+cu_x&=\\nu u_xx\\\\\n",
    "u(x,0)&=f(x)\\\\\n",
    "u(0,t)&=u(a,t)=0\\\\\n",
    "\\end{aligned}\n",
    "$$\n",
    "Crank-Nicolson:\n",
    "$$\n",
    "\\begin{aligned}\n",
    "\\tfrac{u_j^{n+1}-u_j^n}{\\Delta t}+\\tfrac{c}{2} \\left(\\tfrac{u_{j+1}^{n+1}-u_{j-1}^{n+1}}{2 \\Delta x}+\\tfrac{u_{j+1}^n-u_{j-1}^n}{2 \\Delta x}\\right)&=\\tfrac{\\nu}{2} \\tfrac{u_{j+1}^n-2 u_j^n+u_{j-1}^n}{(\\Delta x)^2}+\\tfrac{\\nu}{2} \\tfrac{u_{j+1}^{n+1}-2 u_j^{n+1}+u_{j-1}^{n+1}}{(\\Delta x)^2}\\\\\n",
    "u^{0}_{j}&=f(x_j)\\\\\n",
    "u^j_{0}&=u^j_{N_x}=0\n",
    "\\end{aligned}\\\\\n",
    "$$\n",
    "which can be simplified as\n",
    "$$\n",
    "\\left(-\\tfrac{\\lambda}{4}-\\tfrac{\\mu}{2}\\right) u_{j-1}^{n+1}+(1+\\mu) u_j^{n+1}+\\left(\\tfrac{\\lambda}{4}-\\tfrac{\\mu}{2}\\right) u_{j+1}^{n+1}=\\left(\\tfrac{\\lambda}{4}+\\tfrac{\\mu}{2}\\right) u_{j-1}^n+(1-\\mu) u_j^n+\\left(-\\tfrac{\\lambda}{4}+\\tfrac{\\mu}{2}\\right) u_{j+1}^n\n",
    "$$"
   ]
  },
  {
   "cell_type": "code",
   "execution_count": 4,
   "metadata": {},
   "outputs": [],
   "source": [
    "def solve_ADVD(c, D, x_range, t_range, f, Nx, Nt):\n",
    "    \"\"\"Solve\n",
    "    u_t + c * u_x = D * u_xx\n",
    "    with initial condition f(x) and homogeneous Dirichlet boundary\n",
    "    \"\"\"\n",
    "    # Crank-Nicolson\n",
    "    xmin, xmax = x_range\n",
    "    tmin, tmax = t_range\n",
    "    x_grid = np.linspace(xmin, xmax, Nx + 1)\n",
    "    t_grid = np.linspace(tmin, tmax, Nt + 1)\n",
    "    dx = x_grid[1] - x_grid[0]\n",
    "    dt = t_grid[1] - t_grid[0]\n",
    "    lam = c * dt / dx\n",
    "    mu = D * dt / dx ** 2\n",
    "    u_grid = np.zeros([Nx + 1, Nt + 1])\n",
    "    u_grid[:, 0] = f(x_grid)\n",
    "\n",
    "    I = np.eye(Nx - 1)\n",
    "    I1 = np.diag(np.ones(Nx-2), 1)\n",
    "    I2 = np.diag(np.ones(Nx-2), -1)\n",
    "    A = (1 + mu) * I - (lam / 4 + mu / 2) * I1 + (lam / 4 - mu / 2) * I2\n",
    "    B = 2 * I - A\n",
    "    C = np.linalg.solve(A, B)\n",
    "\n",
    "    for t_step in range(Nt):\n",
    "        u_grid[1:-1, t_step + 1] = C @ u_grid[1:-1, t_step]\n",
    "\n",
    "    return x_grid, t_grid, u_grid"
   ]
  },
  {
   "attachments": {},
   "cell_type": "markdown",
   "metadata": {},
   "source": [
    "In one spatial dimension $x$, for an Itô process driven by the standard Wiener process $W_t$ and described by the stochastic differential equation (SDE)\n",
    "$$\n",
    "\\begin{aligned}\n",
    "\\mathrm{d} X(t)&=\\mu\\left(X(t), t\\right) \\mathrm{d} t+\\sigma\\left(X(t), t\\right) \\mathrm{d} W(t)\\\\\n",
    "X(t)&=X(0)+\\int_0^t \\mu(X(s), s) \\mathrm{d} s+\\int_0^t \\sigma(X(s), s) \\mathrm{d}W(s)\n",
    "\\end{aligned}\n",
    "$$\n",
    "with drift $\\mu(X(t), t)$ and diffusion coefficient $\\sigma^2(X(t), t)/2$, the Kolmogorov forward equation (Fokker-Planck equation) for the transition probability density $f(x,t|y,s)$ (defined as $f(x,t|y,s)\\mathrm{d}x=\\mathbb{P}(X(t)\\in[x,x+\\mathrm{d}x)|X(s)=y)$) of the random variable $X(t)$ is\n",
    "$$\n",
    "\\tfrac{\\partial}{\\partial t} f(x, t|y, s)=-\\tfrac{\\partial}{\\partial x}[\\mu(x, t) f(x, t|y,s)]+\\tfrac{1}{2}\\tfrac{\\partial^2}{\\partial x^2}[\\sigma^2(x, t) f(x, t|y,s)],\\text{ for } t\\ge s\n",
    "$$\n",
    "the Kolmogorov backward equation is\n",
    "$$\n",
    "\\tfrac{\\partial}{\\partial s} f(x, t|y,s)=-\\mu(x, t) \\tfrac{\\partial}{\\partial y} f(x, t|y,s)-\\tfrac{1}{2} \\sigma^2(x, t) \\tfrac{\\partial^2}{\\partial y^2} f(x, t|y,s),\\text{ for } s< t\n",
    "$$\n"
   ]
  },
  {
   "attachments": {},
   "cell_type": "markdown",
   "metadata": {},
   "source": [
    "### Drift-diffusion model\n",
    "Consider the following stochastic process on the interval $[0, a]$ with absorbing boundaries:\n",
    "$$\n",
    "\\begin{aligned}\n",
    "\\mathrm{d} X(t)&=\\mu(t)\\mathrm{d} t +\\sigma\\mathrm{d} W(t)\\\\\n",
    "X(t)&=z+\\int_{0}^{t}\\mu(r)\\mathrm{d} r +\\sigma W(t)\n",
    "\\end{aligned}\n",
    "$$\n",
    "with starting point $z\\in(0, a)$.\n",
    "\n",
    "The Fokker-Planck equation corresponds to drift-diffusion model is\n",
    "$$\n",
    "\\begin{aligned}\n",
    "\\tfrac{\\partial}{\\partial t} f(x, t|z,0)&=-\\mu\\tfrac{\\partial}{\\partial x}f(x, t|z,0)+\\tfrac{1}{2}\\sigma^2\\tfrac{\\partial^2}{\\partial x^2}f(x, t|z,0)\\\\\n",
    "f(x, 0|z,0)&=\\delta(x-z)\\\\\n",
    "f(0,t|z,0)&=f(a,t|z,0)=0\n",
    "\\end{aligned}\n",
    "$$"
   ]
  },
  {
   "cell_type": "code",
   "execution_count": 5,
   "metadata": {},
   "outputs": [],
   "source": [
    "class DDModel(object):\n",
    "    def __init__(self, mu=1, sigma=1) -> None:\n",
    "        self.mu = mu\n",
    "        self.sigma = sigma\n",
    "\n",
    "    def strong_Euler(self, init_cond, T, Nt=1000):\n",
    "        t0, u0 = init_cond\n",
    "        dt = float(T - t0) / Nt\n",
    "        t_grid = np.arange(t0, T + dt, dt)\n",
    "        u_grid = np.zeros(Nt + 1)\n",
    "        u_grid[0] = u0\n",
    "        for i in range(1, Nt + 1):\n",
    "            t = t0 + (i - 1) * dt\n",
    "            u = u_grid[i - 1]\n",
    "            dW = np.random.normal(loc=0.0, scale=np.sqrt(dt))\n",
    "            u_grid[i] = u + self.mu * dt + self.sigma * dW\n",
    "        return t_grid, u_grid\n",
    "\n",
    "    def weak_Euler(self, init_cond, T, Nt=1000):\n",
    "        t0, u0 = init_cond\n",
    "        dt = float(T - t0) / Nt\n",
    "        t_grid = np.arange(t0, T + dt, dt)\n",
    "        u_grid = np.zeros(Nt + 1)\n",
    "        u_grid[0] = u0\n",
    "        for i in range(1, Nt + 1):\n",
    "            t = t0 + (i - 1) * dt\n",
    "            u = u_grid[i - 1]\n",
    "            dW_ = (2 * (np.random.uniform() < 0.5) - 1) * np.sqrt(dt)\n",
    "            u_grid[i] = u + self.mu * dt + self.sigma * dW_\n",
    "        return t_grid, u_grid\n",
    "\n",
    "    def generate_data(self, a, z, dt=0.001, num=1, return_traj=False):\n",
    "        \"\"\"\n",
    "        generate 'num' data pairs of the form (C, T)\n",
    "        where C is the crossed boundary (0 or a)\n",
    "              T is the first passage time\n",
    "        \"\"\"\n",
    "        data = np.zeros((num, 2))\n",
    "        trajs = []\n",
    "        for i in range(num):\n",
    "            if return_traj:\n",
    "                t_grid = [0]\n",
    "                u_grid = [z]\n",
    "            u = z\n",
    "            steps = 0\n",
    "            while u > 0 and u < a:\n",
    "                dW = np.random.normal(loc=0.0, scale=np.sqrt(dt))\n",
    "                u += self.mu * dt + self.sigma * dW\n",
    "                steps += 1\n",
    "                if return_traj:\n",
    "                    t_grid.append(steps * dt)\n",
    "                    u_grid.append(u)\n",
    "            data[i] = a if u > a / 2 else 0, steps * dt\n",
    "            if return_traj:\n",
    "                trajs.append(np.array([t_grid, u_grid]))\n",
    "        return data, trajs\n",
    "    \n",
    "    def fokker_planck(self, a, T, z, Nx, Nt):\n",
    "        f = lambda x: Nx/a * 1 * (x==z)\n",
    "        x_grid, t_grid, u_grid = solve_ADVD(self.mu, self.sigma**2/2, [0, a], [0, T], f, Nx, Nt)\n",
    "        return x_grid, t_grid, u_grid\n"
   ]
  },
  {
   "cell_type": "code",
   "execution_count": 6,
   "metadata": {},
   "outputs": [],
   "source": [
    "ddm = DDModel(mu=0.2, sigma=1)\n",
    "data, trajs = ddm.generate_data(a=4, z=2, num=100, return_traj=True)\n"
   ]
  },
  {
   "cell_type": "code",
   "execution_count": 7,
   "metadata": {},
   "outputs": [
    {
     "data": {
      "image/png": "[encoded data removed]",
      "text/plain": [
       "<Figure size 640x480 with 1 Axes>"
      ]
     },
     "metadata": {},
     "output_type": "display_data"
    }
   ],
   "source": [
    "for traj in trajs[:10]:\n",
    "    plt.plot(traj[0], traj[1])"
   ]
  },
  {
   "attachments": {},
   "cell_type": "markdown",
   "metadata": {},
   "source": [
    "To approximate this process,  we discretize the time and space with step size $\\Delta t$ and $\\Delta x$ respectively, \n",
    "and consider a discrete-time discrete-space Markov chain $\\tilde{X}$ on the grid. We want the temporal interpolation of $\\tilde{X}_j$ converges in distribution to $X$ as $\\Delta t, \\Delta x\\rightarrow 0$.\n",
    "\n",
    "Let $Z_0, Z_1, \\cdots $ be a sequence of independent random variables with\n",
    "$$\n",
    "Z_{j}=\\left\\{\n",
    "\\begin{array}{ll}\n",
    "      \\Delta x & \\text{w.p. } p^{+}_j \\\\\n",
    "      0 & \\text{w.p. } 1-p^{+}_j-p^{-}_j \\\\\n",
    "      -\\Delta x & \\text{w.p. } p^{-}_j \\\\\n",
    "\\end{array} \n",
    "\\right.  \n",
    "$$\n",
    "and $Y_n=\\sum_{j=1}^n Z_j$ be the random walk of $Z_j$. Let $\\Omega=\\{0, 1, 2, \\cdots, N_x, \\beta\\}$ be the state space of $\\tilde{X}_j$, where $\\beta$ is the absorbing state. When $0\\le Y_j\\le a$, we take $\\tilde{X}_j=Y_j/\\Delta x$; once $Y_j$ hits the boundary $0$ or $a$, we move the next step $\\tilde{X}_j$ to the absorbing state $\\beta$. Then the transition probability of $\\tilde{X}_j$'s would be\n",
    "$$\n",
    "\\mathcal{p}_{s_1s_2}(t_j)=\\mathbb{P}(\\tilde{X}_{j+1}=s_2\\Delta x|\\tilde{X}_{j}=s_1\\Delta x)=\n",
    "\\left\\{\n",
    "\\begin{array}{ll}\n",
    "\\mathbb{P}(Y_{j+1}=s_2\\Delta x|Y_{j}=s_1\\Delta x)=\n",
    "\\left\\{\n",
    "\\begin{array}{ll}\n",
    "      p^{+}_j & \\text{if  } s_2-s_1=1 \\\\\n",
    "      1-p^{+}_j-p^{-}_j & \\text{if  } s_2-s_1=0 \\\\\n",
    "      p^{-}_j & \\text{if  } s_2-s_1=-1 \\\\\n",
    "\\end{array} \n",
    "\\right. & \\text{if  } s_1,s_2\\in\\Omega\\backslash\\{0,N_x,\\beta\\} \\\\\n",
    "      1 & \\text{if  } s_1\\in\\{0,N_x,\\beta\\}, s_2=\\beta\\\\\n",
    "      0 & \\text{otherwise}  \\\\\n",
    "\\end{array} \n",
    "\\right. \n",
    "$$"
   ]
  },
  {
   "attachments": {},
   "cell_type": "markdown",
   "metadata": {},
   "source": [
    "We try to match the first and second moment of $X((j+1)\\Delta t)-X(j\\Delta t)$ and $Z_j$, i.e. we let\n",
    "$$\n",
    "\\begin{aligned}\n",
    "(p_j^{+}-p_j^{-})\\Delta x&=\\textstyle \\int_{j\\Delta t}^{(j+1)\\Delta t}\\mu(r)\\mathrm{d}r\\\\\n",
    "(p_j^{+}+p_j^{-})(\\Delta x)^2&=\\left(\\textstyle\\int_{j\\Delta t}^{(j+1)\\Delta t}\\mu(r)\\mathrm{d}r\\right)^2+\\sigma^2\\Delta t\n",
    "\\end{aligned}\n",
    "$$\n",
    "use a first order approximation for the integral, and let $\\mu_j=\\mu(j\\Delta t)$, then \n",
    "$$\n",
    "\\begin{aligned}\n",
    "(p_j^{+}-p_j^{-})\\Delta x&=\\mu_j\\Delta t\\\\\n",
    "(p_j^{+}+p_j^{-})(\\Delta x)^2&=\\mu_j^2(\\Delta t)^2+\\sigma^2\\Delta t\n",
    "\\end{aligned}\n",
    "$$\n",
    "from which we can solve for $p_j^+$ and $p_j^-$ explicitly.\n",
    "Note that we need to take suitable values of $\\Delta t$ and $\\Delta x$ to make $p_j^+$ and $p_j^-$ meaningful."
   ]
  },
  {
   "cell_type": "code",
   "execution_count": 8,
   "metadata": {},
   "outputs": [],
   "source": [
    "class approx_hmc(object):\n",
    "    \"\"\"\n",
    "    Markov chain approximation (homogeneous case)\n",
    "    \"\"\"\n",
    "\n",
    "    def __init__(self, mu, sigma, a, z, dt, Nx, verbose=True) -> None:\n",
    "        self.mu = mu  # drift coeff (constant)\n",
    "        self.sigma = sigma  # diffusion coeff (constant)\n",
    "        self.a = a  # upper boundary\n",
    "        self.z = z  # starting point\n",
    "        self.Nx = Nx  # num of space steps\n",
    "\n",
    "        self.dt = dt\n",
    "        dx = a / Nx\n",
    "        self.dx = dx\n",
    "\n",
    "        self.idx_z = int(round(z / dx))  # index of starting point\n",
    "        self.init_dist = np.zeros(self.Nx + 2)\n",
    "        self.init_dist[self.idx_z] = 1\n",
    "\n",
    "        # transition probability matrix\n",
    "        # 0, 1, ..., Nx are transient states\n",
    "        # Nx+1 is the absorbing state\n",
    "        m1 = mu * dt\n",
    "        m2 = (mu * dt) ** 2 + sigma ** 2 * dt\n",
    "        self.p1 = (m2 / dx ** 2 + m1 / dx) / 2\n",
    "        self.p2 = (m2 / dx ** 2 - m1 / dx) / 2\n",
    "        assert self.p1 + self.p2 < 1, 'p+=%.5f, p0=%.5f, p-=%.5f' %(self.p1, 1-self.p1-self.p2, self.p2)\n",
    "        self.P = np.zeros((self.Nx + 2, self.Nx + 2))\n",
    "        self.P[0, self.Nx + 1] = 1\n",
    "        self.P[self.Nx, self.Nx + 1] = 1\n",
    "        self.P[self.Nx + 1, self.Nx + 1] = 1\n",
    "        for i in range(1, self.Nx):\n",
    "            self.P[i, i - 1] = self.p2\n",
    "            self.P[i, i] = 1 - self.p1 - self.p2\n",
    "            self.P[i, i + 1] = self.p1\n",
    "        \n",
    "        if verbose:\n",
    "            self.summary() \n",
    "\n",
    "    def ExitDist(self, T):\n",
    "        \"\"\"\n",
    "        compute the distribution of X[T]\n",
    "        where T is the first passage time\n",
    "        \"\"\"\n",
    "        dist_Xt = self.init_dist\n",
    "        idx_T = int(round(T / self.dt))\n",
    "\n",
    "        for t_step in range(idx_T):\n",
    "            dist_Xt = dist_Xt @ self.P\n",
    "        return dist_Xt\n",
    "\n",
    "    def ExitProb_dp(self, T, s):\n",
    "        \"\"\"\n",
    "        compute the probability of P(X[T]=s)\n",
    "        where t is the first passage time\n",
    "        by DYNAMIC PROGRAMMING\n",
    "        s: value in [0, a]\n",
    "        \"\"\"\n",
    "        idx_T = int(round(T / self.dt))\n",
    "        idx_s = int(round(s / self.dx))\n",
    "        table = np.zeros((idx_T - 1, self.Nx + 2))\n",
    "        table[idx_T - 2] = self.P @ self.P[:, idx_s]\n",
    "        for t_step in range(idx_T - 3, -1, -1):\n",
    "            table[t_step] = self.P @ table[t_step + 1]\n",
    "        return table[0] @ self.init_dist\n",
    "    \n",
    "    def ExitProb_logdp(self, T, s):\n",
    "        \"\"\"\n",
    "        compute the probability of P(X[T]=s) in log scale\n",
    "        where t is the first passage time\n",
    "        by DYNAMIC PROGRAMMING\n",
    "        s: value in [0, a]\n",
    "        \"\"\"\n",
    "        idx_T = int(round(T / self.dt))\n",
    "        idx_s = int(round(s / self.dx))\n",
    "        logP = np.log(self.P)\n",
    "        logtable = np.zeros((idx_T - 1, self.Nx + 2))\n",
    "        tmp = logdotexp(logP, logP[:, idx_s].reshape(-1,1))\n",
    "        logtable[idx_T - 2,:] = tmp.reshape(-1)\n",
    "        for t_step in range(idx_T - 3, -1, -1):\n",
    "            tmp = logdotexp(logP, logtable[t_step + 1].reshape(-1,1))\n",
    "            logtable[t_step] = tmp.reshape(-1)\n",
    "        logprob = logdotexp(logtable[0].reshape(1,-1), np.log(self.init_dist).reshape(-1,1))\n",
    "        return np.squeeze(np.exp(logprob))[()]\n",
    "\n",
    "    def ExitProb_test(self, T, s):\n",
    "        \"\"\"\n",
    "        compute the probability of P(X[T]=s)\n",
    "        where t is the first passage time\n",
    "        by BRUTAL FORCE (only used for testing!)\n",
    "        s: value in [0, a]\n",
    "        \"\"\"\n",
    "        idx_T = int(round(T / self.dt))\n",
    "        idx_s = int(round(s / self.dx))\n",
    "        ranges = [range(self.Nx + 2)] * (idx_T - 1)\n",
    "        prob = 0\n",
    "        for xs in itertools.product(*ranges):\n",
    "            prob_traj = self.P[self.idx_z, xs[0]] * self.P[xs[-1], idx_s]\n",
    "            for l in range(len(xs) - 1):\n",
    "                prob_traj *= self.P[xs[l], xs[l + 1]]\n",
    "            prob += prob_traj\n",
    "        return prob\n",
    "\n",
    "    def summary(self):\n",
    "        print(\"mu: %.3f\" % self.mu)\n",
    "        print(\"sigma: %.3f\" % self.sigma)\n",
    "        print(\"a: %.3f\" % self.a)\n",
    "        print(\"z: %.3f\" % self.z)\n",
    "\n",
    "        print(\"dt: %.5f\" % self.dt)\n",
    "        print(\"dx: %.5f\" % self.dx)\n",
    "        print(\"Nx: %d\" % self.Nx)\n",
    "        print(\"shape of P: \" + str(self.P.shape))\n",
    "        print(\"p+, p0, p-: %.5f, %.5f, %.5f\" % (self.p1, 1 - self.p1 - self.p2, self.p2))\n"
   ]
  },
  {
   "attachments": {},
   "cell_type": "markdown",
   "metadata": {},
   "source": [
    "Let $\\tau=\\inf\\{j\\ge0:\\tilde{X}_j=0\\text{ or }a\\}$ be the first passage time of $\\tilde{X}_j$ through the boundary.\n",
    "We want to compute \n",
    "$\\mathbb{P}(\\tilde{X}_\\tau=0)$ and $\\mathbb{P}(\\tilde{X}_\\tau=a)$.\n",
    "\n",
    "$$\n",
    "\\begin{aligned}\n",
    "\\mathbb{P}(\\tilde{X}_\\tau=0)\n",
    "&=\\sum_{x_0, x_1,\\cdots, x_{\\tau-1}} \\mathbb{P}(\\tilde{X}_\\tau=0|\\tilde{X}_{\\tau-1}=x_{\\tau-1})\\mathbb{P}(\\tilde{X}_{\\tau-1}=x_{\\tau-1}|\\tilde{X}_{\\tau-2}=x_{\\tau-2})\\cdots\\mathbb{P}(\\tilde{X}_1=x_1|\\tilde{X}_{0}=x_0)\\mathbb{P}(\\tilde{X}_{0}=x_0)\\\\\n",
    "&=\\sum_{x_0, x_1,\\cdots, x_{\\tau-2}}\\underbrace{\\sum_{x_{\\tau-1}} \\mathbb{P}(\\tilde{X}_\\tau=0|\\tilde{X}_{\\tau-1}=x_{\\tau-1})\\mathbb{P}(\\tilde{X}_{\\tau-1}=x_{\\tau-1}|\\tilde{X}_{\\tau-2}=x_{\\tau-2})}_{f_{\\tau-2}(x_{\\tau-2})}\\cdots\\mathbb{P}(\\tilde{X}_1=x_1|\\tilde{X}_{0}=x_0)\\mathbb{P}(\\tilde{X}_{0}=x_0)\\\\\n",
    "&=\\sum_{x_0, x_1,\\cdots, x_{\\tau-3}}\\underbrace{\\sum_{x_{\\tau-2}}f_{\\tau-2}(x_{\\tau-2})\\mathbb{P}(\\tilde{X}_{\\tau-2}=x_{\\tau-2}|\\tilde{X}_{\\tau-3}=x_{\\tau-3})}_{f_{\\tau-3}(x_{\\tau-3})}\\cdots\\mathbb{P}(\\tilde{X}_1=x_1|\\tilde{X}_{0}=x_0)\\mathbb{P}(\\tilde{X}_{0}=x_0)\\\\\n",
    "&=\\cdots\\\\\n",
    "&=\\sum_{x_0}\\underbrace{\\sum_{x_{1}}f_{1}(x_{1})\\mathbb{P}(\\tilde{X}_{1}=x_{1}|\\tilde{X}_{0}=x_{0})}_{f_{0}(x_{0})}\\mathbb{P}(\\tilde{X}_{0}=x_0)\\\\\n",
    "\n",
    "\\end{aligned}\n",
    "$$"
   ]
  },
  {
   "attachments": {},
   "cell_type": "markdown",
   "metadata": {},
   "source": [
    "$$\n",
    "\\begin{aligned}\n",
    "f_{\\tau-2}(x_{\\tau-2})&=\\sum_{x_{\\tau-1}} \\mathbb{P}(\\tilde{X}_\\tau=0|\\tilde{X}_{\\tau-1}=x_{\\tau-1})\\mathbb{P}(\\tilde{X}_{\\tau-1}=x_{\\tau-1}|\\tilde{X}_{\\tau-2}=x_{\\tau-2})\\\\\n",
    "&=\\sum_{x_{\\tau-1}} p_{x_{\\tau-1},0}(t_{\\tau-1})p_{x_{\\tau-2},x_{\\tau-1}}(t_{\\tau-2})\\\\\n",
    "&=\\text{row $x_{\\tau-2}$ of $P(t_{\\tau-2})$} \\cdot \\text{column 0 of $P(t_{\\tau-1})$}\\\\\n",
    "f_{\\tau-3}(x_{\\tau-3})&=\\sum_{x_{\\tau-2}} f_{\\tau-2}(x_{\\tau-2})p_{x_{\\tau-3},x_{\\tau-2}}(t_{\\tau-3})\\\\\n",
    "&=\\text{row $x_{\\tau-3}$ of $P(t_{\\tau-3})$} \\cdot f_{\\tau-2}\n",
    "\\end{aligned}$$"
   ]
  },
  {
   "attachments": {},
   "cell_type": "markdown",
   "metadata": {},
   "source": [
    "#### An example:\n",
    "$\\mu=0.2, \\sigma=1, a=4, z=2$. Set $\\Delta t=0.1, \\Delta x=0.8$, the state space $\\Omega=\\{0, 1,2,3,4,5,\\beta\\}$. The process exits boundary $a=0$ at time $1\\ \\mathrm{s}$."
   ]
  },
  {
   "cell_type": "code",
   "execution_count": 13,
   "metadata": {},
   "outputs": [
    {
     "name": "stdout",
     "output_type": "stream",
     "text": [
      "mu: 0.200\n",
      "sigma: 1.000\n",
      "a: 4.000\n",
      "z: 2.000\n",
      "dt: 0.00100\n",
      "dx: 0.04000\n",
      "Nx: 100\n",
      "shape of P: (102, 102)\n",
      "p+, p0, p-: 0.31501, 0.37498, 0.31001\n"
     ]
    }
   ],
   "source": [
    "mc1 = approx_hmc(mu=0.2, sigma=1, a=4, z=2, dt=0.001, Nx=100)"
   ]
  },
  {
   "cell_type": "code",
   "execution_count": 14,
   "metadata": {},
   "outputs": [
    {
     "data": {
      "text/plain": [
       "array([7.09734097e-05, 2.29046908e-04, 4.62140012e-04, 6.99696902e-04,\n",
       "       9.42136766e-04, 1.18987490e-03, 1.44331708e-03, 1.70285383e-03,\n",
       "       1.96885467e-03, 2.24166230e-03, 2.52158688e-03, 2.80890035e-03,\n",
       "       3.10383096e-03, 3.40655787e-03, 3.71720609e-03, 4.03584171e-03,\n",
       "       4.36246737e-03, 4.69701827e-03, 5.03935845e-03, 5.38927775e-03,\n",
       "       5.74648915e-03, 6.11062673e-03, 6.48124433e-03, 6.85781471e-03,\n",
       "       7.23972953e-03, 7.62629996e-03, 8.01675804e-03, 8.41025877e-03,\n",
       "       8.80588294e-03, 9.20264072e-03, 9.59947597e-03, 9.99527127e-03,\n",
       "       1.03888536e-02, 1.07790008e-02, 1.11644485e-02, 1.15438977e-02,\n",
       "       1.19160227e-02, 1.22794799e-02, 1.26329163e-02, 1.29749793e-02,\n",
       "       1.33043252e-02, 1.36196295e-02, 1.39195963e-02, 1.42029673e-02,\n",
       "       1.44685319e-02, 1.47151358e-02, 1.49416898e-02, 1.51471784e-02,\n",
       "       1.53306674e-02, 1.54913111e-02, 1.56283589e-02, 1.57411609e-02,\n",
       "       1.58291730e-02, 1.58919609e-02, 1.59292029e-02, 1.59406925e-02,\n",
       "       1.59263391e-02, 1.58861684e-02, 1.58203211e-02, 1.57290514e-02,\n",
       "       1.56127236e-02, 1.54718082e-02, 1.53068774e-02, 1.51185986e-02,\n",
       "       1.49077283e-02, 1.46751044e-02, 1.44216379e-02, 1.41483045e-02,\n",
       "       1.38561349e-02, 1.35462050e-02, 1.32196259e-02, 1.28775335e-02,\n",
       "       1.25210777e-02, 1.21514120e-02, 1.17696824e-02, 1.13770177e-02,\n",
       "       1.09745185e-02, 1.05632476e-02, 1.01442207e-02, 9.71839694e-03,\n",
       "       9.28667080e-03, 8.84986425e-03, 8.40871968e-03, 7.96389371e-03,\n",
       "       7.51595169e-03, 7.06536324e-03, 6.61249859e-03, 6.15762596e-03,\n",
       "       5.70090990e-03, 5.24241057e-03, 4.78208417e-03, 4.31978418e-03,\n",
       "       3.85526383e-03, 3.38817939e-03, 2.91809454e-03, 2.44448566e-03,\n",
       "       1.96674803e-03, 1.48420300e-03, 9.96105887e-04, 5.01654775e-04,\n",
       "       1.57951869e-04, 9.67315249e-02])"
      ]
     },
     "execution_count": 14,
     "metadata": {},
     "output_type": "execute_result"
    }
   ],
   "source": [
    "T = 1\n",
    "mc1.ExitDist(T)"
   ]
  },
  {
   "cell_type": "code",
   "execution_count": 15,
   "metadata": {},
   "outputs": [
    {
     "data": {
      "text/plain": [
       "[7.097340971759213e-05,\n",
       " 0.00022904690756461558,\n",
       " 0.00046214001153920133,\n",
       " 0.0006996969015345604,\n",
       " 0.0009421367657166566,\n",
       " 0.001189874899575172,\n",
       " 0.001443317077940867,\n",
       " 0.0017028538313321525,\n",
       " 0.0019688546697718134,\n",
       " 0.002241662299129448,\n",
       " 0.0025215868767813877,\n",
       " 0.0028089003549015452,\n",
       " 0.00310383096096401,\n",
       " 0.003406557866008955,\n",
       " 0.003717206091853694,\n",
       " 0.004035841708675962,\n",
       " 0.004362467374212339,\n",
       " 0.004697018265159373,\n",
       " 0.005039358450198579,\n",
       " 0.005389277752354676,\n",
       " 0.005746489146109565,\n",
       " 0.0061106267318107215,\n",
       " 0.0064812443264173555,\n",
       " 0.006857814705516236,\n",
       " 0.00723972952681631,\n",
       " 0.007626299960013857,\n",
       " 0.00801675804203389,\n",
       " 0.008410258770240221,\n",
       " 0.008805882939314644,\n",
       " 0.009202640720199606,\n",
       " 0.009599475971850766,\n",
       " 0.009995271268641298,\n",
       " 0.010388853618191668,\n",
       " 0.010779000836268485,\n",
       " 0.011164448537313104,\n",
       " 0.01154389769123793,\n",
       " 0.011916022689482232,\n",
       " 0.012279479856068226,\n",
       " 0.012632916332658145,\n",
       " 0.012974979260497614,\n",
       " 0.013304325176748557,\n",
       " 0.01361962953816545,\n",
       " 0.013919596281443462,\n",
       " 0.014202967326944992,\n",
       " 0.014468531930956992,\n",
       " 0.014715135791197573,\n",
       " 0.014941689811008468,\n",
       " 0.015147178429559793,\n",
       " 0.01533066742845173,\n",
       " 0.015491311129305506,\n",
       " 0.015628358902257,\n",
       " 0.01574116091164179,\n",
       " 0.015829173032520592,\n",
       " 0.01589196087994722,\n",
       " 0.015929202901925718,\n",
       " 0.015940692496720494,\n",
       " 0.015926339125446682,\n",
       " 0.0158861684015414,\n",
       " 0.015820321149654475,\n",
       " 0.01572905143755782,\n",
       " 0.015612723595702004,\n",
       " 0.015471808249906238,\n",
       " 0.015306877403205552,\n",
       " 0.015118598612965668,\n",
       " 0.01490772831888024,\n",
       " 0.014675104386272682,\n",
       " 0.014421637937131724,\n",
       " 0.014148304548425132,\n",
       " 0.013856134903388512,\n",
       " 0.013546204986615937,\n",
       " 0.013219625917848036,\n",
       " 0.012877533522336792,\n",
       " 0.012521077737560572,\n",
       " 0.01215141195687638,\n",
       " 0.011769682410457312,\n",
       " 0.011377017682612787,\n",
       " 0.010974518462378204,\n",
       " 0.010563247621160307,\n",
       " 0.010144220707302814,\n",
       " 0.00971839694278195,\n",
       " 0.009286670801936233,\n",
       " 0.008849864246273483,\n",
       " 0.00840871968306879,\n",
       " 0.007963893708763414,\n",
       " 0.007515951691181943,\n",
       " 0.007065363237386931,\n",
       " 0.006612498586662918,\n",
       " 0.0061576259607345986,\n",
       " 0.005700909895935956,\n",
       " 0.005242410574711273,\n",
       " 0.0047820841665845385,\n",
       " 0.0043197841816144745,\n",
       " 0.003855263832379269,\n",
       " 0.0033881793937223658,\n",
       " 0.002918094542844195,\n",
       " 0.0024444856558430124,\n",
       " 0.001966748030485562,\n",
       " 0.0014842029988139584,\n",
       " 0.0009961058871578335,\n",
       " 0.0005016547752070776,\n",
       " 0.0001579518693778482]"
      ]
     },
     "execution_count": 15,
     "metadata": {},
     "output_type": "execute_result"
    }
   ],
   "source": [
    "[mc1.ExitProb_dp(T, i*mc1.dx) for i in range(mc1.Nx+1)]"
   ]
  },
  {
   "cell_type": "code",
   "execution_count": 16,
   "metadata": {},
   "outputs": [
    {
     "name": "stderr",
     "output_type": "stream",
     "text": [
      "/users/sliu167/anaconda/ddm/lib/python3.7/site-packages/ipykernel_launcher.py:77: RuntimeWarning: divide by zero encountered in log\n",
      "/users/sliu167/anaconda/ddm/lib/python3.7/site-packages/ipykernel_launcher.py:84: RuntimeWarning: divide by zero encountered in log\n"
     ]
    },
    {
     "data": {
      "text/plain": [
       "[7.097340971759077e-05,\n",
       " 0.0002290469075646202,\n",
       " 0.00046214001153923207,\n",
       " 0.0006996969015346306,\n",
       " 0.0009421367657167708,\n",
       " 0.0011898748995753362,\n",
       " 0.001443317077941074,\n",
       " 0.0017028538313324,\n",
       " 0.001968854669772102,\n",
       " 0.0022416622991297754,\n",
       " 0.0025215868767817624,\n",
       " 0.0028089003549019633,\n",
       " 0.0031038309609644735,\n",
       " 0.0034065578660094583,\n",
       " 0.0037172060918542332,\n",
       " 0.00403584170867656,\n",
       " 0.004362467374212962,\n",
       " 0.004697018265160051,\n",
       " 0.005039358450199304,\n",
       " 0.005389277752355456,\n",
       " 0.00574648914611036,\n",
       " 0.006110626731811585,\n",
       " 0.006481244326418258,\n",
       " 0.006857814705517171,\n",
       " 0.007239729526817282,\n",
       " 0.007626299960014897,\n",
       " 0.008016758042034966,\n",
       " 0.008410258770241328,\n",
       " 0.00880588293931581,\n",
       " 0.009202640720200824,\n",
       " 0.009599475971852026,\n",
       " 0.009995271268642582,\n",
       " 0.01038885361819302,\n",
       " 0.010779000836269858,\n",
       " 0.011164448537314547,\n",
       " 0.011543897691239384,\n",
       " 0.011916022689483717,\n",
       " 0.012279479856069758,\n",
       " 0.012632916332659724,\n",
       " 0.012974979260499186,\n",
       " 0.013304325176750188,\n",
       " 0.013619629538167094,\n",
       " 0.013919596281445122,\n",
       " 0.014202967326946698,\n",
       " 0.014468531930958725,\n",
       " 0.014715135791199306,\n",
       " 0.014941689811010198,\n",
       " 0.015147178429561588,\n",
       " 0.01533066742845354,\n",
       " 0.015491311129307343,\n",
       " 0.015628358902258846,\n",
       " 0.015741160911643636,\n",
       " 0.015829173032522424,\n",
       " 0.015891960879949055,\n",
       " 0.0159292029019276,\n",
       " 0.01594069249672231,\n",
       " 0.015926339125448545,\n",
       " 0.01588616840154329,\n",
       " 0.01582032114965634,\n",
       " 0.01572905143755964,\n",
       " 0.015612723595703846,\n",
       " 0.015471808249908018,\n",
       " 0.015306877403207358,\n",
       " 0.015118598612967458,\n",
       " 0.014907728318881987,\n",
       " 0.014675104386274436,\n",
       " 0.014421637937133433,\n",
       " 0.014148304548426839,\n",
       " 0.013856134903390209,\n",
       " 0.013546204986617592,\n",
       " 0.01321962591784967,\n",
       " 0.012877533522338358,\n",
       " 0.012521077737562156,\n",
       " 0.012151411956877887,\n",
       " 0.011769682410458813,\n",
       " 0.011377017682614255,\n",
       " 0.010974518462379578,\n",
       " 0.010563247621161677,\n",
       " 0.01014422070730413,\n",
       " 0.009718396942783225,\n",
       " 0.00928667080193746,\n",
       " 0.008849864246274665,\n",
       " 0.00840871968306993,\n",
       " 0.007963893708764507,\n",
       " 0.007515951691182999,\n",
       " 0.007065363237387937,\n",
       " 0.006612498586663857,\n",
       " 0.006157625960735486,\n",
       " 0.005700909895936789,\n",
       " 0.0052424105747120465,\n",
       " 0.004782084166585248,\n",
       " 0.004319784181615126,\n",
       " 0.003855263832379855,\n",
       " 0.003388179393722884,\n",
       " 0.0029180945428446555,\n",
       " 0.002444485655843398,\n",
       " 0.0019667480304858646,\n",
       " 0.0014842029988141822,\n",
       " 0.0009961058871579586,\n",
       " 0.0005016547752071035,\n",
       " 0.00015795186937784587]"
      ]
     },
     "execution_count": 16,
     "metadata": {},
     "output_type": "execute_result"
    }
   ],
   "source": [
    "[mc1.ExitProb_logdp(T, i*mc1.dx) for i in range(mc1.Nx+1)]"
   ]
  },
  {
   "cell_type": "code",
   "execution_count": 19,
   "metadata": {},
   "outputs": [
    {
     "data": {
      "text/plain": [
       "[0.011615128512935207,\n",
       " 0.1719825062094189,\n",
       " 0.33317925015201594,\n",
       " 0.2580708149203154,\n",
       " 0.10649939955506589,\n",
       " 0.008936387769429505]"
      ]
     },
     "execution_count": 19,
     "metadata": {},
     "output_type": "execute_result"
    }
   ],
   "source": [
    "[mc1.ExitProb_test(T, i*mc1.dx) for i in range(mc1.Nx+1)]"
   ]
  },
  {
   "attachments": {},
   "cell_type": "markdown",
   "metadata": {},
   "source": [
    "The first passage"
   ]
  },
  {
   "cell_type": "code",
   "execution_count": 17,
   "metadata": {},
   "outputs": [],
   "source": [
    "def LogLikelihood(chain, data):\n",
    "    \"\"\"\n",
    "    compute the likelihood: product of P(X(Tk)=Ck)\n",
    "    \"\"\"\n",
    "    logprob = 0 \n",
    "    for Ck, Tk in data:\n",
    "        logprob += np.log(chain.ExitProb_logdp(Tk, Ck))\n",
    "        if np.isinf(logprob):\n",
    "            raise ValueError('Infty detected, computation is stopped.')\n",
    "    return logprob"
   ]
  },
  {
   "cell_type": "code",
   "execution_count": 18,
   "metadata": {},
   "outputs": [
    {
     "name": "stderr",
     "output_type": "stream",
     "text": [
      "/users/sliu167/anaconda/ddm/lib/python3.7/site-packages/ipykernel_launcher.py:77: RuntimeWarning: divide by zero encountered in log\n",
      "/users/sliu167/anaconda/ddm/lib/python3.7/site-packages/ipykernel_launcher.py:84: RuntimeWarning: divide by zero encountered in log\n"
     ]
    },
    {
     "data": {
      "text/plain": [
       "-977.9802309749736"
      ]
     },
     "execution_count": 18,
     "metadata": {},
     "output_type": "execute_result"
    }
   ],
   "source": [
    "LogLikelihood(mc1, data)"
   ]
  },
  {
   "cell_type": "code",
   "execution_count": null,
   "metadata": {},
   "outputs": [],
   "source": []
  },
  {
   "cell_type": "code",
   "execution_count": 22,
   "metadata": {},
   "outputs": [
    {
     "name": "stderr",
     "output_type": "stream",
     "text": [
      "/users/sliu167/anaconda/ddm/lib/python3.7/site-packages/ipykernel_launcher.py:77: RuntimeWarning: divide by zero encountered in log\n",
      "/users/sliu167/anaconda/ddm/lib/python3.7/site-packages/ipykernel_launcher.py:84: RuntimeWarning: divide by zero encountered in log\n"
     ]
    }
   ],
   "source": [
    "mu_list = np.arange(-1, 1, 0.005)\n",
    "probs_list = []\n",
    "for mu in mu_list:\n",
    "    chain = approx_hmc(mu=mu, sigma=1, a=4, z=2, dt=0.001, Nx=100, verbose=False)\n",
    "    probs_list.append(LogLikelihood(chain, data))"
   ]
  },
  {
   "cell_type": "code",
   "execution_count": 18,
   "metadata": {},
   "outputs": [
    {
     "name": "stdout",
     "output_type": "stream",
     "text": [
      "[-842.625348753441, -837.6587949742149, -832.7260207109962, -827.8272367825657, -822.9626521393452, -818.1324738548898, -813.33690711781, -808.5761552241154, -803.8504195699339, -799.1598996446588, -794.5047930244721, -789.8852953662571, -785.3016004018947, -780.7538999329271, -776.2423838255935, -771.7672400062246, -767.3286544569901, -762.9268112119832, -758.5618923536664, -754.2340780096216, -749.9435463496433, -745.690473583146, -741.4750339568712, -737.2973997529132, -733.1577412870206, -729.0562269071994, -724.9930229925903, -720.9682939526151, -716.9822022263926, -713.0349082824065, -709.1265706184214, -705.2573457616369, -701.4273882690883, -697.6368507282531, -693.8858837578905, -690.1746360090797, -686.503254166463, -682.8718829496862, -679.2806651150285, -675.7297414571923, -672.2192508112895, -668.7493300549689, -665.3201141107172, -661.9317359482958, -658.58432658732, -655.2780150999781, -652.0129286138681, -648.789192314962, -645.6069294506702, -642.4662613330181, -639.3673073419205, -636.3101849285375, -633.2950096187253, -630.321895016549, -627.3909528078774, -624.5022927640354, -621.6560227455091, -618.852248705707, -616.0910746947561, -613.3726028633452, -610.6969334665856, -608.0641648679069, -605.4743935429694, -602.9277140835798, -600.4242192016259, -597.9639997330011, -595.5471446415319, -593.1737410228895, -590.8438741084933, -588.5576272693751, -586.3150820200441, -584.1163180222958, -581.9614130889979, -579.8504431878323, -577.7834824449876, -575.7606031488065, -573.7818757533724, -571.8473688820445, -569.9571493309196, -568.1112820722323, -566.3098302576833, -564.5528552216924, -562.8404164845646, -561.1725717555878, -559.5493769360259, -557.9708861220429, -556.4371516075133, -554.9482238867483, -553.5041516571232, -552.1049818216002, -550.7507594911378, -549.4415279870116, -548.1773288430091, -546.9582018075172, -545.7841848454985, -544.6553141403467, -543.5716240956255, -542.5331473366874, -541.5399147121693, -540.5919552953654, -539.689296385472, -538.8319635087139, -538.019980419332, -537.2533691004506, -536.5321497648121, -535.856340855382, -535.2259590458219, -534.641019240832, -534.1015345763552, -533.6075164196685, -533.1589743693098, -532.755916254903, -532.398348136837, -532.0862743058076, -531.8196972822358, -531.5986178155542, -531.4230348833629, -531.2929456904474, -531.2083456676759, -531.1692284707724, -531.175585978944, -531.2274082934089, -531.3246837357761, -531.467398846318, -531.6555383821174, -531.889085315091, -532.1680208298994, -532.4923243217461, -532.861973394056, -533.2769438560433, -533.7372097201784, -534.2427431995386, -534.7935147050683, -535.3894928427262, -536.0306444105421, -536.7169343955792, -537.4483259708022, -538.2247804918603, -539.0462574937841, -539.912714687602, -540.8241079568826, -541.7803913541954, -542.7815170975135, -543.8274355665395, -544.9180952989789, -546.0534429867519, -547.2334234721537, -548.4579797439679, -549.7270529335339, -551.0405823107777, -552.3985052802091, -553.8007573768875, -555.2472722623714, -556.7379817206324, -558.2728156539805, -559.8517020789599, -561.4745671222519, -563.141335016582, -564.8519280966331, -566.6062667949748, -568.4042696380121, -570.2458532419612, -572.1309323088602, -574.059419622618, -576.0312260451027, -578.0462605122917, -580.1044300304725, -582.2056396725118, -584.3497925741889, -586.5367899306176, -588.7665309927493, -591.0389130639543, -593.3538314967249, -595.7111796894638, -598.1108490833925, -600.5527291595815, -603.0367074360986, -605.5626694652992, -608.1304988312515, -610.7400771473107, -613.3912840538485, -616.083997216147, -618.8180923224553, -621.5934430822307, -624.4099212245586, -627.2673964967692, -630.1657366632419, -633.1048075044289, -636.0844728160856, -639.1045944087182, -642.1650321072668, -645.2656437510159, -648.4062851937537, -651.5868103041737, -654.807070966543, -658.0669170816204, -661.3661965678571, -664.7047553628678, -668.0824374251897, -671.4990847363333]\n"
     ]
    }
   ],
   "source": [
    "print(probs_list)"
   ]
  },
  {
   "cell_type": "code",
   "execution_count": 19,
   "metadata": {},
   "outputs": [
    {
     "data": {
      "text/plain": [
       "[<matplotlib.lines.Line2D at 0x7fcd7ce5fc90>]"
      ]
     },
     "execution_count": 19,
     "metadata": {},
     "output_type": "execute_result"
    },
    {
     "data": {
      "image/png": "[encoded data removed]",
      "text/plain": [
       "<Figure size 640x480 with 1 Axes>"
      ]
     },
     "metadata": {},
     "output_type": "display_data"
    }
   ],
   "source": [
    "plt.plot(mu_list, probs_list)"
   ]
  },
  {
   "cell_type": "code",
   "execution_count": 20,
   "metadata": {},
   "outputs": [
    {
     "data": {
      "text/plain": [
       "0.19000000000000106"
      ]
     },
     "execution_count": 20,
     "metadata": {},
     "output_type": "execute_result"
    }
   ],
   "source": [
    "mu_list[np.argmax(probs_list)]"
   ]
  },
  {
   "cell_type": "code",
   "execution_count": null,
   "metadata": {},
   "outputs": [],
   "source": []
  },
  {
   "cell_type": "code",
   "execution_count": null,
   "metadata": {},
   "outputs": [],
   "source": []
  }
 ],
 "metadata": {
  "kernelspec": {
   "display_name": "Python 3",
   "language": "python",
   "name": "python3"
  },
  "language_info": {
   "codemirror_mode": {
    "name": "ipython",
    "version": 3
   },
   "file_extension": ".py",
   "mimetype": "text/x-python",
   "name": "python",
   "nbconvert_exporter": "python",
   "pygments_lexer": "ipython3",
   "version": "3.10.9"
  },
  "orig_nbformat": 4,
  "vscode": {
   "interpreter": {
    "hash": "7a3245a4b686fd2fdbd1b5c162174e035883b1b6fd5d1f00baffc0130b83a564"
   }
  }
 },
 "nbformat": 4,
 "nbformat_minor": 2
}
