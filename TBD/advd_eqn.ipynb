{
 "cells": [
  {
   "cell_type": "code",
   "execution_count": 4,
   "metadata": {},
   "outputs": [
    {
     "name": "stderr",
     "output_type": "stream",
     "text": [
      "\u001b[32m\u001b[1m  Activating\u001b[22m\u001b[39m project at `~/JuliaEnvs/numerics`\n"
     ]
    }
   ],
   "source": [
    "using Pkg\n",
    "Pkg.activate(homedir() * \"/JuliaEnvs/numerics\")\n",
    "using ApproxFun, Polynomials\n"
   ]
  },
  {
   "cell_type": "code",
   "execution_count": 11,
   "metadata": {},
   "outputs": [
    {
     "ename": "LoadError",
     "evalue": "invalid redefinition of constant bc",
     "output_type": "error",
     "traceback": [
      "invalid redefinition of constant bc",
      "",
      "Stacktrace:",
      " [1] top-level scope",
      "   @ In[11]:12"
     ]
    }
   ],
   "source": [
    "using LinearAlgebra\n",
    "using Plots\n",
    "\n",
    "# 设置初始条件和边界条件\n",
    "L = 1.0 # 区间长度\n",
    "N = 100 # 离散化点数\n",
    "t_end = 0.1 # 时间终点\n",
    "dt = 0.0001 # 时间步长\n",
    "\n",
    "x = range(-1, 1, length=N+2)[2:end-1] # 离散化空间点\n",
    "T = zeros(N) # 初始温度\n",
    "bc = zeros(N) # 边界条件\n",
    "\n",
    "# 设置初始条件和边界条件\n",
    "T .= sin.(π * x)\n",
    "bc .= 0.0\n",
    "\n",
    "# 定义Chebyshev多项式及其求导函数\n",
    "function Tn(n::Int, x::Vector{T}) where T\n",
    "    if n == 0\n",
    "        return ones(T, length(x))\n",
    "    elseif n == 1\n",
    "        return x\n",
    "    else\n",
    "        return 2 * x .* Tn(n-1, x) .- Tn(n-2, x)\n",
    "    end\n",
    "end\n",
    "\n",
    "function dTn(n::Int, x::Vector{T}) where T\n",
    "    return n * (Tn(n-1, x) .+ x .* dTn(n-1, x)) ./ (1 .- x.^2)\n",
    "end\n",
    "\n",
    "# 计算Chebyshev-Galerkin矩阵\n",
    "function compute_A(N::Int)\n",
    "    A = zeros(N, N)\n",
    "    for n = 1:N, m = 1:N\n",
    "        if n == m\n",
    "            A[n, m] = 2 / (1 - x[n]^2)\n",
    "        else\n",
    "            A[n, m] = (Tn(n, x) .* dTn(m, x)) |> sum\n",
    "        end\n",
    "    end\n",
    "    return A\n",
    "end\n",
    "\n",
    "A = compute_A(N)\n",
    "\n",
    "# 显示初始温度分布\n",
    "plot(x, T, label=\"t=0\", xlabel=\"x\", ylabel=\"T(x)\")\n",
    "\n",
    "# 使用显式欧拉方法求解时间演化\n",
    "for t = dt:dt:t_end\n",
    "    T += dt * A * T\n",
    "    T[1] = bc[1] # 左边界\n",
    "    T[end] = bc[end] # 右边界\n",
    "\n",
    "    # 显示温度随时间的变化\n",
    "    if t == 0.01 || t == 0.05 || t == 0.1\n",
    "        plot!(x, T, label=\"t=$t\")\n",
    "    end\n",
    "end\n",
    "\n",
    "# 显示最终温度分布\n",
    "plot!(x, T, label=\"t=$t_end\", legend=:bottomright)\n"
   ]
  },
  {
   "cell_type": "code",
   "execution_count": null,
   "metadata": {},
   "outputs": [],
   "source": []
  }
 ],
 "metadata": {
  "kernelspec": {
   "display_name": "Julia 1.8.2",
   "language": "julia",
   "name": "julia-1.8"
  },
  "language_info": {
   "file_extension": ".jl",
   "mimetype": "application/julia",
   "name": "julia",
   "version": "1.8.2"
  },
  "orig_nbformat": 4
 },
 "nbformat": 4,
 "nbformat_minor": 2
}
